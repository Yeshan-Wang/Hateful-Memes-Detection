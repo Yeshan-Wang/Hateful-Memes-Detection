{
  "cells": [
    {
      "cell_type": "code",
      "execution_count": 1,
      "id": "3a728816-8439-4744-b0ef-f71834902406",
      "metadata": {
        "colab": {
          "base_uri": "https://localhost:8080/"
        },
        "id": "3a728816-8439-4744-b0ef-f71834902406",
        "outputId": "465e820e-fed7-4c95-96cb-77d4606683dc"
      },
      "outputs": [
        {
          "output_type": "stream",
          "name": "stdout",
          "text": [
            "Wed Jul 19 21:34:07 2023       \n",
            "+-----------------------------------------------------------------------------+\n",
            "| NVIDIA-SMI 525.105.17   Driver Version: 525.105.17   CUDA Version: 12.0     |\n",
            "|-------------------------------+----------------------+----------------------+\n",
            "| GPU  Name        Persistence-M| Bus-Id        Disp.A | Volatile Uncorr. ECC |\n",
            "| Fan  Temp  Perf  Pwr:Usage/Cap|         Memory-Usage | GPU-Util  Compute M. |\n",
            "|                               |                      |               MIG M. |\n",
            "|===============================+======================+======================|\n",
            "|   0  NVIDIA A100-SXM...  Off  | 00000000:00:04.0 Off |                    0 |\n",
            "| N/A   33C    P0    43W / 400W |      0MiB / 40960MiB |      0%      Default |\n",
            "|                               |                      |             Disabled |\n",
            "+-------------------------------+----------------------+----------------------+\n",
            "                                                                               \n",
            "+-----------------------------------------------------------------------------+\n",
            "| Processes:                                                                  |\n",
            "|  GPU   GI   CI        PID   Type   Process name                  GPU Memory |\n",
            "|        ID   ID                                                   Usage      |\n",
            "|=============================================================================|\n",
            "|  No running processes found                                                 |\n",
            "+-----------------------------------------------------------------------------+\n"
          ]
        }
      ],
      "source": [
        "!nvidia-smi"
      ]
    },
    {
      "cell_type": "code",
      "execution_count": 2,
      "id": "ff84dfc3-14b3-4e9c-a84e-45d220bc57d6",
      "metadata": {
        "colab": {
          "base_uri": "https://localhost:8080/"
        },
        "id": "ff84dfc3-14b3-4e9c-a84e-45d220bc57d6",
        "outputId": "548ccb84-d65f-4c02-e690-a81f3d9fbbf4"
      },
      "outputs": [
        {
          "output_type": "stream",
          "name": "stdout",
          "text": [
            "Mounted at /content/drive\n"
          ]
        }
      ],
      "source": [
        "from google.colab import drive\n",
        "drive.mount('/content/drive')\n",
        "\n",
        "! unzip -q '/content/drive/MyDrive/hateful_memes.zip' -d '/content/data'"
      ]
    },
    {
      "cell_type": "code",
      "execution_count": 3,
      "id": "fcd350b4-79f8-4b8b-8d27-e58893fca8f5",
      "metadata": {
        "id": "fcd350b4-79f8-4b8b-8d27-e58893fca8f5",
        "colab": {
          "base_uri": "https://localhost:8080/"
        },
        "outputId": "3aeef79e-cfa4-41bc-f7ba-77f55e5506a6"
      },
      "outputs": [
        {
          "output_type": "stream",
          "name": "stdout",
          "text": [
            "\u001b[?25l     \u001b[90m━━━━━━━━━━━━━━━━━━━━━━━━━━━━━━━━━━━━━━━━\u001b[0m \u001b[32m0.0/53.1 kB\u001b[0m \u001b[31m?\u001b[0m eta \u001b[36m-:--:--\u001b[0m\r\u001b[2K     \u001b[90m━━━━━━━━━━━━━━━━━━━━━━━━━━━━━━━━━━━━━━━━\u001b[0m \u001b[32m53.1/53.1 kB\u001b[0m \u001b[31m1.6 MB/s\u001b[0m eta \u001b[36m0:00:00\u001b[0m\n",
            "\u001b[?25h  Preparing metadata (setup.py) ... \u001b[?25l\u001b[?25hdone\n",
            "  Building wheel for clip (setup.py) ... \u001b[?25l\u001b[?25hdone\n"
          ]
        }
      ],
      "source": [
        "! pip install --quiet ftfy regex tqdm\n",
        "! pip install --quiet git+https://github.com/openai/CLIP.git"
      ]
    },
    {
      "cell_type": "code",
      "execution_count": 4,
      "id": "f7588592-aa07-4e30-814b-adf3f7094b4b",
      "metadata": {
        "id": "f7588592-aa07-4e30-814b-adf3f7094b4b"
      },
      "outputs": [],
      "source": [
        "import os\n",
        "import csv\n",
        "import json\n",
        "import pandas as pd\n",
        "import numpy as np\n",
        "import matplotlib.image as img\n",
        "\n",
        "import torch\n",
        "import torch.nn as nn\n",
        "from torch.utils.data import DataLoader\n",
        "\n",
        "import torchvision\n",
        "from torchvision import transforms as T\n",
        "import torchvision.transforms.functional as F\n",
        "\n",
        "import cv2\n",
        "import clip\n",
        "from tqdm import tqdm\n",
        "from PIL import Image\n",
        "from sklearn.metrics import roc_auc_score"
      ]
    },
    {
      "cell_type": "markdown",
      "source": [
        "## 1. Integrate image captioning features as another column to the dataset"
      ],
      "metadata": {
        "id": "ASvOKpKoKlHi"
      },
      "id": "ASvOKpKoKlHi"
    },
    {
      "cell_type": "code",
      "source": [
        "# Read the caption information and store them in a dictionary using img path as key\n",
        "caption = {}\n",
        "with open('/content/drive/MyDrive/BLIP_2_caption.csv', 'r') as csvfile:\n",
        "  csvreader = csv.reader(csvfile)\n",
        "  for row in csvreader:\n",
        "    caption[row[0]] = row[1]\n",
        "\n",
        "file_path = ['/content/data/hateful_memes/train.jsonl',\n",
        "             '/content/data/hateful_memes/dev_seen.jsonl',\n",
        "             '/content/data/hateful_memes/test_seen.jsonl']\n",
        "\n",
        "for path in file_path:\n",
        "  # Add caption information as another column to the dataset\n",
        "  data = []\n",
        "  with open(path, 'r') as jsonfile:\n",
        "    for line in jsonfile:\n",
        "      data.append(json.loads(line))\n",
        "\n",
        "  combined_data = []\n",
        "  for item in data:\n",
        "    img = item['img']\n",
        "    combined_data.append({'id': item['id'], 'img': img, 'label': item['label'], 'text': item['text'], 'caption': caption[img]})\n",
        "\n",
        "  os.remove(path)\n",
        "  with open(path, 'w') as file:\n",
        "    for i in combined_data:\n",
        "      file.write(json.dumps(i) + '\\n')"
      ],
      "metadata": {
        "id": "w4qCI6QOLb8k"
      },
      "id": "w4qCI6QOLb8k",
      "execution_count": 5,
      "outputs": []
    },
    {
      "cell_type": "markdown",
      "id": "7a8c9bb2-0949-422c-9d30-7069ad357881",
      "metadata": {
        "id": "7a8c9bb2-0949-422c-9d30-7069ad357881"
      },
      "source": [
        "## 2. Load dataset"
      ]
    },
    {
      "cell_type": "code",
      "source": [
        "class ScaleMaxSideToSize(object):\n",
        "  def __init__(self, size):\n",
        "    self.size = size\n",
        "\n",
        "  def __call__(self, sample):\n",
        "    sample = cv2.resize(sample, (self.size, self.size), interpolation=cv2.INTER_AREA)\n",
        "\n",
        "    return sample\n",
        "\n",
        "\n",
        "class CropCenter(object):\n",
        "  def __init__(self, size):\n",
        "    self.size = size\n",
        "\n",
        "  def __call__(self, sample):\n",
        "    img = sample\n",
        "    h, w, _ = img.shape\n",
        "    margin_h = (h - self.size) // 2\n",
        "    margin_w = (w - self.size) // 2\n",
        "    sample = img[margin_h:margin_h + self.size, margin_w:margin_w + self.size]\n",
        "\n",
        "    return sample"
      ],
      "metadata": {
        "id": "CcaiFYZFpTj9"
      },
      "id": "CcaiFYZFpTj9",
      "execution_count": 6,
      "outputs": []
    },
    {
      "cell_type": "code",
      "execution_count": 7,
      "id": "c106a57e-b40b-4769-8b23-3c55d76092c3",
      "metadata": {
        "id": "c106a57e-b40b-4769-8b23-3c55d76092c3"
      },
      "outputs": [],
      "source": [
        "class Load_Dataset(torch.utils.data.Dataset):\n",
        "  def __init__(self, data_path, transforms):\n",
        "    self.data = [json.loads(l) for l in open(data_path)]\n",
        "    self.data_dir = os.path.dirname(data_path)\n",
        "    self.transforms = transforms\n",
        "\n",
        "  def __getitem__(self, index: int):\n",
        "    path = os.path.join(self.data_dir, self.data[index][\"img\"])\n",
        "    image = cv2.imread(path)\n",
        "    image = cv2.cvtColor(image, cv2.COLOR_BGR2RGB)\n",
        "\n",
        "    id = self.data[index][\"id\"]\n",
        "    text = self.data[index][\"text\"]\n",
        "    label = self.data[index][\"label\"]\n",
        "    caption = self.data[index][\"caption\"]\n",
        "\n",
        "    if self.transforms is not None:\n",
        "        image = self.transforms(image)\n",
        "\n",
        "    return id, image, text, label, caption\n",
        "\n",
        "  def __len__(self):\n",
        "    return len(self.data)"
      ]
    },
    {
      "cell_type": "code",
      "execution_count": 8,
      "id": "dd0066bd-8704-4da6-a3b7-20b93ce65864",
      "metadata": {
        "id": "dd0066bd-8704-4da6-a3b7-20b93ce65864"
      },
      "outputs": [],
      "source": [
        "CROP_SIZE = 224\n",
        "MEAN = torch.tensor([0.485, 0.456, 0.406])\n",
        "STD = torch.tensor([0.229, 0.224, 0.225])\n",
        "\n",
        "transforms = T.Compose([\n",
        "    ScaleMaxSideToSize(CROP_SIZE),\n",
        "    CropCenter(CROP_SIZE),\n",
        "    T.ToTensor(),\n",
        "    T.Normalize(mean=MEAN, std=STD)])\n",
        "\n",
        "\n",
        "train_path = '/content/data/hateful_memes/train.jsonl'\n",
        "train_dataset = Load_Dataset(train_path, transforms)\n",
        "\n",
        "dev_path = '/content/data/hateful_memes/dev_seen.jsonl'\n",
        "dev_dataset = Load_Dataset(dev_path, transforms)\n",
        "\n",
        "test_path = '/content/data/hateful_memes/test_seen.jsonl'\n",
        "test_dataset = Load_Dataset(test_path, transforms)"
      ]
    },
    {
      "cell_type": "markdown",
      "id": "ce4b17f6-8ed7-4d2f-bcef-264d36e4acbf",
      "metadata": {
        "id": "ce4b17f6-8ed7-4d2f-bcef-264d36e4acbf"
      },
      "source": [
        "## 3. Use CLIP to encode each modality to get image, text and caption features"
      ]
    },
    {
      "cell_type": "code",
      "execution_count": 9,
      "id": "1af2651d-6f91-4eaf-8e67-5c0b55818a49",
      "metadata": {
        "id": "1af2651d-6f91-4eaf-8e67-5c0b55818a49",
        "colab": {
          "base_uri": "https://localhost:8080/"
        },
        "outputId": "40bd9649-c2db-433f-d715-658010280ea9"
      },
      "outputs": [
        {
          "output_type": "stream",
          "name": "stderr",
          "text": [
            "100%|████████████████████████████████████████| 890M/890M [00:07<00:00, 124MiB/s]\n"
          ]
        }
      ],
      "source": [
        "device = \"cuda\" if torch.cuda.is_available() else \"cpu\"\n",
        "CLIP_model, preprocess = clip.load('ViT-L/14', device=device)"
      ]
    },
    {
      "cell_type": "code",
      "execution_count": 10,
      "id": "7cc1a8ce-457e-4d75-8524-75f4612d84ad",
      "metadata": {
        "id": "7cc1a8ce-457e-4d75-8524-75f4612d84ad",
        "colab": {
          "base_uri": "https://localhost:8080/"
        },
        "outputId": "b6079e5c-8e5c-403a-8408-ebed84381156"
      },
      "outputs": [
        {
          "output_type": "stream",
          "name": "stderr",
          "text": [
            "100%|██████████| 85/85 [02:27<00:00,  1.73s/it]\n",
            "100%|██████████| 5/5 [00:08<00:00,  1.72s/it]\n",
            "100%|██████████| 10/10 [00:16<00:00,  1.66s/it]\n"
          ]
        }
      ],
      "source": [
        "def encode_features(model, dataset):\n",
        "  all_ids = []\n",
        "  all_features = []\n",
        "  all_labels = []\n",
        "\n",
        "  with torch.no_grad():\n",
        "    for ids, images, texts, labels, caption in tqdm(DataLoader(dataset, batch_size=100)):\n",
        "      image_input = torch.tensor(np.stack(images)).to(device)\n",
        "      text_tokens = clip.tokenize([desc[:77] for desc in texts]).to(device)\n",
        "      caption_tokens = clip.tokenize([desc for desc in caption]).to(device)\n",
        "\n",
        "      image_features = model.encode_image(image_input).type(torch.float).to(device)\n",
        "      text_features = model.encode_text(text_tokens).type(torch.float).to(device)\n",
        "      caption_features = model.encode_text(caption_tokens).type(torch.float).to(device)\n",
        "\n",
        "      features = torch.cat([image_features, text_features, caption_features], dim=1)\n",
        "      all_ids.extend(ids)\n",
        "      all_features.extend(features)\n",
        "      all_labels.extend(labels)\n",
        "\n",
        "  return all_ids, all_features, all_labels\n",
        "\n",
        "\n",
        "# Use CLIP to encode each modality to get image, text and caption features\n",
        "ids_train, features_train, labels_train = encode_features(CLIP_model, train_dataset)\n",
        "ids_dev, features_dev, labels_dev = encode_features(CLIP_model, dev_dataset)\n",
        "ids_test, features_test, labels_test = encode_features(CLIP_model, test_dataset)"
      ]
    },
    {
      "cell_type": "code",
      "execution_count": 11,
      "id": "399d9c37-8491-4788-aadc-256b32910391",
      "metadata": {
        "id": "399d9c37-8491-4788-aadc-256b32910391"
      },
      "outputs": [],
      "source": [
        "class DefineDataset(torch.utils.data.Dataset):\n",
        "  def __init__(self, ids, features, labels):\n",
        "    self.ids = ids\n",
        "    self.features = features\n",
        "    self.labels = labels\n",
        "\n",
        "  def __getitem__(self, index: int):\n",
        "    return self.ids[index], self.features[index], self.labels[index]\n",
        "\n",
        "  def __len__(self):\n",
        "    return len(self.features)\n",
        "\n",
        "\n",
        "# Define train/dev/test set using image & text features and gold labels\n",
        "train_set = DefineDataset(ids_train, features_train, labels_train)\n",
        "dev_set = DefineDataset(ids_dev, features_dev, labels_dev)\n",
        "test_set = DefineDataset(ids_test, features_test, labels_test)"
      ]
    },
    {
      "cell_type": "markdown",
      "id": "5e07bb92-4639-433e-a984-84170c85b9b8",
      "metadata": {
        "id": "5e07bb92-4639-433e-a984-84170c85b9b8"
      },
      "source": [
        "## 4. Construct a neural network for classification"
      ]
    },
    {
      "cell_type": "code",
      "execution_count": 12,
      "id": "f4668dcc-54b2-4036-861b-2fe3849841fb",
      "metadata": {
        "id": "f4668dcc-54b2-4036-861b-2fe3849841fb"
      },
      "outputs": [],
      "source": [
        "torch.manual_seed(78)\n",
        "input_shape = features_train[0].shape[0]\n",
        "num_classes = 2\n",
        "shape = 256\n",
        "\n",
        "nn_model = nn.Sequential(\n",
        "    nn.Linear(input_shape, shape),\n",
        "    nn.Dropout(0.66),\n",
        "    nn.BatchNorm1d(shape),\n",
        "    nn.ReLU(inplace=True),\n",
        "\n",
        "    nn.Linear(shape, shape),\n",
        "    nn.Dropout(0.66),\n",
        "    nn.BatchNorm1d(shape),\n",
        "    nn.ReLU(inplace=True),\n",
        "\n",
        "    nn.Linear(shape, num_classes),)\n",
        "\n",
        "nn_model = nn_model.to(device)\n",
        "loss = nn.CrossEntropyLoss()\n",
        "optimizer = torch.optim.Adam(nn_model.parameters(), lr=1e-2)\n",
        "scheduler = torch.optim.lr_scheduler.StepLR(optimizer, step_size=10, gamma=0.8)"
      ]
    },
    {
      "cell_type": "markdown",
      "id": "325c07d5-2902-46ed-b60d-36ca93543c34",
      "metadata": {
        "id": "325c07d5-2902-46ed-b60d-36ca93543c34"
      },
      "source": [
        "## 5. Train and validate the classification model and save the best model after 100 epochs of training"
      ]
    },
    {
      "cell_type": "code",
      "execution_count": 13,
      "id": "b7700aaa-c37c-4b18-a30b-8e1df1653d51",
      "metadata": {
        "id": "b7700aaa-c37c-4b18-a30b-8e1df1653d51"
      },
      "outputs": [],
      "source": [
        "def get_lr(optimizer):\n",
        "  for param_group in optimizer.param_groups:\n",
        "    return param_group['lr']  # Retrieve the learning rate value from optimizer\n",
        "\n",
        "def compute_auroc(model, loader):\n",
        "  \"\"\"\n",
        "  Compute AUROC on the dataset wrapped in a loader\n",
        "  Return: AUROC score as a float value between 0 and 1\n",
        "  \"\"\"\n",
        "  model.eval()\n",
        "  real_labels = []\n",
        "  probabilities = []\n",
        "\n",
        "  for i_step, (i, x, y) in enumerate(loader):\n",
        "    x = x.to(device)\n",
        "    y = y.to(device)\n",
        "    prediction = model(x)\n",
        "    # select probabilities corresponding to the positive class\n",
        "    prediction = prediction[:, 1]  # positive class in the second column\n",
        "    probabilities.extend(prediction.detach().cpu().numpy())\n",
        "    real_labels.extend(y.detach().cpu().numpy())\n",
        "\n",
        "  auroc = roc_auc_score(real_labels, probabilities)*100\n",
        "  return auroc"
      ]
    },
    {
      "cell_type": "code",
      "execution_count": 14,
      "id": "9e602c43-d58b-490a-b7d4-0e8c1190d93b",
      "metadata": {
        "id": "9e602c43-d58b-490a-b7d4-0e8c1190d93b",
        "colab": {
          "base_uri": "https://localhost:8080/"
        },
        "outputId": "a8ed297c-4656-4192-998e-053e91133680"
      },
      "outputs": [
        {
          "output_type": "stream",
          "name": "stdout",
          "text": [
            "Epoch: 0 lr: 0.010000; Average loss: 0.593672, Val AUROC: 73.575395\n",
            "saved Best_model_73.58.ckpt\n",
            "Epoch: 1 lr: 0.010000; Average loss: 0.476073, Val AUROC: 75.562881\n",
            "saved Best_model_75.56.ckpt\n",
            "Epoch: 2 lr: 0.010000; Average loss: 0.427869, Val AUROC: 76.151766\n",
            "saved Best_model_76.15.ckpt\n",
            "Epoch: 3 lr: 0.010000; Average loss: 0.396316, Val AUROC: 76.819062\n",
            "saved Best_model_76.82.ckpt\n",
            "Epoch: 4 lr: 0.010000; Average loss: 0.364865, Val AUROC: 78.252868\n",
            "saved Best_model_78.25.ckpt\n",
            "Epoch: 5 lr: 0.010000; Average loss: 0.339191, Val AUROC: 78.683330\n",
            "saved Best_model_78.68.ckpt\n",
            "Epoch: 6 lr: 0.010000; Average loss: 0.329409, Val AUROC: 79.302620\n",
            "saved Best_model_79.3.ckpt\n",
            "Epoch: 7 lr: 0.010000; Average loss: 0.304581, Val AUROC: 80.048327\n",
            "saved Best_model_80.05.ckpt\n",
            "Epoch: 9 lr: 0.008000; Average loss: 0.272129, Val AUROC: 80.349170\n",
            "saved Best_model_80.35.ckpt\n",
            "Epoch: 10 lr: 0.008000; Average loss: 0.245245, Val AUROC: 80.357171\n",
            "saved Best_model_80.36.ckpt\n",
            "Epoch: 12 lr: 0.008000; Average loss: 0.205560, Val AUROC: 80.501192\n",
            "saved Best_model_80.5.ckpt\n",
            "Epoch: 16 lr: 0.008000; Average loss: 0.167345, Val AUROC: 80.802035\n",
            "saved Best_model_80.8.ckpt\n",
            "Epoch: 18 lr: 0.008000; Average loss: 0.152992, Val AUROC: 81.114080\n",
            "saved Best_model_81.11.ckpt\n",
            "Epoch: 19 lr: 0.006400; Average loss: 0.132290, Val AUROC: 81.131683\n",
            "saved Best_model_81.13.ckpt\n",
            "Epoch: 59 lr: 0.002621; Average loss: 0.025545, Val AUROC: 81.179690\n",
            "saved Best_model_81.18.ckpt\n",
            "Epoch: 60 lr: 0.002621; Average loss: 0.028648, Val AUROC: 81.277304\n",
            "saved Best_model_81.28.ckpt\n",
            "Epoch: 64 lr: 0.002621; Average loss: 0.020037, Val AUROC: 81.354115\n",
            "saved Best_model_81.35.ckpt\n",
            "Epoch: 69 lr: 0.002097; Average loss: 0.019289, Val AUROC: 81.789378\n",
            "saved Best_model_81.79.ckpt\n"
          ]
        }
      ],
      "source": [
        "train_loader = DataLoader(train_set, batch_size=500)\n",
        "val_loader = DataLoader(dev_set, batch_size=500)\n",
        "top_val_AUROC = 70\n",
        "\n",
        "for epoch in range(100):\n",
        "  nn_model.train()\n",
        "  loss_accum = 0\n",
        "  for i_step, (i, x, y) in enumerate(train_loader):\n",
        "    x = x.to(device)\n",
        "    y = y.to(device)\n",
        "    prediction = nn_model(x)\n",
        "    loss_value = loss(prediction, y.type(torch.long))\n",
        "    optimizer.zero_grad()\n",
        "    loss_value.backward()\n",
        "    optimizer.step()\n",
        "    loss_accum += loss_value\n",
        "\n",
        "  ave_loss = loss_accum / (i_step + 1)\n",
        "  val_AUROC = compute_auroc(nn_model, val_loader)\n",
        "\n",
        "  if scheduler != None:\n",
        "    scheduler.step()\n",
        "\n",
        "  if val_AUROC > top_val_AUROC:\n",
        "    top_val_AUROC = val_AUROC\n",
        "    best_model_name = f'Best_model_{round(val_AUROC, 2)}.ckpt'\n",
        "    torch.save(nn_model, open(best_model_name, 'wb'))\n",
        "    print(\"Epoch: %i lr: %f; Average loss: %f, Val AUROC: %f\" % (epoch, get_lr(optimizer), ave_loss, val_AUROC))\n",
        "    print(\"saved\", best_model_name)"
      ]
    },
    {
      "cell_type": "markdown",
      "id": "bdaa3cd1-3201-48fa-b00a-084d5807557a",
      "metadata": {
        "id": "bdaa3cd1-3201-48fa-b00a-084d5807557a"
      },
      "source": [
        "## 6. test the best model"
      ]
    },
    {
      "cell_type": "code",
      "source": [
        "best_model = torch.load(open(best_model_name, 'rb'))\n",
        "print(best_model)"
      ],
      "metadata": {
        "id": "GtDtcz4VyhOS",
        "colab": {
          "base_uri": "https://localhost:8080/"
        },
        "outputId": "9d144f48-fc46-44f5-b9d3-1b7241a3511a"
      },
      "id": "GtDtcz4VyhOS",
      "execution_count": 15,
      "outputs": [
        {
          "output_type": "stream",
          "name": "stdout",
          "text": [
            "Sequential(\n",
            "  (0): Linear(in_features=2304, out_features=256, bias=True)\n",
            "  (1): Dropout(p=0.66, inplace=False)\n",
            "  (2): BatchNorm1d(256, eps=1e-05, momentum=0.1, affine=True, track_running_stats=True)\n",
            "  (3): ReLU(inplace=True)\n",
            "  (4): Linear(in_features=256, out_features=256, bias=True)\n",
            "  (5): Dropout(p=0.66, inplace=False)\n",
            "  (6): BatchNorm1d(256, eps=1e-05, momentum=0.1, affine=True, track_running_stats=True)\n",
            "  (7): ReLU(inplace=True)\n",
            "  (8): Linear(in_features=256, out_features=2, bias=True)\n",
            ")\n"
          ]
        }
      ]
    },
    {
      "cell_type": "code",
      "execution_count": 16,
      "id": "802772c4-772d-4df6-8b15-c7c6e6e348c9",
      "metadata": {
        "id": "802772c4-772d-4df6-8b15-c7c6e6e348c9",
        "colab": {
          "base_uri": "https://localhost:8080/"
        },
        "outputId": "a7f5c75f-1da9-4075-9d5e-e4c1ab56e1fb"
      },
      "outputs": [
        {
          "output_type": "stream",
          "name": "stdout",
          "text": [
            "Test AUROC: 82.74\n"
          ]
        }
      ],
      "source": [
        "best_model = best_model.to(device)\n",
        "best_model.eval()\n",
        "\n",
        "test_loader = DataLoader(test_set, batch_size=500)\n",
        "real_label = []\n",
        "pred_proba = []\n",
        "pred_label = []\n",
        "\n",
        "for i_step, (i, x, y) in enumerate(test_loader):\n",
        "  y = y.to(device)\n",
        "  real_label.extend(y.detach().cpu().numpy())\n",
        "  x = x.to(device)\n",
        "  prediction = best_model(x)\n",
        "  pred_proba.extend(prediction[:, 1].detach().cpu().numpy())\n",
        "  pred_label.extend(torch.max(prediction.cpu(), 1)[1])\n",
        "\n",
        "auroc_score = roc_auc_score(real_label, pred_proba)*100\n",
        "print('Test AUROC:', round(auroc_score, 2))"
      ]
    },
    {
      "cell_type": "code",
      "source": [
        "# Save the prediction results as a csv file\n",
        "pred_labels = [tensor.item() for tensor in pred_label]\n",
        "data = {'id': ids_test, 'proba': pred_proba, 'label': pred_labels}\n",
        "results = pd.DataFrame(data)\n",
        "file_path = \"/content/data/CLIP_caption.csv\"\n",
        "results.to_csv(file_path, index=False)\n",
        "\n",
        "# Save the csv file in Google Drive\n",
        "!cp -r /content/data/CLIP_caption.csv /content/drive/MyDrive/results"
      ],
      "metadata": {
        "id": "ETA71Zk0DiYm"
      },
      "id": "ETA71Zk0DiYm",
      "execution_count": 17,
      "outputs": []
    }
  ],
  "metadata": {
    "accelerator": "GPU",
    "colab": {
      "gpuType": "A100",
      "machine_shape": "hm",
      "provenance": []
    },
    "kernelspec": {
      "display_name": "Python 3",
      "name": "python3"
    },
    "language_info": {
      "codemirror_mode": {
        "name": "ipython",
        "version": 3
      },
      "file_extension": ".py",
      "mimetype": "text/x-python",
      "name": "python",
      "nbconvert_exporter": "python",
      "pygments_lexer": "ipython3",
      "version": "3.9.13"
    }
  },
  "nbformat": 4,
  "nbformat_minor": 5
}