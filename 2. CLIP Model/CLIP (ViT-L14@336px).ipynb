{
 "cells": [
  {
   "cell_type": "code",
   "execution_count": 1,
   "id": "3a728816-8439-4744-b0ef-f71834902406",
   "metadata": {
    "colab": {
     "base_uri": "https://localhost:8080/"
    },
    "id": "3a728816-8439-4744-b0ef-f71834902406",
    "outputId": "e4ae49ce-434b-4663-ee45-2853385b69b6"
   },
   "outputs": [
    {
     "name": "stdout",
     "output_type": "stream",
     "text": [
      "Wed Jun 28 17:21:39 2023       \n",
      "+-----------------------------------------------------------------------------+\n",
      "| NVIDIA-SMI 525.85.12    Driver Version: 525.85.12    CUDA Version: 12.0     |\n",
      "|-------------------------------+----------------------+----------------------+\n",
      "| GPU  Name        Persistence-M| Bus-Id        Disp.A | Volatile Uncorr. ECC |\n",
      "| Fan  Temp  Perf  Pwr:Usage/Cap|         Memory-Usage | GPU-Util  Compute M. |\n",
      "|                               |                      |               MIG M. |\n",
      "|===============================+======================+======================|\n",
      "|   0  NVIDIA A100-SXM...  Off  | 00000000:00:04.0 Off |                    0 |\n",
      "| N/A   31C    P0    45W / 400W |      0MiB / 40960MiB |      0%      Default |\n",
      "|                               |                      |             Disabled |\n",
      "+-------------------------------+----------------------+----------------------+\n",
      "                                                                               \n",
      "+-----------------------------------------------------------------------------+\n",
      "| Processes:                                                                  |\n",
      "|  GPU   GI   CI        PID   Type   Process name                  GPU Memory |\n",
      "|        ID   ID                                                   Usage      |\n",
      "|=============================================================================|\n",
      "|  No running processes found                                                 |\n",
      "+-----------------------------------------------------------------------------+\n"
     ]
    }
   ],
   "source": [
    "!nvidia-smi"
   ]
  },
  {
   "cell_type": "code",
   "execution_count": 2,
   "id": "ff84dfc3-14b3-4e9c-a84e-45d220bc57d6",
   "metadata": {
    "colab": {
     "base_uri": "https://localhost:8080/"
    },
    "id": "ff84dfc3-14b3-4e9c-a84e-45d220bc57d6",
    "outputId": "e889ed60-b540-4814-86a2-da7baf743850"
   },
   "outputs": [
    {
     "name": "stdout",
     "output_type": "stream",
     "text": [
      "Mounted at /content/drive\n"
     ]
    }
   ],
   "source": [
    "from google.colab import drive\n",
    "drive.mount('/content/drive')\n",
    "\n",
    "! unzip -q '/content/drive/MyDrive/hateful_memes.zip' -d '/content/data'"
   ]
  },
  {
   "cell_type": "code",
   "execution_count": 3,
   "id": "fcd350b4-79f8-4b8b-8d27-e58893fca8f5",
   "metadata": {
    "colab": {
     "base_uri": "https://localhost:8080/"
    },
    "id": "fcd350b4-79f8-4b8b-8d27-e58893fca8f5",
    "outputId": "07f8862b-aae1-4351-f886-85ba36059238"
   },
   "outputs": [
    {
     "name": "stdout",
     "output_type": "stream",
     "text": [
      "\u001b[2K     \u001b[90m━━━━━━━━━━━━━━━━━━━━━━━━━━━━━━━━━━━━━━━━\u001b[0m \u001b[32m53.1/53.1 kB\u001b[0m \u001b[31m5.4 MB/s\u001b[0m eta \u001b[36m0:00:00\u001b[0m\n",
      "\u001b[?25h  Preparing metadata (setup.py) ... \u001b[?25l\u001b[?25hdone\n",
      "  Building wheel for clip (setup.py) ... \u001b[?25l\u001b[?25hdone\n"
     ]
    }
   ],
   "source": [
    "! pip install --quiet ftfy regex tqdm\n",
    "! pip install --quiet git+https://github.com/openai/CLIP.git"
   ]
  },
  {
   "cell_type": "code",
   "execution_count": 4,
   "id": "f7588592-aa07-4e30-814b-adf3f7094b4b",
   "metadata": {
    "id": "f7588592-aa07-4e30-814b-adf3f7094b4b"
   },
   "outputs": [],
   "source": [
    "import os\n",
    "import json\n",
    "import pandas as pd\n",
    "import numpy as np\n",
    "import matplotlib.image as img\n",
    "\n",
    "import torch\n",
    "import torch.nn as nn\n",
    "from torch.utils.data import DataLoader\n",
    "\n",
    "import torchvision\n",
    "from torchvision import transforms as T\n",
    "import torchvision.transforms.functional as F\n",
    "\n",
    "import cv2\n",
    "import clip\n",
    "from tqdm import tqdm\n",
    "from PIL import Image\n",
    "from sklearn.metrics import roc_auc_score"
   ]
  },
  {
   "cell_type": "code",
   "execution_count": 5,
   "id": "CcaiFYZFpTj9",
   "metadata": {
    "id": "CcaiFYZFpTj9"
   },
   "outputs": [],
   "source": [
    "class ScaleMaxSideToSize(object):\n",
    "  def __init__(self, size):\n",
    "    self.size = size\n",
    "\n",
    "  def __call__(self, sample):\n",
    "    sample = cv2.resize(sample, (self.size, self.size), interpolation=cv2.INTER_AREA)\n",
    "\n",
    "    return sample\n",
    "\n",
    "\n",
    "class CropCenter(object):\n",
    "  def __init__(self, size):\n",
    "    self.size = size\n",
    "\n",
    "  def __call__(self, sample):\n",
    "    img = sample\n",
    "    h, w, _ = img.shape\n",
    "    margin_h = (h - self.size) // 2\n",
    "    margin_w = (w - self.size) // 2\n",
    "    sample = img[margin_h:margin_h + self.size, margin_w:margin_w + self.size]\n",
    "\n",
    "    return sample"
   ]
  },
  {
   "cell_type": "markdown",
   "id": "7a8c9bb2-0949-422c-9d30-7069ad357881",
   "metadata": {
    "id": "7a8c9bb2-0949-422c-9d30-7069ad357881"
   },
   "source": [
    "## 1. Load dataset"
   ]
  },
  {
   "cell_type": "code",
   "execution_count": 6,
   "id": "c106a57e-b40b-4769-8b23-3c55d76092c3",
   "metadata": {
    "id": "c106a57e-b40b-4769-8b23-3c55d76092c3"
   },
   "outputs": [],
   "source": [
    "class Load_Dataset(torch.utils.data.Dataset):\n",
    "  def __init__(self, data_path, transforms):\n",
    "    self.data = [json.loads(l) for l in open(data_path)]\n",
    "    self.data_dir = os.path.dirname(data_path)\n",
    "    self.transforms = transforms\n",
    "\n",
    "  def __getitem__(self, index: int):\n",
    "    path = os.path.join(self.data_dir, self.data[index][\"img\"])\n",
    "    image = cv2.imread(path)\n",
    "    image = cv2.cvtColor(image, cv2.COLOR_BGR2RGB)\n",
    "    text = self.data[index][\"text\"]\n",
    "    label = self.data[index][\"label\"]\n",
    "\n",
    "    if self.transforms is not None:\n",
    "        image = self.transforms(image)\n",
    "\n",
    "    return image, text, label\n",
    "\n",
    "  def __len__(self):\n",
    "    return len(self.data)"
   ]
  },
  {
   "cell_type": "code",
   "execution_count": 7,
   "id": "dd0066bd-8704-4da6-a3b7-20b93ce65864",
   "metadata": {
    "id": "dd0066bd-8704-4da6-a3b7-20b93ce65864"
   },
   "outputs": [],
   "source": [
    "CROP_SIZE = 336\n",
    "MEAN = torch.tensor([0.485, 0.456, 0.406])\n",
    "STD = torch.tensor([0.229, 0.224, 0.225])\n",
    "\n",
    "transforms = T.Compose([\n",
    "    ScaleMaxSideToSize(CROP_SIZE),\n",
    "    CropCenter(CROP_SIZE),\n",
    "    T.ToTensor(),\n",
    "    T.Normalize(mean=MEAN, std=STD)])\n",
    "\n",
    "\n",
    "train_path = '/content/data/hateful_memes/train.jsonl'\n",
    "train_dataset = Load_Dataset(train_path, transforms)\n",
    "\n",
    "dev_path = '/content/data/hateful_memes/dev_seen.jsonl'\n",
    "dev_dataset = Load_Dataset(dev_path, transforms)\n",
    "\n",
    "test_path = '/content/data/hateful_memes/test_seen.jsonl'\n",
    "test_dataset = Load_Dataset(test_path, transforms)"
   ]
  },
  {
   "cell_type": "markdown",
   "id": "ce4b17f6-8ed7-4d2f-bcef-264d36e4acbf",
   "metadata": {
    "id": "ce4b17f6-8ed7-4d2f-bcef-264d36e4acbf"
   },
   "source": [
    "## 2. Use CLIP to encode each modality to get image and text features"
   ]
  },
  {
   "cell_type": "code",
   "execution_count": 8,
   "id": "1af2651d-6f91-4eaf-8e67-5c0b55818a49",
   "metadata": {
    "colab": {
     "base_uri": "https://localhost:8080/"
    },
    "id": "1af2651d-6f91-4eaf-8e67-5c0b55818a49",
    "outputId": "617f3274-c175-4fb6-d043-5d9076cd97b1"
   },
   "outputs": [
    {
     "name": "stderr",
     "output_type": "stream",
     "text": [
      "100%|███████████████████████████████████████| 891M/891M [00:31<00:00, 29.5MiB/s]\n"
     ]
    }
   ],
   "source": [
    "device = \"cuda\" if torch.cuda.is_available() else \"cpu\"\n",
    "CLIP_model, preprocess = clip.load('ViT-L/14@336px', device=device)"
   ]
  },
  {
   "cell_type": "code",
   "execution_count": 9,
   "id": "7cc1a8ce-457e-4d75-8524-75f4612d84ad",
   "metadata": {
    "colab": {
     "base_uri": "https://localhost:8080/"
    },
    "id": "7cc1a8ce-457e-4d75-8524-75f4612d84ad",
    "outputId": "5023ea96-5fc0-4a03-e015-5c86984f4920"
   },
   "outputs": [
    {
     "name": "stderr",
     "output_type": "stream",
     "text": [
      "100%|██████████| 85/85 [02:43<00:00,  1.93s/it]\n",
      "100%|██████████| 5/5 [00:09<00:00,  1.91s/it]\n",
      "100%|██████████| 10/10 [00:18<00:00,  1.87s/it]\n"
     ]
    }
   ],
   "source": [
    "def encode_features(model, dataset):\n",
    "  all_features = []\n",
    "  all_labels = []\n",
    "\n",
    "  with torch.no_grad():\n",
    "    for images, texts, labels in tqdm(DataLoader(dataset, batch_size=100)):\n",
    "      image_input = torch.tensor(np.stack(images)).to(device)\n",
    "      text_tokens = clip.tokenize([desc[:77] for desc in texts]).to(device)\n",
    "\n",
    "      image_features = model.encode_image(image_input).type(torch.float).to(device)\n",
    "      text_features = model.encode_text(text_tokens).type(torch.float).to(device)\n",
    "\n",
    "      features = torch.cat([image_features, text_features], dim=1)\n",
    "\n",
    "      all_features.extend(features)\n",
    "      all_labels.extend(labels)\n",
    "\n",
    "  return all_features, all_labels\n",
    "\n",
    "\n",
    "# Use CLIP to encode each modality to get image & text features\n",
    "features_train, labels_train = encode_features(CLIP_model, train_dataset)\n",
    "features_dev, labels_dev = encode_features(CLIP_model, dev_dataset)\n",
    "features_test, labels_test = encode_features(CLIP_model, test_dataset)"
   ]
  },
  {
   "cell_type": "code",
   "execution_count": 10,
   "id": "399d9c37-8491-4788-aadc-256b32910391",
   "metadata": {
    "id": "399d9c37-8491-4788-aadc-256b32910391"
   },
   "outputs": [],
   "source": [
    "class DefineDataset(torch.utils.data.Dataset):\n",
    "  def __init__(self, features, labels):\n",
    "    self.features = features\n",
    "    self.labels = labels\n",
    "\n",
    "  def __getitem__(self, index: int):\n",
    "    return self.features[index], self.labels[index]\n",
    "\n",
    "  def __len__(self):\n",
    "    return len(self.features)\n",
    "\n",
    "\n",
    "# Define train/dev/test set using image & text features and gold labels\n",
    "train_set = DefineDataset(features_train, labels_train)\n",
    "dev_set = DefineDataset(features_dev, labels_dev)\n",
    "test_set = DefineDataset(features_test, labels_test)"
   ]
  },
  {
   "cell_type": "markdown",
   "id": "5e07bb92-4639-433e-a984-84170c85b9b8",
   "metadata": {
    "id": "5e07bb92-4639-433e-a984-84170c85b9b8"
   },
   "source": [
    "## 3. Construct a neural network for classification"
   ]
  },
  {
   "cell_type": "code",
   "execution_count": 11,
   "id": "f4668dcc-54b2-4036-861b-2fe3849841fb",
   "metadata": {
    "id": "f4668dcc-54b2-4036-861b-2fe3849841fb"
   },
   "outputs": [],
   "source": [
    "torch.manual_seed(515)\n",
    "input_shape = features_train[0].shape[0]\n",
    "num_classes = 2\n",
    "shape = 256\n",
    "\n",
    "nn_model = nn.Sequential(\n",
    "    nn.Linear(input_shape, shape),\n",
    "    nn.Dropout(0.66),\n",
    "    nn.BatchNorm1d(shape),\n",
    "    nn.ReLU(inplace=True),\n",
    "\n",
    "    nn.Linear(shape, shape),\n",
    "    nn.Dropout(0.66),\n",
    "    nn.BatchNorm1d(shape),\n",
    "    nn.ReLU(inplace=True),\n",
    "\n",
    "    nn.Linear(shape, num_classes),)\n",
    "\n",
    "nn_model = nn_model.to(device)\n",
    "loss = nn.CrossEntropyLoss()\n",
    "optimizer = torch.optim.Adam(nn_model.parameters(), lr=1e-2)\n",
    "scheduler = torch.optim.lr_scheduler.StepLR(optimizer, step_size=10, gamma=0.8)"
   ]
  },
  {
   "cell_type": "markdown",
   "id": "325c07d5-2902-46ed-b60d-36ca93543c34",
   "metadata": {
    "id": "325c07d5-2902-46ed-b60d-36ca93543c34"
   },
   "source": [
    "## 4. Train and validate the classification model and save the best model after 100 epochs of training"
   ]
  },
  {
   "cell_type": "code",
   "execution_count": 12,
   "id": "b7700aaa-c37c-4b18-a30b-8e1df1653d51",
   "metadata": {
    "id": "b7700aaa-c37c-4b18-a30b-8e1df1653d51"
   },
   "outputs": [],
   "source": [
    "def get_lr(optimizer):\n",
    "  for param_group in optimizer.param_groups:\n",
    "    return param_group['lr']  # Retrieve the learning rate value from optimizer\n",
    "\n",
    "def compute_auroc(model, loader):\n",
    "  \"\"\"\n",
    "  Compute AUROC on the dataset wrapped in a loader\n",
    "  Return: AUROC score as a float value between 0 and 1\n",
    "  \"\"\"\n",
    "  model.eval()\n",
    "  real_labels = []\n",
    "  probabilities = []\n",
    "\n",
    "  for i_step, (x, y) in enumerate(loader):\n",
    "    x = x.to(device)\n",
    "    y = y.to(device)\n",
    "    prediction = model(x)\n",
    "    # select probabilities corresponding to the positive class\n",
    "    prediction = prediction[:, 1]  # positive class in the second column\n",
    "    probabilities.extend(prediction.detach().cpu().numpy())\n",
    "    real_labels.extend(y.detach().cpu().numpy())\n",
    "\n",
    "  auroc = roc_auc_score(real_labels, probabilities)*100\n",
    "  return auroc"
   ]
  },
  {
   "cell_type": "code",
   "execution_count": 13,
   "id": "9e602c43-d58b-490a-b7d4-0e8c1190d93b",
   "metadata": {
    "colab": {
     "base_uri": "https://localhost:8080/"
    },
    "id": "9e602c43-d58b-490a-b7d4-0e8c1190d93b",
    "outputId": "a00737f1-b1f0-447a-f4ee-298d9cfcd85c"
   },
   "outputs": [
    {
     "name": "stdout",
     "output_type": "stream",
     "text": [
      "Epoch: 0 lr: 0.010000; Average loss: 0.601467, Val AUROC: 73.279352\n",
      "saved Best_model_73.28.ckpt\n",
      "Epoch: 1 lr: 0.010000; Average loss: 0.486664, Val AUROC: 75.158023\n",
      "saved Best_model_75.16.ckpt\n",
      "Epoch: 2 lr: 0.010000; Average loss: 0.422285, Val AUROC: 76.451009\n",
      "saved Best_model_76.45.ckpt\n",
      "Epoch: 3 lr: 0.010000; Average loss: 0.391346, Val AUROC: 77.475156\n",
      "saved Best_model_77.48.ckpt\n",
      "Epoch: 4 lr: 0.010000; Average loss: 0.371994, Val AUROC: 78.416092\n",
      "saved Best_model_78.42.ckpt\n",
      "Epoch: 5 lr: 0.010000; Average loss: 0.345942, Val AUROC: 78.558512\n",
      "saved Best_model_78.56.ckpt\n",
      "Epoch: 6 lr: 0.010000; Average loss: 0.330047, Val AUROC: 79.446640\n",
      "saved Best_model_79.45.ckpt\n",
      "Epoch: 7 lr: 0.010000; Average loss: 0.314103, Val AUROC: 78.812949\n",
      "Epoch: 8 lr: 0.010000; Average loss: 0.292883, Val AUROC: 78.931366\n",
      "Epoch: 9 lr: 0.010000; Average loss: 0.287619, Val AUROC: 80.013122\n",
      "saved Best_model_80.01.ckpt\n",
      "Epoch: 10 lr: 0.008000; Average loss: 0.256920, Val AUROC: 80.117137\n",
      "saved Best_model_80.12.ckpt\n",
      "Epoch: 11 lr: 0.008000; Average loss: 0.237248, Val AUROC: 79.285017\n",
      "Epoch: 12 lr: 0.008000; Average loss: 0.224699, Val AUROC: 79.918708\n",
      "Epoch: 13 lr: 0.008000; Average loss: 0.225365, Val AUROC: 79.878703\n",
      "Epoch: 14 lr: 0.008000; Average loss: 0.204044, Val AUROC: 79.552256\n",
      "Epoch: 15 lr: 0.008000; Average loss: 0.191277, Val AUROC: 79.486646\n",
      "Epoch: 16 lr: 0.008000; Average loss: 0.177694, Val AUROC: 80.189147\n",
      "saved Best_model_80.19.ckpt\n",
      "Epoch: 17 lr: 0.008000; Average loss: 0.166245, Val AUROC: 80.061129\n",
      "Epoch: 18 lr: 0.008000; Average loss: 0.159101, Val AUROC: 80.489991\n",
      "saved Best_model_80.49.ckpt\n",
      "Epoch: 19 lr: 0.008000; Average loss: 0.159555, Val AUROC: 80.638812\n",
      "saved Best_model_80.64.ckpt\n",
      "Epoch: 20 lr: 0.006400; Average loss: 0.154101, Val AUROC: 80.662815\n",
      "saved Best_model_80.66.ckpt\n",
      "Epoch: 21 lr: 0.006400; Average loss: 0.134782, Val AUROC: 80.152342\n",
      "Epoch: 22 lr: 0.006400; Average loss: 0.130108, Val AUROC: 80.085132\n",
      "Epoch: 23 lr: 0.006400; Average loss: 0.119365, Val AUROC: 80.661215\n",
      "Epoch: 24 lr: 0.006400; Average loss: 0.111871, Val AUROC: 79.768287\n",
      "Epoch: 25 lr: 0.006400; Average loss: 0.115456, Val AUROC: 80.037125\n",
      "Epoch: 26 lr: 0.006400; Average loss: 0.107472, Val AUROC: 80.195548\n",
      "Epoch: 27 lr: 0.006400; Average loss: 0.103074, Val AUROC: 79.848298\n",
      "Epoch: 28 lr: 0.006400; Average loss: 0.095164, Val AUROC: 80.259557\n",
      "Epoch: 29 lr: 0.006400; Average loss: 0.100234, Val AUROC: 79.816294\n",
      "Epoch: 30 lr: 0.005120; Average loss: 0.079961, Val AUROC: 79.737882\n",
      "Epoch: 31 lr: 0.005120; Average loss: 0.078484, Val AUROC: 80.437183\n",
      "Epoch: 32 lr: 0.005120; Average loss: 0.078132, Val AUROC: 80.251556\n",
      "Epoch: 33 lr: 0.005120; Average loss: 0.075245, Val AUROC: 80.009921\n",
      "Epoch: 34 lr: 0.005120; Average loss: 0.080141, Val AUROC: 80.510794\n",
      "Epoch: 35 lr: 0.005120; Average loss: 0.069698, Val AUROC: 80.072330\n",
      "Epoch: 36 lr: 0.005120; Average loss: 0.064917, Val AUROC: 79.627466\n",
      "Epoch: 37 lr: 0.005120; Average loss: 0.068938, Val AUROC: 80.390776\n",
      "Epoch: 38 lr: 0.005120; Average loss: 0.064672, Val AUROC: 80.497992\n",
      "Epoch: 39 lr: 0.005120; Average loss: 0.066044, Val AUROC: 81.133283\n",
      "saved Best_model_81.13.ckpt\n",
      "Epoch: 40 lr: 0.004096; Average loss: 0.057244, Val AUROC: 80.714023\n",
      "Epoch: 41 lr: 0.004096; Average loss: 0.050083, Val AUROC: 80.203549\n",
      "Epoch: 42 lr: 0.004096; Average loss: 0.053756, Val AUROC: 80.414780\n",
      "Epoch: 43 lr: 0.004096; Average loss: 0.047003, Val AUROC: 80.013122\n",
      "Epoch: 44 lr: 0.004096; Average loss: 0.047753, Val AUROC: 80.027524\n",
      "Epoch: 45 lr: 0.004096; Average loss: 0.043685, Val AUROC: 80.390776\n",
      "Epoch: 46 lr: 0.004096; Average loss: 0.045361, Val AUROC: 80.088333\n",
      "Epoch: 47 lr: 0.004096; Average loss: 0.049051, Val AUROC: 80.435583\n",
      "Epoch: 48 lr: 0.004096; Average loss: 0.047099, Val AUROC: 80.433982\n",
      "Epoch: 49 lr: 0.004096; Average loss: 0.041910, Val AUROC: 80.195548\n",
      "Epoch: 50 lr: 0.003277; Average loss: 0.043965, Val AUROC: 80.237154\n",
      "Epoch: 51 lr: 0.003277; Average loss: 0.039189, Val AUROC: 79.787489\n",
      "Epoch: 52 lr: 0.003277; Average loss: 0.036574, Val AUROC: 79.696276\n",
      "Epoch: 53 lr: 0.003277; Average loss: 0.039553, Val AUROC: 79.749084\n",
      "Epoch: 54 lr: 0.003277; Average loss: 0.036840, Val AUROC: 80.521995\n",
      "Epoch: 55 lr: 0.003277; Average loss: 0.034536, Val AUROC: 79.907507\n",
      "Epoch: 56 lr: 0.003277; Average loss: 0.035481, Val AUROC: 80.000320\n",
      "Epoch: 57 lr: 0.003277; Average loss: 0.037621, Val AUROC: 80.227553\n",
      "Epoch: 58 lr: 0.003277; Average loss: 0.037669, Val AUROC: 80.163544\n",
      "Epoch: 59 lr: 0.003277; Average loss: 0.033183, Val AUROC: 80.384375\n",
      "Epoch: 60 lr: 0.002621; Average loss: 0.028766, Val AUROC: 80.610008\n",
      "Epoch: 61 lr: 0.002621; Average loss: 0.030545, Val AUROC: 80.085132\n",
      "Epoch: 62 lr: 0.002621; Average loss: 0.031380, Val AUROC: 80.483590\n",
      "Epoch: 63 lr: 0.002621; Average loss: 0.029869, Val AUROC: 80.033925\n",
      "Epoch: 64 lr: 0.002621; Average loss: 0.029385, Val AUROC: 80.134739\n",
      "Epoch: 65 lr: 0.002621; Average loss: 0.029265, Val AUROC: 80.128338\n",
      "Epoch: 66 lr: 0.002621; Average loss: 0.028239, Val AUROC: 80.027524\n",
      "Epoch: 67 lr: 0.002621; Average loss: 0.025348, Val AUROC: 80.406779\n",
      "Epoch: 68 lr: 0.002621; Average loss: 0.021880, Val AUROC: 80.381175\n",
      "Epoch: 69 lr: 0.002621; Average loss: 0.023470, Val AUROC: 80.131539\n",
      "Epoch: 70 lr: 0.002097; Average loss: 0.023751, Val AUROC: 80.547599\n",
      "Epoch: 71 lr: 0.002097; Average loss: 0.022268, Val AUROC: 80.698021\n",
      "Epoch: 72 lr: 0.002097; Average loss: 0.024612, Val AUROC: 80.285161\n",
      "Epoch: 73 lr: 0.002097; Average loss: 0.025156, Val AUROC: 80.550799\n",
      "Epoch: 74 lr: 0.002097; Average loss: 0.019731, Val AUROC: 80.723624\n",
      "Epoch: 75 lr: 0.002097; Average loss: 0.017561, Val AUROC: 80.485190\n",
      "Epoch: 76 lr: 0.002097; Average loss: 0.024308, Val AUROC: 80.398777\n",
      "Epoch: 77 lr: 0.002097; Average loss: 0.020378, Val AUROC: 80.413179\n",
      "Epoch: 78 lr: 0.002097; Average loss: 0.021755, Val AUROC: 80.299563\n",
      "Epoch: 79 lr: 0.002097; Average loss: 0.020631, Val AUROC: 80.350771\n",
      "Epoch: 80 lr: 0.001678; Average loss: 0.019652, Val AUROC: 80.232353\n",
      "Epoch: 81 lr: 0.001678; Average loss: 0.016543, Val AUROC: 80.315565\n",
      "Epoch: 82 lr: 0.001678; Average loss: 0.018893, Val AUROC: 80.149141\n",
      "Epoch: 83 lr: 0.001678; Average loss: 0.016659, Val AUROC: 80.321966\n",
      "Epoch: 84 lr: 0.001678; Average loss: 0.017330, Val AUROC: 80.336368\n",
      "Epoch: 85 lr: 0.001678; Average loss: 0.016012, Val AUROC: 80.313965\n",
      "Epoch: 86 lr: 0.001678; Average loss: 0.018489, Val AUROC: 80.233954\n",
      "Epoch: 87 lr: 0.001678; Average loss: 0.015390, Val AUROC: 80.243555\n",
      "Epoch: 88 lr: 0.001678; Average loss: 0.013058, Val AUROC: 80.278760\n",
      "Epoch: 89 lr: 0.001678; Average loss: 0.017622, Val AUROC: 80.342769\n",
      "Epoch: 90 lr: 0.001342; Average loss: 0.014894, Val AUROC: 80.174745\n",
      "Epoch: 91 lr: 0.001342; Average loss: 0.014428, Val AUROC: 80.323567\n",
      "Epoch: 92 lr: 0.001342; Average loss: 0.016453, Val AUROC: 80.488390\n",
      "Epoch: 93 lr: 0.001342; Average loss: 0.013753, Val AUROC: 80.361972\n",
      "Epoch: 94 lr: 0.001342; Average loss: 0.015756, Val AUROC: 80.307564\n",
      "Epoch: 95 lr: 0.001342; Average loss: 0.013258, Val AUROC: 80.395577\n",
      "Epoch: 96 lr: 0.001342; Average loss: 0.014069, Val AUROC: 80.449985\n",
      "Epoch: 97 lr: 0.001342; Average loss: 0.013737, Val AUROC: 80.571602\n",
      "Epoch: 98 lr: 0.001342; Average loss: 0.014755, Val AUROC: 80.473988\n",
      "Epoch: 99 lr: 0.001342; Average loss: 0.012119, Val AUROC: 80.409979\n"
     ]
    }
   ],
   "source": [
    "train_loader = DataLoader(train_set, batch_size=500)\n",
    "val_loader = DataLoader(dev_set, batch_size=500)\n",
    "top_val_AUROC = 70\n",
    "\n",
    "for epoch in range(100):\n",
    "  nn_model.train()\n",
    "  loss_accum = 0\n",
    "  for i_step, (x, y) in enumerate(train_loader):\n",
    "    x = x.to(device)\n",
    "    y = y.to(device)\n",
    "    prediction = nn_model(x)\n",
    "    loss_value = loss(prediction, y.type(torch.long))\n",
    "    optimizer.zero_grad()\n",
    "    loss_value.backward()\n",
    "    optimizer.step()\n",
    "    loss_accum += loss_value\n",
    "\n",
    "  ave_loss = loss_accum / (i_step + 1)\n",
    "  val_AUROC = compute_auroc(nn_model, val_loader)\n",
    "  print(\"Epoch: %i lr: %f; Average loss: %f, Val AUROC: %f\" % (epoch, get_lr(optimizer), ave_loss, val_AUROC))\n",
    "\n",
    "  if scheduler != None:\n",
    "    scheduler.step()\n",
    "\n",
    "  if val_AUROC > top_val_AUROC:\n",
    "    top_val_AUROC = val_AUROC\n",
    "    best_model_name = f'Best_model_{round(val_AUROC, 2)}.ckpt'\n",
    "    torch.save(nn_model, open(best_model_name, 'wb'))\n",
    "    print(\"saved\", best_model_name)"
   ]
  },
  {
   "cell_type": "markdown",
   "id": "bdaa3cd1-3201-48fa-b00a-084d5807557a",
   "metadata": {
    "id": "bdaa3cd1-3201-48fa-b00a-084d5807557a"
   },
   "source": [
    "## 5. test the best model"
   ]
  },
  {
   "cell_type": "code",
   "execution_count": 14,
   "id": "GtDtcz4VyhOS",
   "metadata": {
    "colab": {
     "base_uri": "https://localhost:8080/"
    },
    "id": "GtDtcz4VyhOS",
    "outputId": "f6822d3f-5cd5-4ea3-fd8a-f0b44b096fbb"
   },
   "outputs": [
    {
     "name": "stdout",
     "output_type": "stream",
     "text": [
      "Sequential(\n",
      "  (0): Linear(in_features=1536, out_features=256, bias=True)\n",
      "  (1): Dropout(p=0.66, inplace=False)\n",
      "  (2): BatchNorm1d(256, eps=1e-05, momentum=0.1, affine=True, track_running_stats=True)\n",
      "  (3): ReLU(inplace=True)\n",
      "  (4): Linear(in_features=256, out_features=256, bias=True)\n",
      "  (5): Dropout(p=0.66, inplace=False)\n",
      "  (6): BatchNorm1d(256, eps=1e-05, momentum=0.1, affine=True, track_running_stats=True)\n",
      "  (7): ReLU(inplace=True)\n",
      "  (8): Linear(in_features=256, out_features=2, bias=True)\n",
      ")\n"
     ]
    }
   ],
   "source": [
    "best_model = torch.load(open(best_model_name, 'rb'))\n",
    "print(best_model)"
   ]
  },
  {
   "cell_type": "code",
   "execution_count": 15,
   "id": "802772c4-772d-4df6-8b15-c7c6e6e348c9",
   "metadata": {
    "colab": {
     "base_uri": "https://localhost:8080/"
    },
    "id": "802772c4-772d-4df6-8b15-c7c6e6e348c9",
    "outputId": "7b690d6b-5f41-4663-ca47-3a5eed09ef03"
   },
   "outputs": [
    {
     "name": "stdout",
     "output_type": "stream",
     "text": [
      "AUROC: 83.81\n"
     ]
    }
   ],
   "source": [
    "best_model = best_model.to(device)\n",
    "best_model.eval()\n",
    "\n",
    "test_loader = DataLoader(test_set, batch_size=500)\n",
    "real_labels = []\n",
    "predictions = []\n",
    "\n",
    "for i_step, (x, y) in enumerate(test_loader):\n",
    "  x = x.to(device)\n",
    "  y = y.to(device)\n",
    "  prediction = best_model(x)\n",
    "  # select probabilities corresponding to the positive class\n",
    "  prediction = prediction[:, 1]  # positive class in the second column\n",
    "  predictions.extend(prediction.detach().cpu().numpy())\n",
    "  real_labels.extend(y.detach().cpu().numpy())\n",
    "\n",
    "auroc_score = roc_auc_score(real_labels, predictions)*100\n",
    "print('AUROC:', round(auroc_score, 2))"
   ]
  }
 ],
 "metadata": {
  "accelerator": "GPU",
  "colab": {
   "gpuType": "A100",
   "machine_shape": "hm",
   "provenance": []
  },
  "kernelspec": {
   "display_name": "Python 3 (ipykernel)",
   "language": "python",
   "name": "python3"
  },
  "language_info": {
   "codemirror_mode": {
    "name": "ipython",
    "version": 3
   },
   "file_extension": ".py",
   "mimetype": "text/x-python",
   "name": "python",
   "nbconvert_exporter": "python",
   "pygments_lexer": "ipython3",
   "version": "3.9.12"
  }
 },
 "nbformat": 4,
 "nbformat_minor": 5
}
