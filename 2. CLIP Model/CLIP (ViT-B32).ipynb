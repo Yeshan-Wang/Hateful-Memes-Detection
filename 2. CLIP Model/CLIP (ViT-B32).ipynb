{
 "cells": [
  {
   "cell_type": "code",
   "execution_count": 1,
   "id": "3a728816-8439-4744-b0ef-f71834902406",
   "metadata": {
    "colab": {
     "base_uri": "https://localhost:8080/"
    },
    "id": "3a728816-8439-4744-b0ef-f71834902406",
    "outputId": "de6d3b5f-64f0-435c-d637-52df534c5586"
   },
   "outputs": [
    {
     "name": "stdout",
     "output_type": "stream",
     "text": [
      "Wed Jun 28 15:42:16 2023       \n",
      "+-----------------------------------------------------------------------------+\n",
      "| NVIDIA-SMI 525.85.12    Driver Version: 525.85.12    CUDA Version: 12.0     |\n",
      "|-------------------------------+----------------------+----------------------+\n",
      "| GPU  Name        Persistence-M| Bus-Id        Disp.A | Volatile Uncorr. ECC |\n",
      "| Fan  Temp  Perf  Pwr:Usage/Cap|         Memory-Usage | GPU-Util  Compute M. |\n",
      "|                               |                      |               MIG M. |\n",
      "|===============================+======================+======================|\n",
      "|   0  NVIDIA A100-SXM...  Off  | 00000000:00:04.0 Off |                    0 |\n",
      "| N/A   32C    P0    48W / 400W |      0MiB / 40960MiB |      0%      Default |\n",
      "|                               |                      |             Disabled |\n",
      "+-------------------------------+----------------------+----------------------+\n",
      "                                                                               \n",
      "+-----------------------------------------------------------------------------+\n",
      "| Processes:                                                                  |\n",
      "|  GPU   GI   CI        PID   Type   Process name                  GPU Memory |\n",
      "|        ID   ID                                                   Usage      |\n",
      "|=============================================================================|\n",
      "|  No running processes found                                                 |\n",
      "+-----------------------------------------------------------------------------+\n"
     ]
    }
   ],
   "source": [
    "!nvidia-smi"
   ]
  },
  {
   "cell_type": "code",
   "execution_count": 2,
   "id": "ff84dfc3-14b3-4e9c-a84e-45d220bc57d6",
   "metadata": {
    "colab": {
     "base_uri": "https://localhost:8080/"
    },
    "id": "ff84dfc3-14b3-4e9c-a84e-45d220bc57d6",
    "outputId": "81f4e5b9-f1af-4e5d-9eec-aaad7b46956a"
   },
   "outputs": [
    {
     "name": "stdout",
     "output_type": "stream",
     "text": [
      "Mounted at /content/drive\n"
     ]
    }
   ],
   "source": [
    "from google.colab import drive\n",
    "drive.mount('/content/drive')\n",
    "\n",
    "! unzip -q '/content/drive/MyDrive/hateful_memes.zip' -d '/content/data'"
   ]
  },
  {
   "cell_type": "code",
   "execution_count": 3,
   "id": "fcd350b4-79f8-4b8b-8d27-e58893fca8f5",
   "metadata": {
    "colab": {
     "base_uri": "https://localhost:8080/"
    },
    "id": "fcd350b4-79f8-4b8b-8d27-e58893fca8f5",
    "outputId": "0d128d0d-c0a1-4bce-9864-6c72d4ccc2f6"
   },
   "outputs": [
    {
     "name": "stdout",
     "output_type": "stream",
     "text": [
      "\u001b[2K     \u001b[90m━━━━━━━━━━━━━━━━━━━━━━━━━━━━━━━━━━━━━━━━\u001b[0m \u001b[32m53.1/53.1 kB\u001b[0m \u001b[31m6.3 MB/s\u001b[0m eta \u001b[36m0:00:00\u001b[0m\n",
      "\u001b[?25h  Preparing metadata (setup.py) ... \u001b[?25l\u001b[?25hdone\n",
      "  Building wheel for clip (setup.py) ... \u001b[?25l\u001b[?25hdone\n"
     ]
    }
   ],
   "source": [
    "! pip install --quiet ftfy regex tqdm\n",
    "! pip install --quiet git+https://github.com/openai/CLIP.git"
   ]
  },
  {
   "cell_type": "code",
   "execution_count": 4,
   "id": "f7588592-aa07-4e30-814b-adf3f7094b4b",
   "metadata": {
    "id": "f7588592-aa07-4e30-814b-adf3f7094b4b"
   },
   "outputs": [],
   "source": [
    "import os\n",
    "import json\n",
    "import pandas as pd\n",
    "import numpy as np\n",
    "import matplotlib.image as img\n",
    "\n",
    "import torch\n",
    "import torch.nn as nn\n",
    "from torch.utils.data import DataLoader\n",
    "\n",
    "import torchvision\n",
    "from torchvision import transforms as T\n",
    "import torchvision.transforms.functional as F\n",
    "\n",
    "import cv2\n",
    "import clip\n",
    "from tqdm import tqdm\n",
    "from PIL import Image\n",
    "from sklearn.metrics import roc_auc_score"
   ]
  },
  {
   "cell_type": "code",
   "execution_count": 5,
   "id": "CcaiFYZFpTj9",
   "metadata": {
    "id": "CcaiFYZFpTj9"
   },
   "outputs": [],
   "source": [
    "class ScaleMaxSideToSize(object):\n",
    "  def __init__(self, size):\n",
    "    self.size = size\n",
    "\n",
    "  def __call__(self, sample):\n",
    "    sample = cv2.resize(sample, (self.size, self.size), interpolation=cv2.INTER_AREA)\n",
    "\n",
    "    return sample\n",
    "\n",
    "\n",
    "class CropCenter(object):\n",
    "  def __init__(self, size):\n",
    "    self.size = size\n",
    "\n",
    "  def __call__(self, sample):\n",
    "    img = sample\n",
    "    h, w, _ = img.shape\n",
    "    margin_h = (h - self.size) // 2\n",
    "    margin_w = (w - self.size) // 2\n",
    "    sample = img[margin_h:margin_h + self.size, margin_w:margin_w + self.size]\n",
    "\n",
    "    return sample"
   ]
  },
  {
   "cell_type": "markdown",
   "id": "7a8c9bb2-0949-422c-9d30-7069ad357881",
   "metadata": {
    "id": "7a8c9bb2-0949-422c-9d30-7069ad357881"
   },
   "source": [
    "## 1. Load dataset"
   ]
  },
  {
   "cell_type": "code",
   "execution_count": 6,
   "id": "c106a57e-b40b-4769-8b23-3c55d76092c3",
   "metadata": {
    "id": "c106a57e-b40b-4769-8b23-3c55d76092c3"
   },
   "outputs": [],
   "source": [
    "class Load_Dataset(torch.utils.data.Dataset):\n",
    "  def __init__(self, data_path, transforms):\n",
    "    self.data = [json.loads(l) for l in open(data_path)]\n",
    "    self.data_dir = os.path.dirname(data_path)\n",
    "    self.transforms = transforms\n",
    "\n",
    "  def __getitem__(self, index: int):\n",
    "    path = os.path.join(self.data_dir, self.data[index][\"img\"])\n",
    "    image = cv2.imread(path)\n",
    "    image = cv2.cvtColor(image, cv2.COLOR_BGR2RGB)\n",
    "    text = self.data[index][\"text\"]\n",
    "    label = self.data[index][\"label\"]\n",
    "\n",
    "    if self.transforms is not None:\n",
    "        image = self.transforms(image)\n",
    "\n",
    "    return image, text, label\n",
    "\n",
    "  def __len__(self):\n",
    "    return len(self.data)"
   ]
  },
  {
   "cell_type": "code",
   "execution_count": 7,
   "id": "dd0066bd-8704-4da6-a3b7-20b93ce65864",
   "metadata": {
    "id": "dd0066bd-8704-4da6-a3b7-20b93ce65864"
   },
   "outputs": [],
   "source": [
    "CROP_SIZE = 224\n",
    "MEAN = torch.tensor([0.485, 0.456, 0.406])\n",
    "STD = torch.tensor([0.229, 0.224, 0.225])\n",
    "\n",
    "transforms = T.Compose([\n",
    "    ScaleMaxSideToSize(CROP_SIZE),\n",
    "    CropCenter(CROP_SIZE),\n",
    "    T.ToTensor(),\n",
    "    T.Normalize(mean=MEAN, std=STD)])\n",
    "\n",
    "\n",
    "train_path = '/content/data/hateful_memes/train.jsonl'\n",
    "train_dataset = Load_Dataset(train_path, transforms)\n",
    "\n",
    "dev_path = '/content/data/hateful_memes/dev_seen.jsonl'\n",
    "dev_dataset = Load_Dataset(dev_path, transforms)\n",
    "\n",
    "test_path = '/content/data/hateful_memes/test_seen.jsonl'\n",
    "test_dataset = Load_Dataset(test_path, transforms)"
   ]
  },
  {
   "cell_type": "markdown",
   "id": "ce4b17f6-8ed7-4d2f-bcef-264d36e4acbf",
   "metadata": {
    "id": "ce4b17f6-8ed7-4d2f-bcef-264d36e4acbf"
   },
   "source": [
    "## 2. Use CLIP to encode each modality to get image and text features"
   ]
  },
  {
   "cell_type": "code",
   "execution_count": 8,
   "id": "1af2651d-6f91-4eaf-8e67-5c0b55818a49",
   "metadata": {
    "colab": {
     "base_uri": "https://localhost:8080/"
    },
    "id": "1af2651d-6f91-4eaf-8e67-5c0b55818a49",
    "outputId": "9e8db87d-7e87-4c6e-d5cb-4391ffe13145"
   },
   "outputs": [
    {
     "name": "stderr",
     "output_type": "stream",
     "text": [
      "100%|███████████████████████████████████████| 338M/338M [00:05<00:00, 64.1MiB/s]\n"
     ]
    }
   ],
   "source": [
    "device = \"cuda\" if torch.cuda.is_available() else \"cpu\"\n",
    "CLIP_model, preprocess = clip.load('ViT-B/32', device=device)"
   ]
  },
  {
   "cell_type": "code",
   "execution_count": 9,
   "id": "7cc1a8ce-457e-4d75-8524-75f4612d84ad",
   "metadata": {
    "colab": {
     "base_uri": "https://localhost:8080/"
    },
    "id": "7cc1a8ce-457e-4d75-8524-75f4612d84ad",
    "outputId": "d42c9946-7215-4468-d1ba-634b0a89f3d7"
   },
   "outputs": [
    {
     "name": "stderr",
     "output_type": "stream",
     "text": [
      "100%|██████████| 85/85 [02:07<00:00,  1.50s/it]\n",
      "100%|██████████| 5/5 [00:07<00:00,  1.49s/it]\n",
      "100%|██████████| 10/10 [00:14<00:00,  1.45s/it]\n"
     ]
    }
   ],
   "source": [
    "def encode_features(model, dataset):\n",
    "  all_features = []\n",
    "  all_labels = []\n",
    "\n",
    "  with torch.no_grad():\n",
    "    for images, texts, labels in tqdm(DataLoader(dataset, batch_size=100)):\n",
    "      image_input = torch.tensor(np.stack(images)).to(device)\n",
    "      text_tokens = clip.tokenize([desc[:77] for desc in texts]).to(device)\n",
    "\n",
    "      image_features = model.encode_image(image_input).type(torch.float).to(device)\n",
    "      text_features = model.encode_text(text_tokens).type(torch.float).to(device)\n",
    "\n",
    "      features = torch.cat([image_features, text_features], dim=1)\n",
    "\n",
    "      all_features.extend(features)\n",
    "      all_labels.extend(labels)\n",
    "\n",
    "  return all_features, all_labels\n",
    "\n",
    "\n",
    "# Use CLIP to encode each modality to get image & text features\n",
    "features_train, labels_train = encode_features(CLIP_model, train_dataset)\n",
    "features_dev, labels_dev = encode_features(CLIP_model, dev_dataset)\n",
    "features_test, labels_test = encode_features(CLIP_model, test_dataset)"
   ]
  },
  {
   "cell_type": "code",
   "execution_count": 10,
   "id": "399d9c37-8491-4788-aadc-256b32910391",
   "metadata": {
    "id": "399d9c37-8491-4788-aadc-256b32910391"
   },
   "outputs": [],
   "source": [
    "class DefineDataset(torch.utils.data.Dataset):\n",
    "  def __init__(self, features, labels):\n",
    "    self.features = features\n",
    "    self.labels = labels\n",
    "\n",
    "  def __getitem__(self, index: int):\n",
    "    return self.features[index], self.labels[index]\n",
    "\n",
    "  def __len__(self):\n",
    "    return len(self.features)\n",
    "\n",
    "\n",
    "# Define train/dev/test set using image & text features and gold labels\n",
    "train_set = DefineDataset(features_train, labels_train)\n",
    "dev_set = DefineDataset(features_dev, labels_dev)\n",
    "test_set = DefineDataset(features_test, labels_test)"
   ]
  },
  {
   "cell_type": "markdown",
   "id": "5e07bb92-4639-433e-a984-84170c85b9b8",
   "metadata": {
    "id": "5e07bb92-4639-433e-a984-84170c85b9b8"
   },
   "source": [
    "## 3. Construct a neural network for classification"
   ]
  },
  {
   "cell_type": "code",
   "execution_count": 11,
   "id": "f4668dcc-54b2-4036-861b-2fe3849841fb",
   "metadata": {
    "id": "f4668dcc-54b2-4036-861b-2fe3849841fb"
   },
   "outputs": [],
   "source": [
    "torch.manual_seed(515)\n",
    "input_shape = features_train[0].shape[0]\n",
    "num_classes = 2\n",
    "shape = 256\n",
    "\n",
    "nn_model = nn.Sequential(\n",
    "    nn.Linear(input_shape, shape),\n",
    "    nn.Dropout(0.66),\n",
    "    nn.BatchNorm1d(shape),\n",
    "    nn.ReLU(inplace=True),\n",
    "\n",
    "    nn.Linear(shape, shape),\n",
    "    nn.Dropout(0.66),\n",
    "    nn.BatchNorm1d(shape),\n",
    "    nn.ReLU(inplace=True),\n",
    "\n",
    "    nn.Linear(shape, num_classes),)\n",
    "\n",
    "nn_model = nn_model.to(device)\n",
    "loss = nn.CrossEntropyLoss()\n",
    "optimizer = torch.optim.Adam(nn_model.parameters(), lr=1e-2)\n",
    "scheduler = torch.optim.lr_scheduler.StepLR(optimizer, step_size=10, gamma=0.8)"
   ]
  },
  {
   "cell_type": "markdown",
   "id": "325c07d5-2902-46ed-b60d-36ca93543c34",
   "metadata": {
    "id": "325c07d5-2902-46ed-b60d-36ca93543c34"
   },
   "source": [
    "## 4. Train and validate the classification model and save the best model after 100 epochs of training"
   ]
  },
  {
   "cell_type": "code",
   "execution_count": 12,
   "id": "b7700aaa-c37c-4b18-a30b-8e1df1653d51",
   "metadata": {
    "id": "b7700aaa-c37c-4b18-a30b-8e1df1653d51"
   },
   "outputs": [],
   "source": [
    "def get_lr(optimizer):\n",
    "  for param_group in optimizer.param_groups:\n",
    "    return param_group['lr']  # Retrieve the learning rate value from optimizer\n",
    "\n",
    "def compute_auroc(model, loader):\n",
    "  \"\"\"\n",
    "  Compute AUROC on the dataset wrapped in a loader\n",
    "  Return: AUROC score as a float value between 0 and 1\n",
    "  \"\"\"\n",
    "  model.eval()\n",
    "  real_labels = []\n",
    "  probabilities = []\n",
    "\n",
    "  for i_step, (x, y) in enumerate(loader):\n",
    "    x = x.to(device)\n",
    "    y = y.to(device)\n",
    "    prediction = model(x)\n",
    "    # select probabilities corresponding to the positive class\n",
    "    prediction = prediction[:, 1]  # positive class in the second column\n",
    "    probabilities.extend(prediction.detach().cpu().numpy())\n",
    "    real_labels.extend(y.detach().cpu().numpy())\n",
    "\n",
    "  auroc = roc_auc_score(real_labels, probabilities)*100\n",
    "  return auroc"
   ]
  },
  {
   "cell_type": "code",
   "execution_count": 13,
   "id": "9e602c43-d58b-490a-b7d4-0e8c1190d93b",
   "metadata": {
    "colab": {
     "base_uri": "https://localhost:8080/"
    },
    "id": "9e602c43-d58b-490a-b7d4-0e8c1190d93b",
    "outputId": "28d22ebf-3f9d-47c1-e5a5-4e52f028d920"
   },
   "outputs": [
    {
     "name": "stdout",
     "output_type": "stream",
     "text": [
      "Epoch: 0 lr: 0.010000; Average loss: 0.649897, Val AUROC: 66.121521\n",
      "Epoch: 1 lr: 0.010000; Average loss: 0.542082, Val AUROC: 67.579331\n",
      "Epoch: 2 lr: 0.010000; Average loss: 0.487924, Val AUROC: 68.173017\n",
      "Epoch: 3 lr: 0.010000; Average loss: 0.473359, Val AUROC: 69.341185\n",
      "Epoch: 4 lr: 0.010000; Average loss: 0.444091, Val AUROC: 68.801907\n",
      "Epoch: 5 lr: 0.010000; Average loss: 0.426362, Val AUROC: 69.811653\n",
      "Epoch: 6 lr: 0.010000; Average loss: 0.412807, Val AUROC: 70.293322\n",
      "saved Best_model_70.29.ckpt\n",
      "Epoch: 7 lr: 0.010000; Average loss: 0.387429, Val AUROC: 71.642316\n",
      "saved Best_model_71.64.ckpt\n",
      "Epoch: 8 lr: 0.010000; Average loss: 0.375325, Val AUROC: 71.157447\n",
      "Epoch: 9 lr: 0.010000; Average loss: 0.353236, Val AUROC: 70.739787\n",
      "Epoch: 10 lr: 0.008000; Average loss: 0.335087, Val AUROC: 70.328527\n",
      "Epoch: 11 lr: 0.008000; Average loss: 0.305987, Val AUROC: 71.594310\n",
      "Epoch: 12 lr: 0.008000; Average loss: 0.284976, Val AUROC: 71.277464\n",
      "Epoch: 13 lr: 0.008000; Average loss: 0.278180, Val AUROC: 72.242403\n",
      "saved Best_model_72.24.ckpt\n",
      "Epoch: 14 lr: 0.008000; Average loss: 0.264932, Val AUROC: 71.800739\n",
      "Epoch: 15 lr: 0.008000; Average loss: 0.239905, Val AUROC: 71.629515\n",
      "Epoch: 16 lr: 0.008000; Average loss: 0.221808, Val AUROC: 72.525644\n",
      "saved Best_model_72.53.ckpt\n",
      "Epoch: 17 lr: 0.008000; Average loss: 0.220753, Val AUROC: 71.794338\n",
      "Epoch: 18 lr: 0.008000; Average loss: 0.221925, Val AUROC: 72.804084\n",
      "saved Best_model_72.8.ckpt\n",
      "Epoch: 19 lr: 0.008000; Average loss: 0.206718, Val AUROC: 72.512842\n",
      "Epoch: 20 lr: 0.006400; Average loss: 0.188802, Val AUROC: 70.549359\n",
      "Epoch: 21 lr: 0.006400; Average loss: 0.179777, Val AUROC: 71.547903\n",
      "Epoch: 22 lr: 0.006400; Average loss: 0.172113, Val AUROC: 71.752732\n",
      "Epoch: 23 lr: 0.006400; Average loss: 0.157162, Val AUROC: 72.035973\n",
      "Epoch: 24 lr: 0.006400; Average loss: 0.143179, Val AUROC: 71.303068\n",
      "Epoch: 25 lr: 0.006400; Average loss: 0.138457, Val AUROC: 71.874350\n",
      "Epoch: 26 lr: 0.006400; Average loss: 0.138273, Val AUROC: 71.922357\n",
      "Epoch: 27 lr: 0.006400; Average loss: 0.144454, Val AUROC: 72.682466\n",
      "Epoch: 28 lr: 0.006400; Average loss: 0.128226, Val AUROC: 72.429630\n",
      "Epoch: 29 lr: 0.006400; Average loss: 0.124734, Val AUROC: 71.639116\n",
      "Epoch: 30 lr: 0.005120; Average loss: 0.119068, Val AUROC: 72.392825\n",
      "Epoch: 31 lr: 0.005120; Average loss: 0.111933, Val AUROC: 71.992767\n",
      "Epoch: 32 lr: 0.005120; Average loss: 0.098063, Val AUROC: 71.258261\n",
      "Epoch: 33 lr: 0.005120; Average loss: 0.106043, Val AUROC: 71.354275\n",
      "Epoch: 34 lr: 0.005120; Average loss: 0.095244, Val AUROC: 72.155990\n",
      "Epoch: 35 lr: 0.005120; Average loss: 0.093841, Val AUROC: 72.647261\n",
      "Epoch: 36 lr: 0.005120; Average loss: 0.084985, Val AUROC: 72.268007\n",
      "Epoch: 37 lr: 0.005120; Average loss: 0.090383, Val AUROC: 71.899954\n",
      "Epoch: 38 lr: 0.005120; Average loss: 0.080193, Val AUROC: 71.600711\n",
      "Epoch: 39 lr: 0.005120; Average loss: 0.079208, Val AUROC: 72.450433\n",
      "Epoch: 40 lr: 0.004096; Average loss: 0.073054, Val AUROC: 72.389624\n",
      "Epoch: 41 lr: 0.004096; Average loss: 0.068185, Val AUROC: 72.101583\n",
      "Epoch: 42 lr: 0.004096; Average loss: 0.057551, Val AUROC: 72.069578\n",
      "Epoch: 43 lr: 0.004096; Average loss: 0.063573, Val AUROC: 73.036117\n",
      "saved Best_model_73.04.ckpt\n",
      "Epoch: 44 lr: 0.004096; Average loss: 0.057744, Val AUROC: 72.888896\n",
      "Epoch: 45 lr: 0.004096; Average loss: 0.061827, Val AUROC: 72.778480\n",
      "Epoch: 46 lr: 0.004096; Average loss: 0.061128, Val AUROC: 72.677666\n",
      "Epoch: 47 lr: 0.004096; Average loss: 0.062466, Val AUROC: 72.644061\n",
      "Epoch: 48 lr: 0.004096; Average loss: 0.064550, Val AUROC: 72.119185\n",
      "Epoch: 49 lr: 0.004096; Average loss: 0.059635, Val AUROC: 72.216799\n",
      "Epoch: 50 lr: 0.003277; Average loss: 0.054865, Val AUROC: 72.410427\n",
      "Epoch: 51 lr: 0.003277; Average loss: 0.049063, Val AUROC: 71.936759\n",
      "Epoch: 52 lr: 0.003277; Average loss: 0.049565, Val AUROC: 72.399225\n",
      "Epoch: 53 lr: 0.003277; Average loss: 0.049693, Val AUROC: 72.368821\n",
      "Epoch: 54 lr: 0.003277; Average loss: 0.043362, Val AUROC: 72.082380\n",
      "Epoch: 55 lr: 0.003277; Average loss: 0.037030, Val AUROC: 72.104783\n",
      "Epoch: 56 lr: 0.003277; Average loss: 0.041284, Val AUROC: 72.287209\n",
      "Epoch: 57 lr: 0.003277; Average loss: 0.042646, Val AUROC: 72.010369\n",
      "Epoch: 58 lr: 0.003277; Average loss: 0.042455, Val AUROC: 72.399225\n",
      "Epoch: 59 lr: 0.003277; Average loss: 0.040160, Val AUROC: 72.007169\n",
      "Epoch: 60 lr: 0.002621; Average loss: 0.045845, Val AUROC: 72.564049\n",
      "Epoch: 61 lr: 0.002621; Average loss: 0.036134, Val AUROC: 72.364020\n",
      "Epoch: 62 lr: 0.002621; Average loss: 0.033673, Val AUROC: 72.266406\n",
      "Epoch: 63 lr: 0.002621; Average loss: 0.034314, Val AUROC: 72.162391\n",
      "Epoch: 64 lr: 0.002621; Average loss: 0.032893, Val AUROC: 71.997568\n",
      "Epoch: 65 lr: 0.002621; Average loss: 0.031353, Val AUROC: 71.994367\n",
      "Epoch: 66 lr: 0.002621; Average loss: 0.037351, Val AUROC: 72.351219\n",
      "Epoch: 67 lr: 0.002621; Average loss: 0.029681, Val AUROC: 72.469636\n",
      "Epoch: 68 lr: 0.002621; Average loss: 0.031723, Val AUROC: 72.372022\n",
      "Epoch: 69 lr: 0.002621; Average loss: 0.031712, Val AUROC: 72.183194\n",
      "Epoch: 70 lr: 0.002097; Average loss: 0.029603, Val AUROC: 72.268007\n",
      "Epoch: 71 lr: 0.002097; Average loss: 0.030155, Val AUROC: 72.163992\n",
      "Epoch: 72 lr: 0.002097; Average loss: 0.027265, Val AUROC: 72.194396\n",
      "Epoch: 73 lr: 0.002097; Average loss: 0.025145, Val AUROC: 71.770335\n",
      "Epoch: 74 lr: 0.002097; Average loss: 0.027429, Val AUROC: 71.624714\n",
      "Epoch: 75 lr: 0.002097; Average loss: 0.024879, Val AUROC: 72.040774\n",
      "Epoch: 76 lr: 0.002097; Average loss: 0.027148, Val AUROC: 72.248804\n",
      "Epoch: 77 lr: 0.002097; Average loss: 0.028058, Val AUROC: 72.047175\n",
      "Epoch: 78 lr: 0.002097; Average loss: 0.023668, Val AUROC: 72.011970\n",
      "Epoch: 79 lr: 0.002097; Average loss: 0.023674, Val AUROC: 72.037573\n",
      "Epoch: 80 lr: 0.001678; Average loss: 0.024911, Val AUROC: 72.159191\n",
      "Epoch: 81 lr: 0.001678; Average loss: 0.023144, Val AUROC: 72.176793\n",
      "Epoch: 82 lr: 0.001678; Average loss: 0.022382, Val AUROC: 72.333616\n",
      "Epoch: 83 lr: 0.001678; Average loss: 0.021167, Val AUROC: 72.147989\n",
      "Epoch: 84 lr: 0.001678; Average loss: 0.020578, Val AUROC: 71.887152\n",
      "Epoch: 85 lr: 0.001678; Average loss: 0.023327, Val AUROC: 71.781537\n",
      "Epoch: 86 lr: 0.001678; Average loss: 0.022894, Val AUROC: 71.706326\n",
      "Epoch: 87 lr: 0.001678; Average loss: 0.022905, Val AUROC: 71.786337\n",
      "Epoch: 88 lr: 0.001678; Average loss: 0.021706, Val AUROC: 71.827943\n",
      "Epoch: 89 lr: 0.001678; Average loss: 0.018651, Val AUROC: 72.053576\n",
      "Epoch: 90 lr: 0.001342; Average loss: 0.019869, Val AUROC: 71.976765\n",
      "Epoch: 91 lr: 0.001342; Average loss: 0.020175, Val AUROC: 71.816742\n",
      "Epoch: 92 lr: 0.001342; Average loss: 0.020048, Val AUROC: 71.955962\n",
      "Epoch: 93 lr: 0.001342; Average loss: 0.017686, Val AUROC: 71.949561\n",
      "Epoch: 94 lr: 0.001342; Average loss: 0.016187, Val AUROC: 71.891952\n",
      "Epoch: 95 lr: 0.001342; Average loss: 0.016677, Val AUROC: 71.994367\n",
      "Epoch: 96 lr: 0.001342; Average loss: 0.016436, Val AUROC: 72.039174\n",
      "Epoch: 97 lr: 0.001342; Average loss: 0.016313, Val AUROC: 72.208798\n",
      "Epoch: 98 lr: 0.001342; Average loss: 0.015033, Val AUROC: 72.200797\n",
      "Epoch: 99 lr: 0.001342; Average loss: 0.017263, Val AUROC: 72.130387\n"
     ]
    }
   ],
   "source": [
    "train_loader = DataLoader(train_set, batch_size=500)\n",
    "val_loader = DataLoader(dev_set, batch_size=500)\n",
    "top_val_AUROC = 70\n",
    "\n",
    "for epoch in range(100):\n",
    "  nn_model.train()\n",
    "  loss_accum = 0\n",
    "  for i_step, (x, y) in enumerate(train_loader):\n",
    "    x = x.to(device)\n",
    "    y = y.to(device)\n",
    "    prediction = nn_model(x)\n",
    "    loss_value = loss(prediction, y.type(torch.long))\n",
    "    optimizer.zero_grad()\n",
    "    loss_value.backward()\n",
    "    optimizer.step()\n",
    "    loss_accum += loss_value\n",
    "\n",
    "  ave_loss = loss_accum / (i_step + 1)\n",
    "  val_AUROC = compute_auroc(nn_model, val_loader)\n",
    "  print(\"Epoch: %i lr: %f; Average loss: %f, Val AUROC: %f\" % (epoch, get_lr(optimizer), ave_loss, val_AUROC))\n",
    "\n",
    "  if scheduler != None:\n",
    "    scheduler.step()\n",
    "\n",
    "  if val_AUROC > top_val_AUROC:\n",
    "    top_val_AUROC = val_AUROC\n",
    "    best_model_name = f'Best_model_{round(val_AUROC, 2)}.ckpt'\n",
    "    torch.save(nn_model, open(best_model_name, 'wb'))\n",
    "    print(\"saved\", best_model_name)"
   ]
  },
  {
   "cell_type": "markdown",
   "id": "bdaa3cd1-3201-48fa-b00a-084d5807557a",
   "metadata": {
    "id": "bdaa3cd1-3201-48fa-b00a-084d5807557a"
   },
   "source": [
    "## 5. test the best model"
   ]
  },
  {
   "cell_type": "code",
   "execution_count": 14,
   "id": "GtDtcz4VyhOS",
   "metadata": {
    "colab": {
     "base_uri": "https://localhost:8080/"
    },
    "id": "GtDtcz4VyhOS",
    "outputId": "c8299efa-44b7-419c-e1a8-59348f7c2373"
   },
   "outputs": [
    {
     "name": "stdout",
     "output_type": "stream",
     "text": [
      "Sequential(\n",
      "  (0): Linear(in_features=1024, out_features=256, bias=True)\n",
      "  (1): Dropout(p=0.66, inplace=False)\n",
      "  (2): BatchNorm1d(256, eps=1e-05, momentum=0.1, affine=True, track_running_stats=True)\n",
      "  (3): ReLU(inplace=True)\n",
      "  (4): Linear(in_features=256, out_features=256, bias=True)\n",
      "  (5): Dropout(p=0.66, inplace=False)\n",
      "  (6): BatchNorm1d(256, eps=1e-05, momentum=0.1, affine=True, track_running_stats=True)\n",
      "  (7): ReLU(inplace=True)\n",
      "  (8): Linear(in_features=256, out_features=2, bias=True)\n",
      ")\n"
     ]
    }
   ],
   "source": [
    "best_model = torch.load(open(best_model_name, 'rb'))\n",
    "print(best_model)"
   ]
  },
  {
   "cell_type": "code",
   "execution_count": 15,
   "id": "802772c4-772d-4df6-8b15-c7c6e6e348c9",
   "metadata": {
    "colab": {
     "base_uri": "https://localhost:8080/"
    },
    "id": "802772c4-772d-4df6-8b15-c7c6e6e348c9",
    "outputId": "baf0642e-1323-4a45-9334-4973515c048c"
   },
   "outputs": [
    {
     "name": "stdout",
     "output_type": "stream",
     "text": [
      "AUROC: 76.89\n"
     ]
    }
   ],
   "source": [
    "best_model = best_model.to(device)\n",
    "best_model.eval()\n",
    "\n",
    "test_loader = DataLoader(test_set, batch_size=500)\n",
    "real_labels = []\n",
    "predictions = []\n",
    "\n",
    "for i_step, (x, y) in enumerate(test_loader):\n",
    "  x = x.to(device)\n",
    "  y = y.to(device)\n",
    "  prediction = best_model(x)\n",
    "  # select probabilities corresponding to the positive class\n",
    "  prediction = prediction[:, 1]  # positive class in the second column\n",
    "  predictions.extend(prediction.detach().cpu().numpy())\n",
    "  real_labels.extend(y.detach().cpu().numpy())\n",
    "\n",
    "auroc_score = roc_auc_score(real_labels, predictions)*100\n",
    "print('AUROC:', round(auroc_score, 2))"
   ]
  }
 ],
 "metadata": {
  "accelerator": "GPU",
  "colab": {
   "gpuType": "A100",
   "machine_shape": "hm",
   "provenance": []
  },
  "kernelspec": {
   "display_name": "Python 3 (ipykernel)",
   "language": "python",
   "name": "python3"
  },
  "language_info": {
   "codemirror_mode": {
    "name": "ipython",
    "version": 3
   },
   "file_extension": ".py",
   "mimetype": "text/x-python",
   "name": "python",
   "nbconvert_exporter": "python",
   "pygments_lexer": "ipython3",
   "version": "3.9.12"
  }
 },
 "nbformat": 4,
 "nbformat_minor": 5
}
