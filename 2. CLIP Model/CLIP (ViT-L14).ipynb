{
  "cells": [
    {
      "cell_type": "code",
      "execution_count": 1,
      "id": "3a728816-8439-4744-b0ef-f71834902406",
      "metadata": {
        "colab": {
          "base_uri": "https://localhost:8080/"
        },
        "id": "3a728816-8439-4744-b0ef-f71834902406",
        "outputId": "ad1b16b8-4ff6-4630-f868-f3a3c90e6f0c"
      },
      "outputs": [
        {
          "output_type": "stream",
          "name": "stdout",
          "text": [
            "Tue Jul 18 20:23:25 2023       \n",
            "+-----------------------------------------------------------------------------+\n",
            "| NVIDIA-SMI 525.105.17   Driver Version: 525.105.17   CUDA Version: 12.0     |\n",
            "|-------------------------------+----------------------+----------------------+\n",
            "| GPU  Name        Persistence-M| Bus-Id        Disp.A | Volatile Uncorr. ECC |\n",
            "| Fan  Temp  Perf  Pwr:Usage/Cap|         Memory-Usage | GPU-Util  Compute M. |\n",
            "|                               |                      |               MIG M. |\n",
            "|===============================+======================+======================|\n",
            "|   0  NVIDIA A100-SXM...  Off  | 00000000:00:04.0 Off |                    0 |\n",
            "| N/A   33C    P0    42W / 400W |      0MiB / 40960MiB |      0%      Default |\n",
            "|                               |                      |             Disabled |\n",
            "+-------------------------------+----------------------+----------------------+\n",
            "                                                                               \n",
            "+-----------------------------------------------------------------------------+\n",
            "| Processes:                                                                  |\n",
            "|  GPU   GI   CI        PID   Type   Process name                  GPU Memory |\n",
            "|        ID   ID                                                   Usage      |\n",
            "|=============================================================================|\n",
            "|  No running processes found                                                 |\n",
            "+-----------------------------------------------------------------------------+\n"
          ]
        }
      ],
      "source": [
        "!nvidia-smi"
      ]
    },
    {
      "cell_type": "code",
      "execution_count": 2,
      "id": "ff84dfc3-14b3-4e9c-a84e-45d220bc57d6",
      "metadata": {
        "colab": {
          "base_uri": "https://localhost:8080/"
        },
        "id": "ff84dfc3-14b3-4e9c-a84e-45d220bc57d6",
        "outputId": "1cefa124-a6e8-409a-afc3-3d15f1217e9a"
      },
      "outputs": [
        {
          "output_type": "stream",
          "name": "stdout",
          "text": [
            "Mounted at /content/drive\n"
          ]
        }
      ],
      "source": [
        "from google.colab import drive\n",
        "drive.mount('/content/drive')\n",
        "\n",
        "! unzip -q '/content/drive/MyDrive/hateful_memes.zip' -d '/content/data'"
      ]
    },
    {
      "cell_type": "code",
      "execution_count": 3,
      "id": "fcd350b4-79f8-4b8b-8d27-e58893fca8f5",
      "metadata": {
        "id": "fcd350b4-79f8-4b8b-8d27-e58893fca8f5",
        "colab": {
          "base_uri": "https://localhost:8080/"
        },
        "outputId": "383c52e5-f555-4756-88c5-ec6da0ee0ee4"
      },
      "outputs": [
        {
          "output_type": "stream",
          "name": "stdout",
          "text": [
            "\u001b[?25l     \u001b[90m━━━━━━━━━━━━━━━━━━━━━━━━━━━━━━━━━━━━━━━━\u001b[0m \u001b[32m0.0/53.1 kB\u001b[0m \u001b[31m?\u001b[0m eta \u001b[36m-:--:--\u001b[0m\r\u001b[2K     \u001b[90m━━━━━━━━━━━━━━━━━━━━━━━━━━━━━━━━━━━━━━━━\u001b[0m \u001b[32m53.1/53.1 kB\u001b[0m \u001b[31m5.0 MB/s\u001b[0m eta \u001b[36m0:00:00\u001b[0m\n",
            "\u001b[?25h  Preparing metadata (setup.py) ... \u001b[?25l\u001b[?25hdone\n",
            "  Building wheel for clip (setup.py) ... \u001b[?25l\u001b[?25hdone\n"
          ]
        }
      ],
      "source": [
        "! pip install --quiet ftfy regex tqdm\n",
        "! pip install --quiet git+https://github.com/openai/CLIP.git"
      ]
    },
    {
      "cell_type": "code",
      "execution_count": 4,
      "id": "f7588592-aa07-4e30-814b-adf3f7094b4b",
      "metadata": {
        "id": "f7588592-aa07-4e30-814b-adf3f7094b4b"
      },
      "outputs": [],
      "source": [
        "import os\n",
        "import json\n",
        "import pandas as pd\n",
        "import numpy as np\n",
        "import matplotlib.image as img\n",
        "\n",
        "import torch\n",
        "import torch.nn as nn\n",
        "from torch.utils.data import DataLoader\n",
        "\n",
        "import torchvision\n",
        "from torchvision import transforms as T\n",
        "import torchvision.transforms.functional as F\n",
        "\n",
        "import cv2\n",
        "import clip\n",
        "from tqdm import tqdm\n",
        "from PIL import Image\n",
        "from sklearn.metrics import roc_auc_score"
      ]
    },
    {
      "cell_type": "code",
      "source": [
        "class ScaleMaxSideToSize(object):\n",
        "  def __init__(self, size):\n",
        "    self.size = size\n",
        "\n",
        "  def __call__(self, sample):\n",
        "    sample = cv2.resize(sample, (self.size, self.size), interpolation=cv2.INTER_AREA)\n",
        "\n",
        "    return sample\n",
        "\n",
        "\n",
        "class CropCenter(object):\n",
        "  def __init__(self, size):\n",
        "    self.size = size\n",
        "\n",
        "  def __call__(self, sample):\n",
        "    img = sample\n",
        "    h, w, _ = img.shape\n",
        "    margin_h = (h - self.size) // 2\n",
        "    margin_w = (w - self.size) // 2\n",
        "    sample = img[margin_h:margin_h + self.size, margin_w:margin_w + self.size]\n",
        "\n",
        "    return sample"
      ],
      "metadata": {
        "id": "CcaiFYZFpTj9"
      },
      "id": "CcaiFYZFpTj9",
      "execution_count": 5,
      "outputs": []
    },
    {
      "cell_type": "markdown",
      "id": "7a8c9bb2-0949-422c-9d30-7069ad357881",
      "metadata": {
        "id": "7a8c9bb2-0949-422c-9d30-7069ad357881"
      },
      "source": [
        "## 1. Load dataset"
      ]
    },
    {
      "cell_type": "code",
      "execution_count": 6,
      "id": "c106a57e-b40b-4769-8b23-3c55d76092c3",
      "metadata": {
        "id": "c106a57e-b40b-4769-8b23-3c55d76092c3"
      },
      "outputs": [],
      "source": [
        "class Load_Dataset(torch.utils.data.Dataset):\n",
        "  def __init__(self, data_path, transforms):\n",
        "    self.data = [json.loads(l) for l in open(data_path)]\n",
        "    self.data_dir = os.path.dirname(data_path)\n",
        "    self.transforms = transforms\n",
        "\n",
        "  def __getitem__(self, index: int):\n",
        "    path = os.path.join(self.data_dir, self.data[index][\"img\"])\n",
        "    image = cv2.imread(path)\n",
        "    image = cv2.cvtColor(image, cv2.COLOR_BGR2RGB)\n",
        "    id = self.data[index][\"id\"]\n",
        "    text = self.data[index][\"text\"]\n",
        "    label = self.data[index][\"label\"]\n",
        "\n",
        "    if self.transforms is not None:\n",
        "        image = self.transforms(image)\n",
        "\n",
        "    return id, image, text, label\n",
        "\n",
        "  def __len__(self):\n",
        "    return len(self.data)"
      ]
    },
    {
      "cell_type": "code",
      "execution_count": 7,
      "id": "dd0066bd-8704-4da6-a3b7-20b93ce65864",
      "metadata": {
        "id": "dd0066bd-8704-4da6-a3b7-20b93ce65864"
      },
      "outputs": [],
      "source": [
        "CROP_SIZE = 224\n",
        "MEAN = torch.tensor([0.485, 0.456, 0.406])\n",
        "STD = torch.tensor([0.229, 0.224, 0.225])\n",
        "\n",
        "transforms = T.Compose([\n",
        "    ScaleMaxSideToSize(CROP_SIZE),\n",
        "    CropCenter(CROP_SIZE),\n",
        "    T.ToTensor(),\n",
        "    T.Normalize(mean=MEAN, std=STD)])\n",
        "\n",
        "\n",
        "train_path = '/content/data/hateful_memes/train.jsonl'\n",
        "train_dataset = Load_Dataset(train_path, transforms)\n",
        "\n",
        "dev_path = '/content/data/hateful_memes/dev_seen.jsonl'\n",
        "dev_dataset = Load_Dataset(dev_path, transforms)\n",
        "\n",
        "test_path = '/content/data/hateful_memes/test_seen.jsonl'\n",
        "test_dataset = Load_Dataset(test_path, transforms)"
      ]
    },
    {
      "cell_type": "markdown",
      "id": "ce4b17f6-8ed7-4d2f-bcef-264d36e4acbf",
      "metadata": {
        "id": "ce4b17f6-8ed7-4d2f-bcef-264d36e4acbf"
      },
      "source": [
        "## 2. Use CLIP to encode each modality to get image and text features"
      ]
    },
    {
      "cell_type": "code",
      "execution_count": 8,
      "id": "1af2651d-6f91-4eaf-8e67-5c0b55818a49",
      "metadata": {
        "id": "1af2651d-6f91-4eaf-8e67-5c0b55818a49",
        "colab": {
          "base_uri": "https://localhost:8080/"
        },
        "outputId": "d2f75160-ddab-47d6-ed32-85c409170911"
      },
      "outputs": [
        {
          "output_type": "stream",
          "name": "stderr",
          "text": [
            "100%|███████████████████████████████████████| 890M/890M [00:14<00:00, 63.0MiB/s]\n"
          ]
        }
      ],
      "source": [
        "device = \"cuda\" if torch.cuda.is_available() else \"cpu\"\n",
        "CLIP_model, preprocess = clip.load('ViT-L/14', device=device)"
      ]
    },
    {
      "cell_type": "code",
      "execution_count": 9,
      "id": "7cc1a8ce-457e-4d75-8524-75f4612d84ad",
      "metadata": {
        "id": "7cc1a8ce-457e-4d75-8524-75f4612d84ad",
        "colab": {
          "base_uri": "https://localhost:8080/"
        },
        "outputId": "4ab7fc58-3ef8-4e0f-b855-b69f05fa400c"
      },
      "outputs": [
        {
          "output_type": "stream",
          "name": "stderr",
          "text": [
            "100%|██████████| 85/85 [02:20<00:00,  1.65s/it]\n",
            "100%|██████████| 5/5 [00:08<00:00,  1.65s/it]\n",
            "100%|██████████| 10/10 [00:16<00:00,  1.60s/it]\n"
          ]
        }
      ],
      "source": [
        "def encode_features(model, dataset):\n",
        "  all_ids = []\n",
        "  all_features = []\n",
        "  all_labels = []\n",
        "\n",
        "  with torch.no_grad():\n",
        "    for ids, images, texts, labels in tqdm(DataLoader(dataset, batch_size=100)):\n",
        "      image_input = torch.tensor(np.stack(images)).to(device)\n",
        "      text_tokens = clip.tokenize([desc[:77] for desc in texts]).to(device)\n",
        "\n",
        "      image_features = model.encode_image(image_input).type(torch.float).to(device)\n",
        "      text_features = model.encode_text(text_tokens).type(torch.float).to(device)\n",
        "\n",
        "      features = torch.cat([image_features, text_features], dim=1)\n",
        "\n",
        "      all_ids.extend(ids)\n",
        "      all_features.extend(features)\n",
        "      all_labels.extend(labels)\n",
        "\n",
        "  return all_ids, all_features, all_labels\n",
        "\n",
        "\n",
        "# Use CLIP to encode each modality to get image & text features\n",
        "ids_train, features_train, labels_train = encode_features(CLIP_model, train_dataset)\n",
        "ids_dev, features_dev, labels_dev = encode_features(CLIP_model, dev_dataset)\n",
        "ids_test, features_test, labels_test = encode_features(CLIP_model, test_dataset)"
      ]
    },
    {
      "cell_type": "code",
      "execution_count": 10,
      "id": "399d9c37-8491-4788-aadc-256b32910391",
      "metadata": {
        "id": "399d9c37-8491-4788-aadc-256b32910391"
      },
      "outputs": [],
      "source": [
        "class DefineDataset(torch.utils.data.Dataset):\n",
        "  def __init__(self, ids, features, labels):\n",
        "    self.ids = ids\n",
        "    self.features = features\n",
        "    self.labels = labels\n",
        "\n",
        "  def __getitem__(self, index: int):\n",
        "    return self.ids[index], self.features[index], self.labels[index]\n",
        "\n",
        "  def __len__(self):\n",
        "    return len(self.features)\n",
        "\n",
        "\n",
        "# Define train/dev/test set using image & text features and gold labels\n",
        "train_set = DefineDataset(ids_train, features_train, labels_train)\n",
        "dev_set = DefineDataset(ids_dev, features_dev, labels_dev)\n",
        "test_set = DefineDataset(ids_test, features_test, labels_test)"
      ]
    },
    {
      "cell_type": "markdown",
      "id": "5e07bb92-4639-433e-a984-84170c85b9b8",
      "metadata": {
        "id": "5e07bb92-4639-433e-a984-84170c85b9b8"
      },
      "source": [
        "## 3. Construct a neural network for classification"
      ]
    },
    {
      "cell_type": "code",
      "execution_count": 11,
      "id": "f4668dcc-54b2-4036-861b-2fe3849841fb",
      "metadata": {
        "id": "f4668dcc-54b2-4036-861b-2fe3849841fb"
      },
      "outputs": [],
      "source": [
        "torch.manual_seed(78)\n",
        "input_shape = features_train[0].shape[0]\n",
        "num_classes = 2\n",
        "shape = 256\n",
        "\n",
        "nn_model = nn.Sequential(\n",
        "    nn.Linear(input_shape, shape),\n",
        "    nn.Dropout(0.66),\n",
        "    nn.BatchNorm1d(shape),\n",
        "    nn.ReLU(inplace=True),\n",
        "\n",
        "    nn.Linear(shape, shape),\n",
        "    nn.Dropout(0.66),\n",
        "    nn.BatchNorm1d(shape),\n",
        "    nn.ReLU(inplace=True),\n",
        "\n",
        "    nn.Linear(shape, num_classes),)\n",
        "\n",
        "nn_model = nn_model.to(device)\n",
        "loss = nn.CrossEntropyLoss()\n",
        "optimizer = torch.optim.Adam(nn_model.parameters(), lr=1e-2)\n",
        "scheduler = torch.optim.lr_scheduler.StepLR(optimizer, step_size=10, gamma=0.8)"
      ]
    },
    {
      "cell_type": "markdown",
      "id": "325c07d5-2902-46ed-b60d-36ca93543c34",
      "metadata": {
        "id": "325c07d5-2902-46ed-b60d-36ca93543c34"
      },
      "source": [
        "## 4. Train and validate the classification model and save the best model after 100 epochs of training"
      ]
    },
    {
      "cell_type": "code",
      "execution_count": 12,
      "id": "b7700aaa-c37c-4b18-a30b-8e1df1653d51",
      "metadata": {
        "id": "b7700aaa-c37c-4b18-a30b-8e1df1653d51"
      },
      "outputs": [],
      "source": [
        "def get_lr(optimizer):\n",
        "  for param_group in optimizer.param_groups:\n",
        "    return param_group['lr']  # Retrieve the learning rate value from optimizer\n",
        "\n",
        "def compute_auroc(model, loader):\n",
        "  \"\"\"\n",
        "  Compute AUROC on the dataset wrapped in a loader\n",
        "  Return: AUROC score as a float value between 0 and 1\n",
        "  \"\"\"\n",
        "  model.eval()\n",
        "  real_labels = []\n",
        "  probabilities = []\n",
        "\n",
        "  for i_step, (i, x, y) in enumerate(loader):\n",
        "    x = x.to(device)\n",
        "    y = y.to(device)\n",
        "    prediction = model(x)\n",
        "    # select probabilities corresponding to the positive class\n",
        "    prediction = prediction[:, 1]  # positive class in the second column\n",
        "    probabilities.extend(prediction.detach().cpu().numpy())\n",
        "    real_labels.extend(y.detach().cpu().numpy())\n",
        "\n",
        "  auroc = roc_auc_score(real_labels, probabilities)*100\n",
        "  return auroc"
      ]
    },
    {
      "cell_type": "code",
      "execution_count": 13,
      "id": "9e602c43-d58b-490a-b7d4-0e8c1190d93b",
      "metadata": {
        "id": "9e602c43-d58b-490a-b7d4-0e8c1190d93b",
        "colab": {
          "base_uri": "https://localhost:8080/"
        },
        "outputId": "3460c907-4104-43cf-d021-6541025ca097"
      },
      "outputs": [
        {
          "output_type": "stream",
          "name": "stdout",
          "text": [
            "Epoch: 0 lr: 0.010000; Average loss: 0.601455, Val AUROC: 71.403882\n",
            "saved Best_model_71.4.ckpt\n",
            "Epoch: 1 lr: 0.010000; Average loss: 0.487269, Val AUROC: 73.117729\n",
            "saved Best_model_73.12.ckpt\n",
            "Epoch: 2 lr: 0.010000; Average loss: 0.429518, Val AUROC: 75.214031\n",
            "saved Best_model_75.21.ckpt\n",
            "Epoch: 4 lr: 0.010000; Average loss: 0.384817, Val AUROC: 76.396601\n",
            "saved Best_model_76.4.ckpt\n",
            "Epoch: 5 lr: 0.010000; Average loss: 0.354493, Val AUROC: 77.457554\n",
            "saved Best_model_77.46.ckpt\n",
            "Epoch: 6 lr: 0.010000; Average loss: 0.333768, Val AUROC: 78.147253\n",
            "saved Best_model_78.15.ckpt\n",
            "Epoch: 7 lr: 0.010000; Average loss: 0.330218, Val AUROC: 78.641724\n",
            "saved Best_model_78.64.ckpt\n",
            "Epoch: 9 lr: 0.008000; Average loss: 0.287008, Val AUROC: 78.694532\n",
            "saved Best_model_78.69.ckpt\n",
            "Epoch: 10 lr: 0.008000; Average loss: 0.268104, Val AUROC: 78.928166\n",
            "saved Best_model_78.93.ckpt\n",
            "Epoch: 11 lr: 0.008000; Average loss: 0.243102, Val AUROC: 79.320222\n",
            "saved Best_model_79.32.ckpt\n",
            "Epoch: 13 lr: 0.008000; Average loss: 0.220575, Val AUROC: 79.763486\n",
            "saved Best_model_79.76.ckpt\n",
            "Epoch: 15 lr: 0.008000; Average loss: 0.195886, Val AUROC: 80.045126\n",
            "saved Best_model_80.05.ckpt\n",
            "Epoch: 19 lr: 0.006400; Average loss: 0.155791, Val AUROC: 80.219552\n",
            "saved Best_model_80.22.ckpt\n",
            "Epoch: 22 lr: 0.006400; Average loss: 0.136565, Val AUROC: 80.440383\n",
            "saved Best_model_80.44.ckpt\n",
            "Epoch: 24 lr: 0.006400; Average loss: 0.124563, Val AUROC: 80.467587\n",
            "saved Best_model_80.47.ckpt\n",
            "Epoch: 29 lr: 0.005120; Average loss: 0.104994, Val AUROC: 80.531597\n",
            "saved Best_model_80.53.ckpt\n",
            "Epoch: 32 lr: 0.005120; Average loss: 0.079380, Val AUROC: 80.720424\n",
            "saved Best_model_80.72.ckpt\n",
            "Epoch: 37 lr: 0.005120; Average loss: 0.070243, Val AUROC: 80.866045\n",
            "saved Best_model_80.87.ckpt\n",
            "Epoch: 38 lr: 0.005120; Average loss: 0.066319, Val AUROC: 80.954057\n",
            "saved Best_model_80.95.ckpt\n",
            "Epoch: 45 lr: 0.004096; Average loss: 0.044512, Val AUROC: 81.155686\n",
            "saved Best_model_81.16.ckpt\n",
            "Epoch: 47 lr: 0.004096; Average loss: 0.044090, Val AUROC: 81.266102\n",
            "saved Best_model_81.27.ckpt\n",
            "Epoch: 48 lr: 0.004096; Average loss: 0.046744, Val AUROC: 81.491735\n",
            "saved Best_model_81.49.ckpt\n",
            "Epoch: 49 lr: 0.003277; Average loss: 0.040693, Val AUROC: 81.586148\n",
            "saved Best_model_81.59.ckpt\n"
          ]
        }
      ],
      "source": [
        "train_loader = DataLoader(train_set, batch_size=500)\n",
        "val_loader = DataLoader(dev_set, batch_size=500)\n",
        "top_val_AUROC = 70\n",
        "\n",
        "for epoch in range(100):\n",
        "  nn_model.train()\n",
        "  loss_accum = 0\n",
        "  for i_step, (i, x, y) in enumerate(train_loader):\n",
        "    x = x.to(device)\n",
        "    y = y.to(device)\n",
        "    prediction = nn_model(x)\n",
        "    loss_value = loss(prediction, y.type(torch.long))\n",
        "    optimizer.zero_grad()\n",
        "    loss_value.backward()\n",
        "    optimizer.step()\n",
        "    loss_accum += loss_value\n",
        "\n",
        "  ave_loss = loss_accum / (i_step + 1)\n",
        "  val_AUROC = compute_auroc(nn_model, val_loader)\n",
        "\n",
        "  if scheduler != None:\n",
        "    scheduler.step()\n",
        "\n",
        "  if val_AUROC > top_val_AUROC:\n",
        "    top_val_AUROC = val_AUROC\n",
        "    best_model_name = f'Best_model_{round(val_AUROC, 2)}.ckpt'\n",
        "    torch.save(nn_model, open(best_model_name, 'wb'))\n",
        "    print(\"Epoch: %i lr: %f; Average loss: %f, Val AUROC: %f\" % (epoch, get_lr(optimizer), ave_loss, val_AUROC))\n",
        "    print(\"saved\", best_model_name)"
      ]
    },
    {
      "cell_type": "markdown",
      "id": "bdaa3cd1-3201-48fa-b00a-084d5807557a",
      "metadata": {
        "id": "bdaa3cd1-3201-48fa-b00a-084d5807557a"
      },
      "source": [
        "## 5. test the best model"
      ]
    },
    {
      "cell_type": "code",
      "source": [
        "best_model = torch.load(open(best_model_name, 'rb'))\n",
        "print(best_model)"
      ],
      "metadata": {
        "colab": {
          "base_uri": "https://localhost:8080/"
        },
        "id": "GtDtcz4VyhOS",
        "outputId": "7884ddde-6ba6-48dc-ae3d-fe90c61a54c7"
      },
      "id": "GtDtcz4VyhOS",
      "execution_count": 14,
      "outputs": [
        {
          "output_type": "stream",
          "name": "stdout",
          "text": [
            "Sequential(\n",
            "  (0): Linear(in_features=1536, out_features=256, bias=True)\n",
            "  (1): Dropout(p=0.66, inplace=False)\n",
            "  (2): BatchNorm1d(256, eps=1e-05, momentum=0.1, affine=True, track_running_stats=True)\n",
            "  (3): ReLU(inplace=True)\n",
            "  (4): Linear(in_features=256, out_features=256, bias=True)\n",
            "  (5): Dropout(p=0.66, inplace=False)\n",
            "  (6): BatchNorm1d(256, eps=1e-05, momentum=0.1, affine=True, track_running_stats=True)\n",
            "  (7): ReLU(inplace=True)\n",
            "  (8): Linear(in_features=256, out_features=2, bias=True)\n",
            ")\n"
          ]
        }
      ]
    },
    {
      "cell_type": "code",
      "source": [
        "best_model = best_model.to(device)\n",
        "best_model.eval()\n",
        "\n",
        "test_loader = DataLoader(test_set, batch_size=500)\n",
        "real_label = []\n",
        "pred_proba = []\n",
        "pred_label = []\n",
        "\n",
        "for i_step, (i, x, y) in enumerate(test_loader):\n",
        "  y = y.to(device)\n",
        "  real_label.extend(y.detach().cpu().numpy())\n",
        "  x = x.to(device)\n",
        "  prediction = best_model(x)\n",
        "  pred_proba.extend(prediction[:, 1].detach().cpu().numpy())\n",
        "  pred_label.extend(torch.max(prediction.cpu(), 1)[1])\n",
        "\n",
        "auroc_score = roc_auc_score(real_label, pred_proba)*100\n",
        "print('Test AUROC:', round(auroc_score, 2))"
      ],
      "metadata": {
        "colab": {
          "base_uri": "https://localhost:8080/"
        },
        "id": "BK-4Q74ndDaf",
        "outputId": "62622075-dfd0-4723-b48e-3ec52dcad7d3"
      },
      "id": "BK-4Q74ndDaf",
      "execution_count": 15,
      "outputs": [
        {
          "output_type": "stream",
          "name": "stdout",
          "text": [
            "Test AUROC: 81.98\n"
          ]
        }
      ]
    },
    {
      "cell_type": "code",
      "source": [
        "# Save the prediction results as a csv file\n",
        "pred_labels = [tensor.item() for tensor in pred_label]\n",
        "data = {'id': ids_test, 'proba': pred_proba, 'label': pred_labels}\n",
        "results = pd.DataFrame(data)\n",
        "file_path = \"/content/data/CLIP_baseline.csv\"\n",
        "results.to_csv(file_path, index=False)\n",
        "\n",
        "# Save the csv file in Google Drive\n",
        "!cp -r /content/data/CLIP_baseline.csv /content/drive/MyDrive/results"
      ],
      "metadata": {
        "id": "Jqo3mSbAdBlL"
      },
      "id": "Jqo3mSbAdBlL",
      "execution_count": 16,
      "outputs": []
    }
  ],
  "metadata": {
    "accelerator": "GPU",
    "colab": {
      "gpuType": "A100",
      "machine_shape": "hm",
      "provenance": []
    },
    "kernelspec": {
      "display_name": "Python 3",
      "name": "python3"
    },
    "language_info": {
      "codemirror_mode": {
        "name": "ipython",
        "version": 3
      },
      "file_extension": ".py",
      "mimetype": "text/x-python",
      "name": "python",
      "nbconvert_exporter": "python",
      "pygments_lexer": "ipython3",
      "version": "3.9.13"
    }
  },
  "nbformat": 4,
  "nbformat_minor": 5
}