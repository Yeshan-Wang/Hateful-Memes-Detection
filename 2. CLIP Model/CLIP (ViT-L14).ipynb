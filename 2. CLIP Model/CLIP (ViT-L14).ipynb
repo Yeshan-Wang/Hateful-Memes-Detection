{
 "cells": [
  {
   "cell_type": "code",
   "execution_count": 1,
   "id": "3a728816-8439-4744-b0ef-f71834902406",
   "metadata": {
    "colab": {
     "base_uri": "https://localhost:8080/"
    },
    "id": "3a728816-8439-4744-b0ef-f71834902406",
    "outputId": "05e1c9f4-d905-46ae-d08d-0f1d177c02c6"
   },
   "outputs": [
    {
     "name": "stdout",
     "output_type": "stream",
     "text": [
      "Wed Jun 28 16:06:23 2023       \n",
      "+-----------------------------------------------------------------------------+\n",
      "| NVIDIA-SMI 525.85.12    Driver Version: 525.85.12    CUDA Version: 12.0     |\n",
      "|-------------------------------+----------------------+----------------------+\n",
      "| GPU  Name        Persistence-M| Bus-Id        Disp.A | Volatile Uncorr. ECC |\n",
      "| Fan  Temp  Perf  Pwr:Usage/Cap|         Memory-Usage | GPU-Util  Compute M. |\n",
      "|                               |                      |               MIG M. |\n",
      "|===============================+======================+======================|\n",
      "|   0  NVIDIA A100-SXM...  Off  | 00000000:00:04.0 Off |                    0 |\n",
      "| N/A   33C    P0    47W / 400W |      0MiB / 40960MiB |      0%      Default |\n",
      "|                               |                      |             Disabled |\n",
      "+-------------------------------+----------------------+----------------------+\n",
      "                                                                               \n",
      "+-----------------------------------------------------------------------------+\n",
      "| Processes:                                                                  |\n",
      "|  GPU   GI   CI        PID   Type   Process name                  GPU Memory |\n",
      "|        ID   ID                                                   Usage      |\n",
      "|=============================================================================|\n",
      "|  No running processes found                                                 |\n",
      "+-----------------------------------------------------------------------------+\n"
     ]
    }
   ],
   "source": [
    "!nvidia-smi"
   ]
  },
  {
   "cell_type": "code",
   "execution_count": 2,
   "id": "ff84dfc3-14b3-4e9c-a84e-45d220bc57d6",
   "metadata": {
    "colab": {
     "base_uri": "https://localhost:8080/"
    },
    "id": "ff84dfc3-14b3-4e9c-a84e-45d220bc57d6",
    "outputId": "67df96b8-f171-440b-9db2-42bf8f25803b"
   },
   "outputs": [
    {
     "name": "stdout",
     "output_type": "stream",
     "text": [
      "Mounted at /content/drive\n"
     ]
    }
   ],
   "source": [
    "from google.colab import drive\n",
    "drive.mount('/content/drive')\n",
    "\n",
    "! unzip -q '/content/drive/MyDrive/hateful_memes.zip' -d '/content/data'"
   ]
  },
  {
   "cell_type": "code",
   "execution_count": 3,
   "id": "fcd350b4-79f8-4b8b-8d27-e58893fca8f5",
   "metadata": {
    "colab": {
     "base_uri": "https://localhost:8080/"
    },
    "id": "fcd350b4-79f8-4b8b-8d27-e58893fca8f5",
    "outputId": "bccc14b2-76ed-4e70-8a09-03165deea25e"
   },
   "outputs": [
    {
     "name": "stdout",
     "output_type": "stream",
     "text": [
      "\u001b[2K     \u001b[90m━━━━━━━━━━━━━━━━━━━━━━━━━━━━━━━━━━━━━━━━\u001b[0m \u001b[32m53.1/53.1 kB\u001b[0m \u001b[31m6.5 MB/s\u001b[0m eta \u001b[36m0:00:00\u001b[0m\n",
      "\u001b[?25h  Preparing metadata (setup.py) ... \u001b[?25l\u001b[?25hdone\n",
      "  Building wheel for clip (setup.py) ... \u001b[?25l\u001b[?25hdone\n"
     ]
    }
   ],
   "source": [
    "! pip install --quiet ftfy regex tqdm\n",
    "! pip install --quiet git+https://github.com/openai/CLIP.git"
   ]
  },
  {
   "cell_type": "code",
   "execution_count": 4,
   "id": "f7588592-aa07-4e30-814b-adf3f7094b4b",
   "metadata": {
    "id": "f7588592-aa07-4e30-814b-adf3f7094b4b"
   },
   "outputs": [],
   "source": [
    "import os\n",
    "import json\n",
    "import pandas as pd\n",
    "import numpy as np\n",
    "import matplotlib.image as img\n",
    "\n",
    "import torch\n",
    "import torch.nn as nn\n",
    "from torch.utils.data import DataLoader\n",
    "\n",
    "import torchvision\n",
    "from torchvision import transforms as T\n",
    "import torchvision.transforms.functional as F\n",
    "\n",
    "import cv2\n",
    "import clip\n",
    "from tqdm import tqdm\n",
    "from PIL import Image\n",
    "from sklearn.metrics import roc_auc_score"
   ]
  },
  {
   "cell_type": "code",
   "execution_count": 5,
   "id": "CcaiFYZFpTj9",
   "metadata": {
    "id": "CcaiFYZFpTj9"
   },
   "outputs": [],
   "source": [
    "class ScaleMaxSideToSize(object):\n",
    "  def __init__(self, size):\n",
    "    self.size = size\n",
    "\n",
    "  def __call__(self, sample):\n",
    "    sample = cv2.resize(sample, (self.size, self.size), interpolation=cv2.INTER_AREA)\n",
    "\n",
    "    return sample\n",
    "\n",
    "\n",
    "class CropCenter(object):\n",
    "  def __init__(self, size):\n",
    "    self.size = size\n",
    "\n",
    "  def __call__(self, sample):\n",
    "    img = sample\n",
    "    h, w, _ = img.shape\n",
    "    margin_h = (h - self.size) // 2\n",
    "    margin_w = (w - self.size) // 2\n",
    "    sample = img[margin_h:margin_h + self.size, margin_w:margin_w + self.size]\n",
    "\n",
    "    return sample"
   ]
  },
  {
   "cell_type": "markdown",
   "id": "7a8c9bb2-0949-422c-9d30-7069ad357881",
   "metadata": {
    "id": "7a8c9bb2-0949-422c-9d30-7069ad357881"
   },
   "source": [
    "## 1. Load dataset"
   ]
  },
  {
   "cell_type": "code",
   "execution_count": 6,
   "id": "c106a57e-b40b-4769-8b23-3c55d76092c3",
   "metadata": {
    "id": "c106a57e-b40b-4769-8b23-3c55d76092c3"
   },
   "outputs": [],
   "source": [
    "class Load_Dataset(torch.utils.data.Dataset):\n",
    "  def __init__(self, data_path, transforms):\n",
    "    self.data = [json.loads(l) for l in open(data_path)]\n",
    "    self.data_dir = os.path.dirname(data_path)\n",
    "    self.transforms = transforms\n",
    "\n",
    "  def __getitem__(self, index: int):\n",
    "    path = os.path.join(self.data_dir, self.data[index][\"img\"])\n",
    "    image = cv2.imread(path)\n",
    "    image = cv2.cvtColor(image, cv2.COLOR_BGR2RGB)\n",
    "    text = self.data[index][\"text\"]\n",
    "    label = self.data[index][\"label\"]\n",
    "\n",
    "    if self.transforms is not None:\n",
    "        image = self.transforms(image)\n",
    "\n",
    "    return image, text, label\n",
    "\n",
    "  def __len__(self):\n",
    "    return len(self.data)"
   ]
  },
  {
   "cell_type": "code",
   "execution_count": 7,
   "id": "dd0066bd-8704-4da6-a3b7-20b93ce65864",
   "metadata": {
    "id": "dd0066bd-8704-4da6-a3b7-20b93ce65864"
   },
   "outputs": [],
   "source": [
    "CROP_SIZE = 224\n",
    "MEAN = torch.tensor([0.485, 0.456, 0.406])\n",
    "STD = torch.tensor([0.229, 0.224, 0.225])\n",
    "\n",
    "transforms = T.Compose([\n",
    "    ScaleMaxSideToSize(CROP_SIZE),\n",
    "    CropCenter(CROP_SIZE),\n",
    "    T.ToTensor(),\n",
    "    T.Normalize(mean=MEAN, std=STD)])\n",
    "\n",
    "\n",
    "train_path = '/content/data/hateful_memes/train.jsonl'\n",
    "train_dataset = Load_Dataset(train_path, transforms)\n",
    "\n",
    "dev_path = '/content/data/hateful_memes/dev_seen.jsonl'\n",
    "dev_dataset = Load_Dataset(dev_path, transforms)\n",
    "\n",
    "test_path = '/content/data/hateful_memes/test_seen.jsonl'\n",
    "test_dataset = Load_Dataset(test_path, transforms)"
   ]
  },
  {
   "cell_type": "markdown",
   "id": "ce4b17f6-8ed7-4d2f-bcef-264d36e4acbf",
   "metadata": {
    "id": "ce4b17f6-8ed7-4d2f-bcef-264d36e4acbf"
   },
   "source": [
    "## 2. Use CLIP to encode each modality to get image and text features"
   ]
  },
  {
   "cell_type": "code",
   "execution_count": 8,
   "id": "1af2651d-6f91-4eaf-8e67-5c0b55818a49",
   "metadata": {
    "colab": {
     "base_uri": "https://localhost:8080/"
    },
    "id": "1af2651d-6f91-4eaf-8e67-5c0b55818a49",
    "outputId": "44a07d6b-670d-46c7-bddd-8e62cd98af2d"
   },
   "outputs": [
    {
     "name": "stderr",
     "output_type": "stream",
     "text": [
      "100%|████████████████████████████████████████| 890M/890M [00:07<00:00, 131MiB/s]\n"
     ]
    }
   ],
   "source": [
    "device = \"cuda\" if torch.cuda.is_available() else \"cpu\"\n",
    "CLIP_model, preprocess = clip.load('ViT-L/14', device=device)"
   ]
  },
  {
   "cell_type": "code",
   "execution_count": 9,
   "id": "7cc1a8ce-457e-4d75-8524-75f4612d84ad",
   "metadata": {
    "colab": {
     "base_uri": "https://localhost:8080/"
    },
    "id": "7cc1a8ce-457e-4d75-8524-75f4612d84ad",
    "outputId": "364c72cf-1bb7-44a0-a306-13f66f357ef3"
   },
   "outputs": [
    {
     "name": "stderr",
     "output_type": "stream",
     "text": [
      "100%|██████████| 85/85 [02:22<00:00,  1.68s/it]\n",
      "100%|██████████| 5/5 [00:08<00:00,  1.70s/it]\n",
      "100%|██████████| 10/10 [00:16<00:00,  1.63s/it]\n"
     ]
    }
   ],
   "source": [
    "def encode_features(model, dataset):\n",
    "  all_features = []\n",
    "  all_labels = []\n",
    "\n",
    "  with torch.no_grad():\n",
    "    for images, texts, labels in tqdm(DataLoader(dataset, batch_size=100)):\n",
    "      image_input = torch.tensor(np.stack(images)).to(device)\n",
    "      text_tokens = clip.tokenize([desc[:77] for desc in texts]).to(device)\n",
    "\n",
    "      image_features = model.encode_image(image_input).type(torch.float).to(device)\n",
    "      text_features = model.encode_text(text_tokens).type(torch.float).to(device)\n",
    "\n",
    "      features = torch.cat([image_features, text_features], dim=1)\n",
    "\n",
    "      all_features.extend(features)\n",
    "      all_labels.extend(labels)\n",
    "\n",
    "  return all_features, all_labels\n",
    "\n",
    "\n",
    "# Use CLIP to encode each modality to get image & text features\n",
    "features_train, labels_train = encode_features(CLIP_model, train_dataset)\n",
    "features_dev, labels_dev = encode_features(CLIP_model, dev_dataset)\n",
    "features_test, labels_test = encode_features(CLIP_model, test_dataset)"
   ]
  },
  {
   "cell_type": "code",
   "execution_count": 10,
   "id": "399d9c37-8491-4788-aadc-256b32910391",
   "metadata": {
    "id": "399d9c37-8491-4788-aadc-256b32910391"
   },
   "outputs": [],
   "source": [
    "class DefineDataset(torch.utils.data.Dataset):\n",
    "  def __init__(self, features, labels):\n",
    "    self.features = features\n",
    "    self.labels = labels\n",
    "\n",
    "  def __getitem__(self, index: int):\n",
    "    return self.features[index], self.labels[index]\n",
    "\n",
    "  def __len__(self):\n",
    "    return len(self.features)\n",
    "\n",
    "\n",
    "# Define train/dev/test set using image & text features and gold labels\n",
    "train_set = DefineDataset(features_train, labels_train)\n",
    "dev_set = DefineDataset(features_dev, labels_dev)\n",
    "test_set = DefineDataset(features_test, labels_test)"
   ]
  },
  {
   "cell_type": "markdown",
   "id": "5e07bb92-4639-433e-a984-84170c85b9b8",
   "metadata": {
    "id": "5e07bb92-4639-433e-a984-84170c85b9b8"
   },
   "source": [
    "## 3. Construct a neural network for classification"
   ]
  },
  {
   "cell_type": "code",
   "execution_count": 11,
   "id": "f4668dcc-54b2-4036-861b-2fe3849841fb",
   "metadata": {
    "id": "f4668dcc-54b2-4036-861b-2fe3849841fb"
   },
   "outputs": [],
   "source": [
    "torch.manual_seed(515)\n",
    "input_shape = features_train[0].shape[0]\n",
    "num_classes = 2\n",
    "shape = 256\n",
    "\n",
    "nn_model = nn.Sequential(\n",
    "    nn.Linear(input_shape, shape),\n",
    "    nn.Dropout(0.66),\n",
    "    nn.BatchNorm1d(shape),\n",
    "    nn.ReLU(inplace=True),\n",
    "\n",
    "    nn.Linear(shape, shape),\n",
    "    nn.Dropout(0.66),\n",
    "    nn.BatchNorm1d(shape),\n",
    "    nn.ReLU(inplace=True),\n",
    "\n",
    "    nn.Linear(shape, num_classes),)\n",
    "\n",
    "nn_model = nn_model.to(device)\n",
    "loss = nn.CrossEntropyLoss()\n",
    "optimizer = torch.optim.Adam(nn_model.parameters(), lr=1e-2)\n",
    "scheduler = torch.optim.lr_scheduler.StepLR(optimizer, step_size=10, gamma=0.8)"
   ]
  },
  {
   "cell_type": "markdown",
   "id": "325c07d5-2902-46ed-b60d-36ca93543c34",
   "metadata": {
    "id": "325c07d5-2902-46ed-b60d-36ca93543c34"
   },
   "source": [
    "## 4. Train and validate the classification model and save the best model after 100 epochs of training"
   ]
  },
  {
   "cell_type": "code",
   "execution_count": 12,
   "id": "b7700aaa-c37c-4b18-a30b-8e1df1653d51",
   "metadata": {
    "id": "b7700aaa-c37c-4b18-a30b-8e1df1653d51"
   },
   "outputs": [],
   "source": [
    "def get_lr(optimizer):\n",
    "  for param_group in optimizer.param_groups:\n",
    "    return param_group['lr']  # Retrieve the learning rate value from optimizer\n",
    "\n",
    "def compute_auroc(model, loader):\n",
    "  \"\"\"\n",
    "  Compute AUROC on the dataset wrapped in a loader\n",
    "  Return: AUROC score as a float value between 0 and 1\n",
    "  \"\"\"\n",
    "  model.eval()\n",
    "  real_labels = []\n",
    "  probabilities = []\n",
    "\n",
    "  for i_step, (x, y) in enumerate(loader):\n",
    "    x = x.to(device)\n",
    "    y = y.to(device)\n",
    "    prediction = model(x)\n",
    "    # select probabilities corresponding to the positive class\n",
    "    prediction = prediction[:, 1]  # positive class in the second column\n",
    "    probabilities.extend(prediction.detach().cpu().numpy())\n",
    "    real_labels.extend(y.detach().cpu().numpy())\n",
    "\n",
    "  auroc = roc_auc_score(real_labels, probabilities)*100\n",
    "  return auroc"
   ]
  },
  {
   "cell_type": "code",
   "execution_count": 13,
   "id": "9e602c43-d58b-490a-b7d4-0e8c1190d93b",
   "metadata": {
    "colab": {
     "base_uri": "https://localhost:8080/"
    },
    "id": "9e602c43-d58b-490a-b7d4-0e8c1190d93b",
    "outputId": "2bb500d1-ff9c-4e1d-d362-5c3882d2a975"
   },
   "outputs": [
    {
     "name": "stdout",
     "output_type": "stream",
     "text": [
      "Epoch: 0 lr: 0.010000; Average loss: 0.602332, Val AUROC: 71.879151\n",
      "saved Best_model_71.88.ckpt\n",
      "Epoch: 1 lr: 0.010000; Average loss: 0.492662, Val AUROC: 74.237890\n",
      "saved Best_model_74.24.ckpt\n",
      "Epoch: 2 lr: 0.010000; Average loss: 0.423891, Val AUROC: 75.028404\n",
      "saved Best_model_75.03.ckpt\n",
      "Epoch: 3 lr: 0.010000; Average loss: 0.397834, Val AUROC: 75.457266\n",
      "saved Best_model_75.46.ckpt\n",
      "Epoch: 4 lr: 0.010000; Average loss: 0.375636, Val AUROC: 76.860668\n",
      "saved Best_model_76.86.ckpt\n",
      "Epoch: 5 lr: 0.010000; Average loss: 0.356734, Val AUROC: 77.199917\n",
      "saved Best_model_77.2.ckpt\n",
      "Epoch: 6 lr: 0.010000; Average loss: 0.337955, Val AUROC: 77.452753\n",
      "saved Best_model_77.45.ckpt\n",
      "Epoch: 7 lr: 0.010000; Average loss: 0.319534, Val AUROC: 77.952025\n",
      "saved Best_model_77.95.ckpt\n",
      "Epoch: 8 lr: 0.010000; Average loss: 0.300326, Val AUROC: 78.900962\n",
      "saved Best_model_78.9.ckpt\n",
      "Epoch: 9 lr: 0.010000; Average loss: 0.288295, Val AUROC: 78.268871\n",
      "Epoch: 10 lr: 0.008000; Average loss: 0.260476, Val AUROC: 79.320222\n",
      "saved Best_model_79.32.ckpt\n",
      "Epoch: 11 lr: 0.008000; Average loss: 0.242795, Val AUROC: 79.158599\n",
      "Epoch: 12 lr: 0.008000; Average loss: 0.230470, Val AUROC: 79.126594\n",
      "Epoch: 13 lr: 0.008000; Average loss: 0.215955, Val AUROC: 79.393833\n",
      "saved Best_model_79.39.ckpt\n",
      "Epoch: 14 lr: 0.008000; Average loss: 0.203337, Val AUROC: 79.926709\n",
      "saved Best_model_79.93.ckpt\n",
      "Epoch: 15 lr: 0.008000; Average loss: 0.187973, Val AUROC: 79.875502\n",
      "Epoch: 16 lr: 0.008000; Average loss: 0.175265, Val AUROC: 80.262758\n",
      "saved Best_model_80.26.ckpt\n",
      "Epoch: 17 lr: 0.008000; Average loss: 0.170042, Val AUROC: 79.600262\n",
      "Epoch: 18 lr: 0.008000; Average loss: 0.160297, Val AUROC: 80.257957\n",
      "Epoch: 19 lr: 0.008000; Average loss: 0.168932, Val AUROC: 80.069130\n",
      "Epoch: 20 lr: 0.006400; Average loss: 0.147380, Val AUROC: 80.448385\n",
      "saved Best_model_80.45.ckpt\n",
      "Epoch: 21 lr: 0.006400; Average loss: 0.130450, Val AUROC: 79.587461\n",
      "Epoch: 22 lr: 0.006400; Average loss: 0.135337, Val AUROC: 80.515594\n",
      "saved Best_model_80.52.ckpt\n",
      "Epoch: 23 lr: 0.006400; Average loss: 0.126321, Val AUROC: 79.733082\n",
      "Epoch: 24 lr: 0.006400; Average loss: 0.117683, Val AUROC: 79.896305\n",
      "Epoch: 25 lr: 0.006400; Average loss: 0.111026, Val AUROC: 79.593862\n",
      "Epoch: 26 lr: 0.006400; Average loss: 0.107585, Val AUROC: 79.571458\n",
      "Epoch: 27 lr: 0.006400; Average loss: 0.097298, Val AUROC: 79.765086\n",
      "Epoch: 28 lr: 0.006400; Average loss: 0.094379, Val AUROC: 80.497992\n",
      "Epoch: 29 lr: 0.006400; Average loss: 0.095229, Val AUROC: 80.382775\n",
      "Epoch: 30 lr: 0.005120; Average loss: 0.090467, Val AUROC: 80.797235\n",
      "saved Best_model_80.8.ckpt\n",
      "Epoch: 31 lr: 0.005120; Average loss: 0.092289, Val AUROC: 80.587605\n",
      "Epoch: 32 lr: 0.005120; Average loss: 0.075635, Val AUROC: 80.664416\n",
      "Epoch: 33 lr: 0.005120; Average loss: 0.072472, Val AUROC: 80.283561\n",
      "Epoch: 34 lr: 0.005120; Average loss: 0.067332, Val AUROC: 80.866045\n",
      "saved Best_model_80.87.ckpt\n",
      "Epoch: 35 lr: 0.005120; Average loss: 0.058650, Val AUROC: 80.565201\n",
      "Epoch: 36 lr: 0.005120; Average loss: 0.064328, Val AUROC: 80.822838\n",
      "Epoch: 37 lr: 0.005120; Average loss: 0.063187, Val AUROC: 81.146085\n",
      "saved Best_model_81.15.ckpt\n",
      "Epoch: 38 lr: 0.005120; Average loss: 0.066154, Val AUROC: 80.990863\n",
      "Epoch: 39 lr: 0.005120; Average loss: 0.059988, Val AUROC: 81.235698\n",
      "saved Best_model_81.24.ckpt\n",
      "Epoch: 40 lr: 0.004096; Average loss: 0.059718, Val AUROC: 81.166888\n",
      "Epoch: 41 lr: 0.004096; Average loss: 0.062944, Val AUROC: 81.330112\n",
      "saved Best_model_81.33.ckpt\n",
      "Epoch: 42 lr: 0.004096; Average loss: 0.056672, Val AUROC: 81.229297\n",
      "Epoch: 43 lr: 0.004096; Average loss: 0.051739, Val AUROC: 81.624554\n",
      "saved Best_model_81.62.ckpt\n",
      "Epoch: 44 lr: 0.004096; Average loss: 0.044303, Val AUROC: 81.269303\n",
      "Epoch: 45 lr: 0.004096; Average loss: 0.044998, Val AUROC: 81.333312\n",
      "Epoch: 46 lr: 0.004096; Average loss: 0.044433, Val AUROC: 81.152486\n",
      "Epoch: 47 lr: 0.004096; Average loss: 0.044833, Val AUROC: 81.066074\n",
      "Epoch: 48 lr: 0.004096; Average loss: 0.051968, Val AUROC: 81.038870\n",
      "Epoch: 49 lr: 0.004096; Average loss: 0.045477, Val AUROC: 80.978061\n",
      "Epoch: 50 lr: 0.003277; Average loss: 0.041534, Val AUROC: 81.245299\n",
      "Epoch: 51 lr: 0.003277; Average loss: 0.038173, Val AUROC: 81.170088\n",
      "Epoch: 52 lr: 0.003277; Average loss: 0.039418, Val AUROC: 81.067674\n",
      "Epoch: 53 lr: 0.003277; Average loss: 0.035941, Val AUROC: 80.851643\n",
      "Epoch: 54 lr: 0.003277; Average loss: 0.032669, Val AUROC: 81.224496\n",
      "Epoch: 55 lr: 0.003277; Average loss: 0.032976, Val AUROC: 81.206894\n",
      "Epoch: 56 lr: 0.003277; Average loss: 0.030927, Val AUROC: 81.106079\n",
      "Epoch: 57 lr: 0.003277; Average loss: 0.032672, Val AUROC: 81.470932\n",
      "Epoch: 58 lr: 0.003277; Average loss: 0.034037, Val AUROC: 81.270903\n",
      "Epoch: 59 lr: 0.003277; Average loss: 0.036150, Val AUROC: 81.190891\n",
      "Epoch: 60 lr: 0.002621; Average loss: 0.033135, Val AUROC: 81.024468\n",
      "Epoch: 61 lr: 0.002621; Average loss: 0.029891, Val AUROC: 81.208494\n",
      "Epoch: 62 lr: 0.002621; Average loss: 0.030575, Val AUROC: 81.035669\n",
      "Epoch: 63 lr: 0.002621; Average loss: 0.025324, Val AUROC: 80.830840\n",
      "Epoch: 64 lr: 0.002621; Average loss: 0.025705, Val AUROC: 81.078875\n",
      "Epoch: 65 lr: 0.002621; Average loss: 0.027050, Val AUROC: 81.114080\n",
      "Epoch: 66 lr: 0.002621; Average loss: 0.025103, Val AUROC: 81.061273\n",
      "Epoch: 67 lr: 0.002621; Average loss: 0.023734, Val AUROC: 81.069274\n",
      "Epoch: 68 lr: 0.002621; Average loss: 0.023461, Val AUROC: 81.149285\n",
      "Epoch: 69 lr: 0.002621; Average loss: 0.025499, Val AUROC: 81.134883\n",
      "Epoch: 70 lr: 0.002097; Average loss: 0.023508, Val AUROC: 81.051671\n",
      "Epoch: 71 lr: 0.002097; Average loss: 0.022823, Val AUROC: 80.920453\n",
      "Epoch: 72 lr: 0.002097; Average loss: 0.020998, Val AUROC: 80.994063\n",
      "Epoch: 73 lr: 0.002097; Average loss: 0.020084, Val AUROC: 81.098078\n",
      "Epoch: 74 lr: 0.002097; Average loss: 0.018180, Val AUROC: 81.016466\n",
      "Epoch: 75 lr: 0.002097; Average loss: 0.019149, Val AUROC: 80.928454\n",
      "Epoch: 76 lr: 0.002097; Average loss: 0.017904, Val AUROC: 80.981261\n",
      "Epoch: 77 lr: 0.002097; Average loss: 0.020079, Val AUROC: 81.190891\n",
      "Epoch: 78 lr: 0.002097; Average loss: 0.019383, Val AUROC: 81.294906\n",
      "Epoch: 79 lr: 0.002097; Average loss: 0.018316, Val AUROC: 81.357315\n",
      "Epoch: 80 lr: 0.001678; Average loss: 0.018484, Val AUROC: 81.205294\n",
      "Epoch: 81 lr: 0.001678; Average loss: 0.016788, Val AUROC: 81.278904\n",
      "Epoch: 82 lr: 0.001678; Average loss: 0.018759, Val AUROC: 81.339713\n",
      "Epoch: 83 lr: 0.001678; Average loss: 0.018149, Val AUROC: 81.336512\n",
      "Epoch: 84 lr: 0.001678; Average loss: 0.014236, Val AUROC: 81.360516\n",
      "Epoch: 85 lr: 0.001678; Average loss: 0.014753, Val AUROC: 81.326911\n",
      "Epoch: 86 lr: 0.001678; Average loss: 0.012071, Val AUROC: 81.269303\n",
      "Epoch: 87 lr: 0.001678; Average loss: 0.016187, Val AUROC: 81.261302\n",
      "Epoch: 88 lr: 0.001678; Average loss: 0.013487, Val AUROC: 81.139684\n",
      "Epoch: 89 lr: 0.001678; Average loss: 0.014381, Val AUROC: 81.226097\n",
      "Epoch: 90 lr: 0.001342; Average loss: 0.017381, Val AUROC: 81.285305\n",
      "Epoch: 91 lr: 0.001342; Average loss: 0.014946, Val AUROC: 81.176489\n",
      "Epoch: 92 lr: 0.001342; Average loss: 0.012617, Val AUROC: 81.251700\n",
      "Epoch: 93 lr: 0.001342; Average loss: 0.016036, Val AUROC: 81.195692\n",
      "Epoch: 94 lr: 0.001342; Average loss: 0.013793, Val AUROC: 81.155686\n",
      "Epoch: 95 lr: 0.001342; Average loss: 0.014628, Val AUROC: 81.230897\n",
      "Epoch: 96 lr: 0.001342; Average loss: 0.010429, Val AUROC: 81.288506\n",
      "Epoch: 97 lr: 0.001342; Average loss: 0.012324, Val AUROC: 81.347714\n",
      "Epoch: 98 lr: 0.001342; Average loss: 0.014552, Val AUROC: 81.248500\n",
      "Epoch: 99 lr: 0.001342; Average loss: 0.012231, Val AUROC: 81.250100\n"
     ]
    }
   ],
   "source": [
    "train_loader = DataLoader(train_set, batch_size=500)\n",
    "val_loader = DataLoader(dev_set, batch_size=500)\n",
    "top_val_AUROC = 70\n",
    "\n",
    "for epoch in range(100):\n",
    "  nn_model.train()\n",
    "  loss_accum = 0\n",
    "  for i_step, (x, y) in enumerate(train_loader):\n",
    "    x = x.to(device)\n",
    "    y = y.to(device)\n",
    "    prediction = nn_model(x)\n",
    "    loss_value = loss(prediction, y.type(torch.long))\n",
    "    optimizer.zero_grad()\n",
    "    loss_value.backward()\n",
    "    optimizer.step()\n",
    "    loss_accum += loss_value\n",
    "\n",
    "  ave_loss = loss_accum / (i_step + 1)\n",
    "  val_AUROC = compute_auroc(nn_model, val_loader)\n",
    "  print(\"Epoch: %i lr: %f; Average loss: %f, Val AUROC: %f\" % (epoch, get_lr(optimizer), ave_loss, val_AUROC))\n",
    "\n",
    "  if scheduler != None:\n",
    "    scheduler.step()\n",
    "\n",
    "  if val_AUROC > top_val_AUROC:\n",
    "    top_val_AUROC = val_AUROC\n",
    "    best_model_name = f'Best_model_{round(val_AUROC, 2)}.ckpt'\n",
    "    torch.save(nn_model, open(best_model_name, 'wb'))\n",
    "    print(\"saved\", best_model_name)"
   ]
  },
  {
   "cell_type": "markdown",
   "id": "bdaa3cd1-3201-48fa-b00a-084d5807557a",
   "metadata": {
    "id": "bdaa3cd1-3201-48fa-b00a-084d5807557a"
   },
   "source": [
    "## 5. test the best model"
   ]
  },
  {
   "cell_type": "code",
   "execution_count": 14,
   "id": "GtDtcz4VyhOS",
   "metadata": {
    "colab": {
     "base_uri": "https://localhost:8080/"
    },
    "id": "GtDtcz4VyhOS",
    "outputId": "6eb60e6f-6a71-4bb8-d4b3-17e8ddafb87d"
   },
   "outputs": [
    {
     "name": "stdout",
     "output_type": "stream",
     "text": [
      "Sequential(\n",
      "  (0): Linear(in_features=1536, out_features=256, bias=True)\n",
      "  (1): Dropout(p=0.66, inplace=False)\n",
      "  (2): BatchNorm1d(256, eps=1e-05, momentum=0.1, affine=True, track_running_stats=True)\n",
      "  (3): ReLU(inplace=True)\n",
      "  (4): Linear(in_features=256, out_features=256, bias=True)\n",
      "  (5): Dropout(p=0.66, inplace=False)\n",
      "  (6): BatchNorm1d(256, eps=1e-05, momentum=0.1, affine=True, track_running_stats=True)\n",
      "  (7): ReLU(inplace=True)\n",
      "  (8): Linear(in_features=256, out_features=2, bias=True)\n",
      ")\n"
     ]
    }
   ],
   "source": [
    "best_model = torch.load(open(best_model_name, 'rb'))\n",
    "print(best_model)"
   ]
  },
  {
   "cell_type": "code",
   "execution_count": 15,
   "id": "802772c4-772d-4df6-8b15-c7c6e6e348c9",
   "metadata": {
    "colab": {
     "base_uri": "https://localhost:8080/"
    },
    "id": "802772c4-772d-4df6-8b15-c7c6e6e348c9",
    "outputId": "4d4e30d1-e111-40a6-be3c-2ac3c08c5c2a"
   },
   "outputs": [
    {
     "name": "stdout",
     "output_type": "stream",
     "text": [
      "AUROC: 82.41\n"
     ]
    }
   ],
   "source": [
    "best_model = best_model.to(device)\n",
    "best_model.eval()\n",
    "\n",
    "test_loader = DataLoader(test_set, batch_size=500)\n",
    "real_labels = []\n",
    "predictions = []\n",
    "\n",
    "for i_step, (x, y) in enumerate(test_loader):\n",
    "  x = x.to(device)\n",
    "  y = y.to(device)\n",
    "  prediction = best_model(x)\n",
    "  # select probabilities corresponding to the positive class\n",
    "  prediction = prediction[:, 1]  # positive class in the second column\n",
    "  predictions.extend(prediction.detach().cpu().numpy())\n",
    "  real_labels.extend(y.detach().cpu().numpy())\n",
    "\n",
    "auroc_score = roc_auc_score(real_labels, predictions)*100\n",
    "print('AUROC:', round(auroc_score, 2))"
   ]
  }
 ],
 "metadata": {
  "accelerator": "GPU",
  "colab": {
   "gpuType": "A100",
   "machine_shape": "hm",
   "provenance": []
  },
  "kernelspec": {
   "display_name": "Python 3 (ipykernel)",
   "language": "python",
   "name": "python3"
  },
  "language_info": {
   "codemirror_mode": {
    "name": "ipython",
    "version": 3
   },
   "file_extension": ".py",
   "mimetype": "text/x-python",
   "name": "python",
   "nbconvert_exporter": "python",
   "pygments_lexer": "ipython3",
   "version": "3.9.12"
  }
 },
 "nbformat": 4,
 "nbformat_minor": 5
}
