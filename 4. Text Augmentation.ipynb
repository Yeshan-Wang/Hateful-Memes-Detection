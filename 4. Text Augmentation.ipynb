{
 "cells": [
  {
   "cell_type": "code",
   "execution_count": 1,
   "id": "3a728816-8439-4744-b0ef-f71834902406",
   "metadata": {
    "colab": {
     "base_uri": "https://localhost:8080/"
    },
    "id": "3a728816-8439-4744-b0ef-f71834902406",
    "outputId": "ef6da94d-81fc-4708-c657-20b84b488342"
   },
   "outputs": [
    {
     "name": "stdout",
     "output_type": "stream",
     "text": [
      "Thu Jul  6 21:04:59 2023       \n",
      "+-----------------------------------------------------------------------------+\n",
      "| NVIDIA-SMI 525.85.12    Driver Version: 525.85.12    CUDA Version: 12.0     |\n",
      "|-------------------------------+----------------------+----------------------+\n",
      "| GPU  Name        Persistence-M| Bus-Id        Disp.A | Volatile Uncorr. ECC |\n",
      "| Fan  Temp  Perf  Pwr:Usage/Cap|         Memory-Usage | GPU-Util  Compute M. |\n",
      "|                               |                      |               MIG M. |\n",
      "|===============================+======================+======================|\n",
      "|   0  NVIDIA A100-SXM...  Off  | 00000000:00:04.0 Off |                    0 |\n",
      "| N/A   35C    P0    45W / 400W |      0MiB / 40960MiB |      0%      Default |\n",
      "|                               |                      |             Disabled |\n",
      "+-------------------------------+----------------------+----------------------+\n",
      "                                                                               \n",
      "+-----------------------------------------------------------------------------+\n",
      "| Processes:                                                                  |\n",
      "|  GPU   GI   CI        PID   Type   Process name                  GPU Memory |\n",
      "|        ID   ID                                                   Usage      |\n",
      "|=============================================================================|\n",
      "|  No running processes found                                                 |\n",
      "+-----------------------------------------------------------------------------+\n"
     ]
    }
   ],
   "source": [
    "!nvidia-smi"
   ]
  },
  {
   "cell_type": "code",
   "execution_count": 2,
   "id": "ff84dfc3-14b3-4e9c-a84e-45d220bc57d6",
   "metadata": {
    "colab": {
     "base_uri": "https://localhost:8080/"
    },
    "id": "ff84dfc3-14b3-4e9c-a84e-45d220bc57d6",
    "outputId": "38cf5d05-6dfa-4320-9279-f8050b72c2af"
   },
   "outputs": [
    {
     "name": "stdout",
     "output_type": "stream",
     "text": [
      "Mounted at /content/drive\n"
     ]
    }
   ],
   "source": [
    "from google.colab import drive\n",
    "drive.mount('/content/drive')\n",
    "\n",
    "! unzip -q '/content/drive/MyDrive/hateful_memes.zip' -d '/content/data'"
   ]
  },
  {
   "cell_type": "code",
   "execution_count": 3,
   "id": "fcd350b4-79f8-4b8b-8d27-e58893fca8f5",
   "metadata": {
    "colab": {
     "base_uri": "https://localhost:8080/"
    },
    "id": "fcd350b4-79f8-4b8b-8d27-e58893fca8f5",
    "outputId": "60706038-694c-44b3-9329-de69e166b3de"
   },
   "outputs": [
    {
     "name": "stdout",
     "output_type": "stream",
     "text": [
      "\u001b[2K     \u001b[90m━━━━━━━━━━━━━━━━━━━━━━━━━━━━━━━━━━━━━━━━\u001b[0m \u001b[32m24.3/24.3 MB\u001b[0m \u001b[31m63.3 MB/s\u001b[0m eta \u001b[36m0:00:00\u001b[0m\n",
      "\u001b[2K     \u001b[90m━━━━━━━━━━━━━━━━━━━━━━━━━━━━━━━━━━━━━━━━\u001b[0m \u001b[32m42.2/42.2 kB\u001b[0m \u001b[31m5.7 MB/s\u001b[0m eta \u001b[36m0:00:00\u001b[0m\n",
      "\u001b[?25h  Preparing metadata (setup.py) ... \u001b[?25l\u001b[?25hdone\n",
      "\u001b[2K     \u001b[90m━━━━━━━━━━━━━━━━━━━━━━━━━━━━━━━━━━━━━━\u001b[0m \u001b[32m394.2/394.2 kB\u001b[0m \u001b[31m44.8 MB/s\u001b[0m eta \u001b[36m0:00:00\u001b[0m\n",
      "\u001b[?25h  Building wheel for iopath (setup.py) ... \u001b[?25l\u001b[?25hdone\n",
      "\u001b[2K     \u001b[90m━━━━━━━━━━━━━━━━━━━━━━━━━━━━━━━━━━━━━━━━\u001b[0m \u001b[32m53.1/53.1 kB\u001b[0m \u001b[31m6.4 MB/s\u001b[0m eta \u001b[36m0:00:00\u001b[0m\n",
      "\u001b[?25h  Preparing metadata (setup.py) ... \u001b[?25l\u001b[?25hdone\n",
      "  Building wheel for clip (setup.py) ... \u001b[?25l\u001b[?25hdone\n"
     ]
    }
   ],
   "source": [
    "! pip install --quiet augly[text]\n",
    "! pip install --quiet ftfy regex tqdm\n",
    "! pip install --quiet git+https://github.com/openai/CLIP.git"
   ]
  },
  {
   "cell_type": "code",
   "execution_count": 4,
   "id": "f7588592-aa07-4e30-814b-adf3f7094b4b",
   "metadata": {
    "id": "f7588592-aa07-4e30-814b-adf3f7094b4b"
   },
   "outputs": [],
   "source": [
    "import os\n",
    "import json\n",
    "import pandas as pd\n",
    "import numpy as np\n",
    "import matplotlib.image as img\n",
    "\n",
    "import torch\n",
    "import torch.nn as nn\n",
    "from torch.utils.data import DataLoader\n",
    "\n",
    "import torchvision\n",
    "from torchvision import transforms as T\n",
    "import torchvision.transforms.functional as F\n",
    "\n",
    "import cv2\n",
    "import clip\n",
    "from tqdm import tqdm\n",
    "from PIL import Image\n",
    "from sklearn.metrics import roc_auc_score\n",
    "import augly.text as textaugs\n",
    "import random"
   ]
  },
  {
   "cell_type": "markdown",
   "id": "Ishr5BVmbVAR",
   "metadata": {
    "id": "Ishr5BVmbVAR"
   },
   "source": [
    "## 1. Text Augmentation"
   ]
  },
  {
   "cell_type": "code",
   "execution_count": 5,
   "id": "5VEyRmJcbEpi",
   "metadata": {
    "id": "5VEyRmJcbEpi"
   },
   "outputs": [],
   "source": [
    "initial_train = pd.read_json('/content/data/hateful_memes/train.jsonl', lines=True)\n",
    "num_alter = len(initial_train)\n",
    "random.seed(0)\n",
    "random_sample = random.sample(range(0, num_alter), num_alter//2)\n",
    "aug = textaugs.ReplaceSimilarUnicodeChars(aug_word_p=0.8)\n",
    "\n",
    "# Replace some characters of original meme texts with similar characters that do not alter semantic\n",
    "for i in random_sample:\n",
    "    meta = []\n",
    "    replaced_text = aug(initial_train['text'][i], metadata=meta)\n",
    "    df = pd.DataFrame([[initial_train['id'][i], initial_train['img'][i], initial_train['label'][i], replaced_text]],\n",
    "                      columns=['id','img','label','text'])\n",
    "    initial_train = pd.concat([initial_train, df], ignore_index=True)"
   ]
  },
  {
   "cell_type": "code",
   "execution_count": 6,
   "id": "FgdWszAi97mC",
   "metadata": {
    "colab": {
     "base_uri": "https://localhost:8080/",
     "height": 112
    },
    "id": "FgdWszAi97mC",
    "outputId": "313ab95e-2f04-4889-9f52-6859a280699b"
   },
   "outputs": [
    {
     "data": {
      "text/html": [
       "\n",
       "  <div id=\"df-8e379a97-b71e-4752-bdb0-324aa27f56cd\">\n",
       "    <div class=\"colab-df-container\">\n",
       "      <div>\n",
       "<style scoped>\n",
       "    .dataframe tbody tr th:only-of-type {\n",
       "        vertical-align: middle;\n",
       "    }\n",
       "\n",
       "    .dataframe tbody tr th {\n",
       "        vertical-align: top;\n",
       "    }\n",
       "\n",
       "    .dataframe thead th {\n",
       "        text-align: right;\n",
       "    }\n",
       "</style>\n",
       "<table border=\"1\" class=\"dataframe\">\n",
       "  <thead>\n",
       "    <tr style=\"text-align: right;\">\n",
       "      <th></th>\n",
       "      <th>id</th>\n",
       "      <th>img</th>\n",
       "      <th>label</th>\n",
       "      <th>text</th>\n",
       "    </tr>\n",
       "  </thead>\n",
       "  <tbody>\n",
       "    <tr>\n",
       "      <th>6311</th>\n",
       "      <td>18362</td>\n",
       "      <td>img/18362.png</td>\n",
       "      <td>0</td>\n",
       "      <td>if they don't like it here they can leave!</td>\n",
       "    </tr>\n",
       "    <tr>\n",
       "      <th>8500</th>\n",
       "      <td>18362</td>\n",
       "      <td>img/18362.png</td>\n",
       "      <td>0</td>\n",
       "      <td>Ίf Ŧhey don't lίke Īt her£ τhey caŉ leavĖ!</td>\n",
       "    </tr>\n",
       "  </tbody>\n",
       "</table>\n",
       "</div>\n",
       "      <button class=\"colab-df-convert\" onclick=\"convertToInteractive('df-8e379a97-b71e-4752-bdb0-324aa27f56cd')\"\n",
       "              title=\"Convert this dataframe to an interactive table.\"\n",
       "              style=\"display:none;\">\n",
       "        \n",
       "  <svg xmlns=\"http://www.w3.org/2000/svg\" height=\"24px\"viewBox=\"0 0 24 24\"\n",
       "       width=\"24px\">\n",
       "    <path d=\"M0 0h24v24H0V0z\" fill=\"none\"/>\n",
       "    <path d=\"M18.56 5.44l.94 2.06.94-2.06 2.06-.94-2.06-.94-.94-2.06-.94 2.06-2.06.94zm-11 1L8.5 8.5l.94-2.06 2.06-.94-2.06-.94L8.5 2.5l-.94 2.06-2.06.94zm10 10l.94 2.06.94-2.06 2.06-.94-2.06-.94-.94-2.06-.94 2.06-2.06.94z\"/><path d=\"M17.41 7.96l-1.37-1.37c-.4-.4-.92-.59-1.43-.59-.52 0-1.04.2-1.43.59L10.3 9.45l-7.72 7.72c-.78.78-.78 2.05 0 2.83L4 21.41c.39.39.9.59 1.41.59.51 0 1.02-.2 1.41-.59l7.78-7.78 2.81-2.81c.8-.78.8-2.07 0-2.86zM5.41 20L4 18.59l7.72-7.72 1.47 1.35L5.41 20z\"/>\n",
       "  </svg>\n",
       "      </button>\n",
       "      \n",
       "  <style>\n",
       "    .colab-df-container {\n",
       "      display:flex;\n",
       "      flex-wrap:wrap;\n",
       "      gap: 12px;\n",
       "    }\n",
       "\n",
       "    .colab-df-convert {\n",
       "      background-color: #E8F0FE;\n",
       "      border: none;\n",
       "      border-radius: 50%;\n",
       "      cursor: pointer;\n",
       "      display: none;\n",
       "      fill: #1967D2;\n",
       "      height: 32px;\n",
       "      padding: 0 0 0 0;\n",
       "      width: 32px;\n",
       "    }\n",
       "\n",
       "    .colab-df-convert:hover {\n",
       "      background-color: #E2EBFA;\n",
       "      box-shadow: 0px 1px 2px rgba(60, 64, 67, 0.3), 0px 1px 3px 1px rgba(60, 64, 67, 0.15);\n",
       "      fill: #174EA6;\n",
       "    }\n",
       "\n",
       "    [theme=dark] .colab-df-convert {\n",
       "      background-color: #3B4455;\n",
       "      fill: #D2E3FC;\n",
       "    }\n",
       "\n",
       "    [theme=dark] .colab-df-convert:hover {\n",
       "      background-color: #434B5C;\n",
       "      box-shadow: 0px 1px 3px 1px rgba(0, 0, 0, 0.15);\n",
       "      filter: drop-shadow(0px 1px 2px rgba(0, 0, 0, 0.3));\n",
       "      fill: #FFFFFF;\n",
       "    }\n",
       "  </style>\n",
       "\n",
       "      <script>\n",
       "        const buttonEl =\n",
       "          document.querySelector('#df-8e379a97-b71e-4752-bdb0-324aa27f56cd button.colab-df-convert');\n",
       "        buttonEl.style.display =\n",
       "          google.colab.kernel.accessAllowed ? 'block' : 'none';\n",
       "\n",
       "        async function convertToInteractive(key) {\n",
       "          const element = document.querySelector('#df-8e379a97-b71e-4752-bdb0-324aa27f56cd');\n",
       "          const dataTable =\n",
       "            await google.colab.kernel.invokeFunction('convertToInteractive',\n",
       "                                                     [key], {});\n",
       "          if (!dataTable) return;\n",
       "\n",
       "          const docLinkHtml = 'Like what you see? Visit the ' +\n",
       "            '<a target=\"_blank\" href=https://colab.research.google.com/notebooks/data_table.ipynb>data table notebook</a>'\n",
       "            + ' to learn more about interactive tables.';\n",
       "          element.innerHTML = '';\n",
       "          dataTable['output_type'] = 'display_data';\n",
       "          await google.colab.output.renderOutput(dataTable, element);\n",
       "          const docLink = document.createElement('div');\n",
       "          docLink.innerHTML = docLinkHtml;\n",
       "          element.appendChild(docLink);\n",
       "        }\n",
       "      </script>\n",
       "    </div>\n",
       "  </div>\n",
       "  "
      ],
      "text/plain": [
       "         id            img  label                                        text\n",
       "6311  18362  img/18362.png      0  if they don't like it here they can leave!\n",
       "8500  18362  img/18362.png      0  Ίf Ŧhey don't lίke Īt her£ τhey caŉ leavĖ!"
      ]
     },
     "execution_count": 6,
     "metadata": {},
     "output_type": "execute_result"
    }
   ],
   "source": [
    "# Example: Original Text vs Augmented Text\n",
    "index = random_sample[0]\n",
    "initial_train[initial_train['id'] == initial_train['id'][index]]"
   ]
  },
  {
   "cell_type": "code",
   "execution_count": 7,
   "id": "Bt_HbxeFbfIl",
   "metadata": {
    "id": "Bt_HbxeFbfIl"
   },
   "outputs": [],
   "source": [
    "# save as augmented training set\n",
    "initial_train.to_json('/content/data/hateful_memes/augment_train.jsonl', orient='records', lines=True)"
   ]
  },
  {
   "cell_type": "markdown",
   "id": "7a8c9bb2-0949-422c-9d30-7069ad357881",
   "metadata": {
    "id": "7a8c9bb2-0949-422c-9d30-7069ad357881"
   },
   "source": [
    "## 2. Load dataset"
   ]
  },
  {
   "cell_type": "code",
   "execution_count": 8,
   "id": "CcaiFYZFpTj9",
   "metadata": {
    "id": "CcaiFYZFpTj9"
   },
   "outputs": [],
   "source": [
    "class ScaleMaxSideToSize(object):\n",
    "  def __init__(self, size):\n",
    "    self.size = size\n",
    "\n",
    "  def __call__(self, sample):\n",
    "    sample = cv2.resize(sample, (self.size, self.size), interpolation=cv2.INTER_AREA)\n",
    "\n",
    "    return sample\n",
    "\n",
    "\n",
    "class CropCenter(object):\n",
    "  def __init__(self, size):\n",
    "    self.size = size\n",
    "\n",
    "  def __call__(self, sample):\n",
    "    img = sample\n",
    "    h, w, _ = img.shape\n",
    "    margin_h = (h - self.size) // 2\n",
    "    margin_w = (w - self.size) // 2\n",
    "    sample = img[margin_h:margin_h + self.size, margin_w:margin_w + self.size]\n",
    "\n",
    "    return sample"
   ]
  },
  {
   "cell_type": "code",
   "execution_count": 9,
   "id": "c106a57e-b40b-4769-8b23-3c55d76092c3",
   "metadata": {
    "id": "c106a57e-b40b-4769-8b23-3c55d76092c3"
   },
   "outputs": [],
   "source": [
    "class Load_Dataset(torch.utils.data.Dataset):\n",
    "  def __init__(self, data_path, transforms):\n",
    "    self.data = [json.loads(l) for l in open(data_path)]\n",
    "    self.data_dir = os.path.dirname(data_path)\n",
    "    self.transforms = transforms\n",
    "\n",
    "  def __getitem__(self, index: int):\n",
    "    path = os.path.join(self.data_dir, self.data[index][\"img\"])\n",
    "    image = cv2.imread(path)\n",
    "    image = cv2.cvtColor(image, cv2.COLOR_BGR2RGB)\n",
    "    text = self.data[index][\"text\"]\n",
    "    label = self.data[index][\"label\"]\n",
    "\n",
    "    if self.transforms is not None:\n",
    "        image = self.transforms(image)\n",
    "\n",
    "    return image, text, label\n",
    "\n",
    "  def __len__(self):\n",
    "    return len(self.data)"
   ]
  },
  {
   "cell_type": "code",
   "execution_count": 10,
   "id": "dd0066bd-8704-4da6-a3b7-20b93ce65864",
   "metadata": {
    "id": "dd0066bd-8704-4da6-a3b7-20b93ce65864"
   },
   "outputs": [],
   "source": [
    "CROP_SIZE = 336\n",
    "MEAN = torch.tensor([0.485, 0.456, 0.406])\n",
    "STD = torch.tensor([0.229, 0.224, 0.225])\n",
    "\n",
    "transforms = T.Compose([\n",
    "    ScaleMaxSideToSize(CROP_SIZE),\n",
    "    CropCenter(CROP_SIZE),\n",
    "    T.ToTensor(),\n",
    "    T.Normalize(mean=MEAN, std=STD)])\n",
    "\n",
    "\n",
    "train_path = '/content/data/hateful_memes/augment_train.jsonl'\n",
    "train_dataset = Load_Dataset(train_path, transforms)\n",
    "\n",
    "dev_path = '/content/data/hateful_memes/dev_seen.jsonl'\n",
    "dev_dataset = Load_Dataset(dev_path, transforms)\n",
    "\n",
    "test_path = '/content/data/hateful_memes/test_seen.jsonl'\n",
    "test_dataset = Load_Dataset(test_path, transforms)"
   ]
  },
  {
   "cell_type": "markdown",
   "id": "ce4b17f6-8ed7-4d2f-bcef-264d36e4acbf",
   "metadata": {
    "id": "ce4b17f6-8ed7-4d2f-bcef-264d36e4acbf"
   },
   "source": [
    "## 3. Use CLIP to encode each modality to get image and text features"
   ]
  },
  {
   "cell_type": "code",
   "execution_count": 11,
   "id": "1af2651d-6f91-4eaf-8e67-5c0b55818a49",
   "metadata": {
    "colab": {
     "base_uri": "https://localhost:8080/"
    },
    "id": "1af2651d-6f91-4eaf-8e67-5c0b55818a49",
    "outputId": "c1edee10-ec56-40a5-cb31-97f2b2ca5f52"
   },
   "outputs": [
    {
     "name": "stderr",
     "output_type": "stream",
     "text": [
      "100%|███████████████████████████████████████| 891M/891M [00:10<00:00, 88.6MiB/s]\n"
     ]
    }
   ],
   "source": [
    "device = \"cuda\" if torch.cuda.is_available() else \"cpu\"\n",
    "CLIP_model, preprocess = clip.load('ViT-L/14@336px', device=device)"
   ]
  },
  {
   "cell_type": "code",
   "execution_count": 12,
   "id": "7cc1a8ce-457e-4d75-8524-75f4612d84ad",
   "metadata": {
    "colab": {
     "base_uri": "https://localhost:8080/"
    },
    "id": "7cc1a8ce-457e-4d75-8524-75f4612d84ad",
    "outputId": "3cb4d23c-4780-4515-b37e-03d423e3a2df"
   },
   "outputs": [
    {
     "name": "stderr",
     "output_type": "stream",
     "text": [
      "100%|██████████| 128/128 [04:01<00:00,  1.89s/it]\n",
      "100%|██████████| 5/5 [00:09<00:00,  1.92s/it]\n",
      "100%|██████████| 10/10 [00:18<00:00,  1.87s/it]\n"
     ]
    }
   ],
   "source": [
    "def encode_features(model, dataset):\n",
    "  all_features = []\n",
    "  all_labels = []\n",
    "\n",
    "  with torch.no_grad():\n",
    "    for images, texts, labels in tqdm(DataLoader(dataset, batch_size=100)):\n",
    "      image_input = torch.tensor(np.stack(images)).to(device)\n",
    "      text_tokens = clip.tokenize([desc[:77] for desc in texts]).to(device)\n",
    "\n",
    "      image_features = model.encode_image(image_input).type(torch.float).to(device)\n",
    "      text_features = model.encode_text(text_tokens).type(torch.float).to(device)\n",
    "\n",
    "      features = torch.cat([image_features, text_features], dim=1)\n",
    "\n",
    "      all_features.extend(features)\n",
    "      all_labels.extend(labels)\n",
    "\n",
    "  return all_features, all_labels\n",
    "\n",
    "\n",
    "# Use CLIP to encode each modality to get image & text features\n",
    "features_train, labels_train = encode_features(CLIP_model, train_dataset)\n",
    "features_dev, labels_dev = encode_features(CLIP_model, dev_dataset)\n",
    "features_test, labels_test = encode_features(CLIP_model, test_dataset)"
   ]
  },
  {
   "cell_type": "code",
   "execution_count": 13,
   "id": "399d9c37-8491-4788-aadc-256b32910391",
   "metadata": {
    "id": "399d9c37-8491-4788-aadc-256b32910391"
   },
   "outputs": [],
   "source": [
    "class DefineDataset(torch.utils.data.Dataset):\n",
    "  def __init__(self, features, labels):\n",
    "    self.features = features\n",
    "    self.labels = labels\n",
    "\n",
    "  def __getitem__(self, index: int):\n",
    "    return self.features[index], self.labels[index]\n",
    "\n",
    "  def __len__(self):\n",
    "    return len(self.features)\n",
    "\n",
    "\n",
    "# Define train/dev/test set using image & text features and gold labels\n",
    "train_set = DefineDataset(features_train, labels_train)\n",
    "dev_set = DefineDataset(features_dev, labels_dev)\n",
    "test_set = DefineDataset(features_test, labels_test)"
   ]
  },
  {
   "cell_type": "markdown",
   "id": "5e07bb92-4639-433e-a984-84170c85b9b8",
   "metadata": {
    "id": "5e07bb92-4639-433e-a984-84170c85b9b8"
   },
   "source": [
    "## 4. Construct a neural network for classification"
   ]
  },
  {
   "cell_type": "code",
   "execution_count": 14,
   "id": "f4668dcc-54b2-4036-861b-2fe3849841fb",
   "metadata": {
    "id": "f4668dcc-54b2-4036-861b-2fe3849841fb"
   },
   "outputs": [],
   "source": [
    "torch.manual_seed(515)\n",
    "input_shape = features_train[0].shape[0]\n",
    "num_classes = 2\n",
    "shape = 256\n",
    "\n",
    "nn_model = nn.Sequential(\n",
    "    nn.Linear(input_shape, shape),\n",
    "    nn.Dropout(0.66),\n",
    "    nn.BatchNorm1d(shape),\n",
    "    nn.ReLU(inplace=True),\n",
    "\n",
    "    nn.Linear(shape, shape),\n",
    "    nn.Dropout(0.66),\n",
    "    nn.BatchNorm1d(shape),\n",
    "    nn.ReLU(inplace=True),\n",
    "\n",
    "    nn.Linear(shape, num_classes),)\n",
    "\n",
    "nn_model = nn_model.to(device)\n",
    "loss = nn.CrossEntropyLoss()\n",
    "optimizer = torch.optim.Adam(nn_model.parameters(), lr=1e-2)\n",
    "scheduler = torch.optim.lr_scheduler.StepLR(optimizer, step_size=10, gamma=0.8)"
   ]
  },
  {
   "cell_type": "markdown",
   "id": "325c07d5-2902-46ed-b60d-36ca93543c34",
   "metadata": {
    "id": "325c07d5-2902-46ed-b60d-36ca93543c34"
   },
   "source": [
    "## 5. Train and validate the classification model and save the best model after 100 epochs of training"
   ]
  },
  {
   "cell_type": "code",
   "execution_count": 15,
   "id": "b7700aaa-c37c-4b18-a30b-8e1df1653d51",
   "metadata": {
    "id": "b7700aaa-c37c-4b18-a30b-8e1df1653d51"
   },
   "outputs": [],
   "source": [
    "def get_lr(optimizer):\n",
    "  for param_group in optimizer.param_groups:\n",
    "    return param_group['lr']  # Retrieve the learning rate value from optimizer\n",
    "\n",
    "def compute_auroc(model, loader):\n",
    "  \"\"\"\n",
    "  Compute AUROC on the dataset wrapped in a loader\n",
    "  Return: AUROC score as a float value between 0 and 1\n",
    "  \"\"\"\n",
    "  model.eval()\n",
    "  real_labels = []\n",
    "  probabilities = []\n",
    "\n",
    "  for i_step, (x, y) in enumerate(loader):\n",
    "    x = x.to(device)\n",
    "    y = y.to(device)\n",
    "    prediction = model(x)\n",
    "    # select probabilities corresponding to the positive class\n",
    "    prediction = prediction[:, 1]  # positive class in the second column\n",
    "    probabilities.extend(prediction.detach().cpu().numpy())\n",
    "    real_labels.extend(y.detach().cpu().numpy())\n",
    "\n",
    "  auroc = roc_auc_score(real_labels, probabilities)*100\n",
    "  return auroc"
   ]
  },
  {
   "cell_type": "code",
   "execution_count": 16,
   "id": "9e602c43-d58b-490a-b7d4-0e8c1190d93b",
   "metadata": {
    "colab": {
     "base_uri": "https://localhost:8080/"
    },
    "id": "9e602c43-d58b-490a-b7d4-0e8c1190d93b",
    "outputId": "f97c9ac3-694d-4a8a-a6d5-5258a35eaace"
   },
   "outputs": [
    {
     "name": "stdout",
     "output_type": "stream",
     "text": [
      "Epoch: 0 lr: 0.010000; Average loss: 0.564860, Val AUROC: 74.506729\n",
      "saved Best_model_74.51.ckpt\n",
      "Epoch: 1 lr: 0.010000; Average loss: 0.445982, Val AUROC: 76.025348\n",
      "saved Best_model_76.03.ckpt\n",
      "Epoch: 2 lr: 0.010000; Average loss: 0.403119, Val AUROC: 77.407947\n",
      "saved Best_model_77.41.ckpt\n",
      "Epoch: 3 lr: 0.010000; Average loss: 0.379261, Val AUROC: 78.033637\n",
      "saved Best_model_78.03.ckpt\n",
      "Epoch: 4 lr: 0.010000; Average loss: 0.360380, Val AUROC: 78.403290\n",
      "saved Best_model_78.4.ckpt\n",
      "Epoch: 5 lr: 0.010000; Average loss: 0.340892, Val AUROC: 78.500904\n",
      "saved Best_model_78.5.ckpt\n",
      "Epoch: 6 lr: 0.010000; Average loss: 0.323974, Val AUROC: 78.662527\n",
      "saved Best_model_78.66.ckpt\n",
      "Epoch: 7 lr: 0.010000; Average loss: 0.302117, Val AUROC: 78.726537\n",
      "saved Best_model_78.73.ckpt\n",
      "Epoch: 8 lr: 0.010000; Average loss: 0.285080, Val AUROC: 78.563313\n",
      "Epoch: 9 lr: 0.010000; Average loss: 0.266291, Val AUROC: 79.100991\n",
      "saved Best_model_79.1.ckpt\n",
      "Epoch: 10 lr: 0.008000; Average loss: 0.249210, Val AUROC: 79.371429\n",
      "saved Best_model_79.37.ckpt\n",
      "Epoch: 11 lr: 0.008000; Average loss: 0.230447, Val AUROC: 79.985918\n",
      "saved Best_model_79.99.ckpt\n",
      "Epoch: 12 lr: 0.008000; Average loss: 0.209444, Val AUROC: 79.800291\n",
      "Epoch: 13 lr: 0.008000; Average loss: 0.201158, Val AUROC: 79.933110\n",
      "Epoch: 14 lr: 0.008000; Average loss: 0.192729, Val AUROC: 79.789090\n",
      "Epoch: 15 lr: 0.008000; Average loss: 0.170237, Val AUROC: 79.549055\n",
      "Epoch: 16 lr: 0.008000; Average loss: 0.172441, Val AUROC: 79.744283\n",
      "Epoch: 17 lr: 0.008000; Average loss: 0.167875, Val AUROC: 79.800291\n",
      "Epoch: 18 lr: 0.008000; Average loss: 0.170263, Val AUROC: 79.915508\n",
      "Epoch: 19 lr: 0.008000; Average loss: 0.157988, Val AUROC: 78.752140\n",
      "Epoch: 20 lr: 0.006400; Average loss: 0.148448, Val AUROC: 78.980973\n",
      "Epoch: 21 lr: 0.006400; Average loss: 0.140743, Val AUROC: 79.528252\n",
      "Epoch: 22 lr: 0.006400; Average loss: 0.114956, Val AUROC: 79.288218\n",
      "Epoch: 23 lr: 0.006400; Average loss: 0.102864, Val AUROC: 80.286761\n",
      "saved Best_model_80.29.ckpt\n",
      "Epoch: 24 lr: 0.006400; Average loss: 0.108046, Val AUROC: 79.993919\n",
      "Epoch: 25 lr: 0.006400; Average loss: 0.103826, Val AUROC: 80.310765\n",
      "saved Best_model_80.31.ckpt\n",
      "Epoch: 26 lr: 0.006400; Average loss: 0.105691, Val AUROC: 80.962059\n",
      "saved Best_model_80.96.ckpt\n",
      "Epoch: 27 lr: 0.006400; Average loss: 0.094659, Val AUROC: 79.885103\n",
      "Epoch: 28 lr: 0.006400; Average loss: 0.092928, Val AUROC: 79.670673\n",
      "Epoch: 29 lr: 0.006400; Average loss: 0.084445, Val AUROC: 79.894705\n",
      "Epoch: 30 lr: 0.005120; Average loss: 0.081214, Val AUROC: 79.347426\n",
      "Epoch: 31 lr: 0.005120; Average loss: 0.067133, Val AUROC: 79.305820\n",
      "Epoch: 32 lr: 0.005120; Average loss: 0.067671, Val AUROC: 79.437039\n",
      "Epoch: 33 lr: 0.005120; Average loss: 0.068012, Val AUROC: 78.971372\n",
      "Epoch: 34 lr: 0.005120; Average loss: 0.066623, Val AUROC: 79.464243\n",
      "Epoch: 35 lr: 0.005120; Average loss: 0.060224, Val AUROC: 79.481845\n",
      "Epoch: 36 lr: 0.005120; Average loss: 0.057159, Val AUROC: 79.504249\n",
      "Epoch: 37 lr: 0.005120; Average loss: 0.054564, Val AUROC: 79.470644\n",
      "Epoch: 38 lr: 0.005120; Average loss: 0.057110, Val AUROC: 80.157143\n",
      "Epoch: 39 lr: 0.005120; Average loss: 0.051402, Val AUROC: 79.749084\n",
      "Epoch: 40 lr: 0.004096; Average loss: 0.052695, Val AUROC: 80.057928\n",
      "Epoch: 41 lr: 0.004096; Average loss: 0.041696, Val AUROC: 79.883503\n",
      "Epoch: 42 lr: 0.004096; Average loss: 0.043612, Val AUROC: 79.845098\n",
      "Epoch: 43 lr: 0.004096; Average loss: 0.045435, Val AUROC: 79.760285\n",
      "Epoch: 44 lr: 0.004096; Average loss: 0.047167, Val AUROC: 80.128338\n",
      "Epoch: 45 lr: 0.004096; Average loss: 0.045612, Val AUROC: 80.493191\n",
      "Epoch: 46 lr: 0.004096; Average loss: 0.042049, Val AUROC: 80.080332\n",
      "Epoch: 47 lr: 0.004096; Average loss: 0.034476, Val AUROC: 79.981117\n",
      "Epoch: 48 lr: 0.004096; Average loss: 0.034867, Val AUROC: 79.766686\n",
      "Epoch: 49 lr: 0.004096; Average loss: 0.036150, Val AUROC: 79.801891\n",
      "Epoch: 50 lr: 0.003277; Average loss: 0.036695, Val AUROC: 79.856299\n",
      "Epoch: 51 lr: 0.003277; Average loss: 0.034256, Val AUROC: 79.926709\n",
      "Epoch: 52 lr: 0.003277; Average loss: 0.029308, Val AUROC: 79.837097\n",
      "Epoch: 53 lr: 0.003277; Average loss: 0.030025, Val AUROC: 80.027524\n",
      "Epoch: 54 lr: 0.003277; Average loss: 0.031213, Val AUROC: 79.843497\n",
      "Epoch: 55 lr: 0.003277; Average loss: 0.028803, Val AUROC: 79.688275\n",
      "Epoch: 56 lr: 0.003277; Average loss: 0.027054, Val AUROC: 79.787489\n",
      "Epoch: 57 lr: 0.003277; Average loss: 0.031212, Val AUROC: 80.680418\n",
      "Epoch: 58 lr: 0.003277; Average loss: 0.026786, Val AUROC: 80.360372\n",
      "Epoch: 59 lr: 0.003277; Average loss: 0.027247, Val AUROC: 80.406779\n",
      "Epoch: 60 lr: 0.002621; Average loss: 0.026588, Val AUROC: 80.086732\n",
      "Epoch: 61 lr: 0.002621; Average loss: 0.025428, Val AUROC: 79.817894\n",
      "Epoch: 62 lr: 0.002621; Average loss: 0.025655, Val AUROC: 79.998720\n",
      "Epoch: 63 lr: 0.002621; Average loss: 0.024277, Val AUROC: 80.129939\n",
      "Epoch: 64 lr: 0.002621; Average loss: 0.024135, Val AUROC: 80.345970\n",
      "Epoch: 65 lr: 0.002621; Average loss: 0.024673, Val AUROC: 80.243555\n",
      "Epoch: 66 lr: 0.002621; Average loss: 0.020824, Val AUROC: 80.357171\n",
      "Epoch: 67 lr: 0.002621; Average loss: 0.025406, Val AUROC: 80.328367\n",
      "Epoch: 68 lr: 0.002621; Average loss: 0.020813, Val AUROC: 80.486790\n",
      "Epoch: 69 lr: 0.002621; Average loss: 0.022690, Val AUROC: 80.341169\n",
      "Epoch: 70 lr: 0.002097; Average loss: 0.019616, Val AUROC: 80.510794\n",
      "Epoch: 71 lr: 0.002097; Average loss: 0.018205, Val AUROC: 80.379575\n",
      "Epoch: 72 lr: 0.002097; Average loss: 0.017888, Val AUROC: 80.664416\n",
      "Epoch: 73 lr: 0.002097; Average loss: 0.019629, Val AUROC: 80.309165\n",
      "Epoch: 74 lr: 0.002097; Average loss: 0.017246, Val AUROC: 80.350771\n",
      "Epoch: 75 lr: 0.002097; Average loss: 0.018728, Val AUROC: 80.510794\n",
      "Epoch: 76 lr: 0.002097; Average loss: 0.017304, Val AUROC: 80.560401\n",
      "Epoch: 77 lr: 0.002097; Average loss: 0.017565, Val AUROC: 80.854843\n",
      "Epoch: 78 lr: 0.002097; Average loss: 0.014390, Val AUROC: 80.966859\n",
      "saved Best_model_80.97.ckpt\n",
      "Epoch: 79 lr: 0.002097; Average loss: 0.016321, Val AUROC: 81.030868\n",
      "saved Best_model_81.03.ckpt\n",
      "Epoch: 80 lr: 0.001678; Average loss: 0.017213, Val AUROC: 80.915652\n",
      "Epoch: 81 lr: 0.001678; Average loss: 0.016513, Val AUROC: 80.981261\n",
      "Epoch: 82 lr: 0.001678; Average loss: 0.015579, Val AUROC: 80.786033\n",
      "Epoch: 83 lr: 0.001678; Average loss: 0.014383, Val AUROC: 80.659615\n",
      "Epoch: 84 lr: 0.001678; Average loss: 0.014679, Val AUROC: 80.621209\n",
      "Epoch: 85 lr: 0.001678; Average loss: 0.014468, Val AUROC: 80.659615\n",
      "Epoch: 86 lr: 0.001678; Average loss: 0.015035, Val AUROC: 80.723624\n",
      "Epoch: 87 lr: 0.001678; Average loss: 0.016390, Val AUROC: 80.603607\n",
      "Epoch: 88 lr: 0.001678; Average loss: 0.016349, Val AUROC: 80.742827\n",
      "Epoch: 89 lr: 0.001678; Average loss: 0.014710, Val AUROC: 80.750828\n",
      "Epoch: 90 lr: 0.001342; Average loss: 0.012717, Val AUROC: 80.667616\n",
      "Epoch: 91 lr: 0.001342; Average loss: 0.015141, Val AUROC: 80.730025\n",
      "Epoch: 92 lr: 0.001342; Average loss: 0.014495, Val AUROC: 80.779632\n",
      "Epoch: 93 lr: 0.001342; Average loss: 0.010894, Val AUROC: 80.782833\n",
      "Epoch: 94 lr: 0.001342; Average loss: 0.012239, Val AUROC: 80.917252\n",
      "Epoch: 95 lr: 0.001342; Average loss: 0.011321, Val AUROC: 80.888448\n",
      "Epoch: 96 lr: 0.001342; Average loss: 0.011541, Val AUROC: 80.782833\n",
      "Epoch: 97 lr: 0.001342; Average loss: 0.011578, Val AUROC: 80.782833\n",
      "Epoch: 98 lr: 0.001342; Average loss: 0.012397, Val AUROC: 80.782833\n",
      "Epoch: 99 lr: 0.001342; Average loss: 0.012843, Val AUROC: 80.920453\n"
     ]
    }
   ],
   "source": [
    "train_loader = DataLoader(train_set, batch_size=500)\n",
    "val_loader = DataLoader(dev_set, batch_size=500)\n",
    "top_val_AUROC = 70\n",
    "\n",
    "for epoch in range(100):\n",
    "  nn_model.train()\n",
    "  loss_accum = 0\n",
    "  for i_step, (x, y) in enumerate(train_loader):\n",
    "    x = x.to(device)\n",
    "    y = y.to(device)\n",
    "    prediction = nn_model(x)\n",
    "    loss_value = loss(prediction, y.type(torch.long))\n",
    "    optimizer.zero_grad()\n",
    "    loss_value.backward()\n",
    "    optimizer.step()\n",
    "    loss_accum += loss_value\n",
    "\n",
    "  ave_loss = loss_accum / (i_step + 1)\n",
    "  val_AUROC = compute_auroc(nn_model, val_loader)\n",
    "  print(\"Epoch: %i lr: %f; Average loss: %f, Val AUROC: %f\" % (epoch, get_lr(optimizer), ave_loss, val_AUROC))\n",
    "\n",
    "  if scheduler != None:\n",
    "    scheduler.step()\n",
    "\n",
    "  if val_AUROC > top_val_AUROC:\n",
    "    top_val_AUROC = val_AUROC\n",
    "    best_model_name = f'Best_model_{round(val_AUROC, 2)}.ckpt'\n",
    "    torch.save(nn_model, open(best_model_name, 'wb'))\n",
    "    print(\"saved\", best_model_name)"
   ]
  },
  {
   "cell_type": "markdown",
   "id": "bdaa3cd1-3201-48fa-b00a-084d5807557a",
   "metadata": {
    "id": "bdaa3cd1-3201-48fa-b00a-084d5807557a"
   },
   "source": [
    "## 6. test the best model"
   ]
  },
  {
   "cell_type": "code",
   "execution_count": 17,
   "id": "GtDtcz4VyhOS",
   "metadata": {
    "colab": {
     "base_uri": "https://localhost:8080/"
    },
    "id": "GtDtcz4VyhOS",
    "outputId": "2559fd7e-4181-4eb8-8cb8-5ff73185dae7"
   },
   "outputs": [
    {
     "name": "stdout",
     "output_type": "stream",
     "text": [
      "Sequential(\n",
      "  (0): Linear(in_features=1536, out_features=256, bias=True)\n",
      "  (1): Dropout(p=0.66, inplace=False)\n",
      "  (2): BatchNorm1d(256, eps=1e-05, momentum=0.1, affine=True, track_running_stats=True)\n",
      "  (3): ReLU(inplace=True)\n",
      "  (4): Linear(in_features=256, out_features=256, bias=True)\n",
      "  (5): Dropout(p=0.66, inplace=False)\n",
      "  (6): BatchNorm1d(256, eps=1e-05, momentum=0.1, affine=True, track_running_stats=True)\n",
      "  (7): ReLU(inplace=True)\n",
      "  (8): Linear(in_features=256, out_features=2, bias=True)\n",
      ")\n"
     ]
    }
   ],
   "source": [
    "best_model = torch.load(open(best_model_name, 'rb'))\n",
    "print(best_model)"
   ]
  },
  {
   "cell_type": "code",
   "execution_count": 18,
   "id": "802772c4-772d-4df6-8b15-c7c6e6e348c9",
   "metadata": {
    "colab": {
     "base_uri": "https://localhost:8080/"
    },
    "id": "802772c4-772d-4df6-8b15-c7c6e6e348c9",
    "outputId": "a7492177-5889-49fc-ddab-3c42efb72a0e"
   },
   "outputs": [
    {
     "name": "stdout",
     "output_type": "stream",
     "text": [
      "AUROC: 84.58\n"
     ]
    }
   ],
   "source": [
    "best_model = best_model.to(device)\n",
    "best_model.eval()\n",
    "\n",
    "test_loader = DataLoader(test_set, batch_size=500)\n",
    "real_labels = []\n",
    "predictions = []\n",
    "\n",
    "for i_step, (x, y) in enumerate(test_loader):\n",
    "  x = x.to(device)\n",
    "  y = y.to(device)\n",
    "  prediction = best_model(x)\n",
    "  # select probabilities corresponding to the positive class\n",
    "  prediction = prediction[:, 1]  # positive class in the second column\n",
    "  predictions.extend(prediction.detach().cpu().numpy())\n",
    "  real_labels.extend(y.detach().cpu().numpy())\n",
    "\n",
    "auroc_score = roc_auc_score(real_labels, predictions)*100\n",
    "print('AUROC:', round(auroc_score, 2))"
   ]
  }
 ],
 "metadata": {
  "accelerator": "GPU",
  "colab": {
   "gpuType": "A100",
   "machine_shape": "hm",
   "provenance": []
  },
  "kernelspec": {
   "display_name": "Python 3 (ipykernel)",
   "language": "python",
   "name": "python3"
  },
  "language_info": {
   "codemirror_mode": {
    "name": "ipython",
    "version": 3
   },
   "file_extension": ".py",
   "mimetype": "text/x-python",
   "name": "python",
   "nbconvert_exporter": "python",
   "pygments_lexer": "ipython3",
   "version": "3.9.12"
  }
 },
 "nbformat": 4,
 "nbformat_minor": 5
}
