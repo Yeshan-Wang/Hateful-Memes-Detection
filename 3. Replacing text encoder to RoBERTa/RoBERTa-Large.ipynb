{
  "cells": [
    {
      "cell_type": "code",
      "execution_count": 1,
      "id": "3a728816-8439-4744-b0ef-f71834902406",
      "metadata": {
        "colab": {
          "base_uri": "https://localhost:8080/"
        },
        "id": "3a728816-8439-4744-b0ef-f71834902406",
        "outputId": "957ff7ac-0009-41c4-9391-791948d3735c"
      },
      "outputs": [
        {
          "output_type": "stream",
          "name": "stdout",
          "text": [
            "Tue Jul 18 21:38:38 2023       \n",
            "+-----------------------------------------------------------------------------+\n",
            "| NVIDIA-SMI 525.105.17   Driver Version: 525.105.17   CUDA Version: 12.0     |\n",
            "|-------------------------------+----------------------+----------------------+\n",
            "| GPU  Name        Persistence-M| Bus-Id        Disp.A | Volatile Uncorr. ECC |\n",
            "| Fan  Temp  Perf  Pwr:Usage/Cap|         Memory-Usage | GPU-Util  Compute M. |\n",
            "|                               |                      |               MIG M. |\n",
            "|===============================+======================+======================|\n",
            "|   0  NVIDIA A100-SXM...  Off  | 00000000:00:04.0 Off |                    0 |\n",
            "| N/A   31C    P0    46W / 400W |      0MiB / 40960MiB |      0%      Default |\n",
            "|                               |                      |             Disabled |\n",
            "+-------------------------------+----------------------+----------------------+\n",
            "                                                                               \n",
            "+-----------------------------------------------------------------------------+\n",
            "| Processes:                                                                  |\n",
            "|  GPU   GI   CI        PID   Type   Process name                  GPU Memory |\n",
            "|        ID   ID                                                   Usage      |\n",
            "|=============================================================================|\n",
            "|  No running processes found                                                 |\n",
            "+-----------------------------------------------------------------------------+\n"
          ]
        }
      ],
      "source": [
        "!nvidia-smi"
      ]
    },
    {
      "cell_type": "code",
      "execution_count": 2,
      "id": "ff84dfc3-14b3-4e9c-a84e-45d220bc57d6",
      "metadata": {
        "colab": {
          "base_uri": "https://localhost:8080/"
        },
        "id": "ff84dfc3-14b3-4e9c-a84e-45d220bc57d6",
        "outputId": "b269a393-c127-4522-cabc-3be2a3d2b471"
      },
      "outputs": [
        {
          "output_type": "stream",
          "name": "stdout",
          "text": [
            "Mounted at /content/drive\n"
          ]
        }
      ],
      "source": [
        "from google.colab import drive\n",
        "drive.mount('/content/drive')\n",
        "\n",
        "! unzip -q '/content/drive/MyDrive/hateful_memes.zip' -d '/content/data'"
      ]
    },
    {
      "cell_type": "code",
      "execution_count": 3,
      "id": "fcd350b4-79f8-4b8b-8d27-e58893fca8f5",
      "metadata": {
        "id": "fcd350b4-79f8-4b8b-8d27-e58893fca8f5",
        "colab": {
          "base_uri": "https://localhost:8080/"
        },
        "outputId": "f5cc96b3-d6b7-4312-ef02-a052dcb6d175"
      },
      "outputs": [
        {
          "output_type": "stream",
          "name": "stdout",
          "text": [
            "\u001b[?25l     \u001b[90m━━━━━━━━━━━━━━━━━━━━━━━━━━━━━━━━━━━━━━━━\u001b[0m \u001b[32m0.0/53.1 kB\u001b[0m \u001b[31m?\u001b[0m eta \u001b[36m-:--:--\u001b[0m\r\u001b[2K     \u001b[90m━━━━━━━━━━━━━━━━━━━━━━━━━━━━━━━━━━━━━━━━\u001b[0m \u001b[32m53.1/53.1 kB\u001b[0m \u001b[31m3.6 MB/s\u001b[0m eta \u001b[36m0:00:00\u001b[0m\n",
            "\u001b[?25h  Preparing metadata (setup.py) ... \u001b[?25l\u001b[?25hdone\n",
            "  Building wheel for clip (setup.py) ... \u001b[?25l\u001b[?25hdone\n",
            "\u001b[2K     \u001b[90m━━━━━━━━━━━━━━━━━━━━━━━━━━━━━━━━━━━━━━━━\u001b[0m \u001b[32m7.4/7.4 MB\u001b[0m \u001b[31m96.4 MB/s\u001b[0m eta \u001b[36m0:00:00\u001b[0m\n",
            "\u001b[2K     \u001b[90m━━━━━━━━━━━━━━━━━━━━━━━━━━━━━━━━━━━━━━\u001b[0m \u001b[32m268.8/268.8 kB\u001b[0m \u001b[31m32.4 MB/s\u001b[0m eta \u001b[36m0:00:00\u001b[0m\n",
            "\u001b[2K     \u001b[90m━━━━━━━━━━━━━━━━━━━━━━━━━━━━━━━━━━━━━━━━\u001b[0m \u001b[32m7.8/7.8 MB\u001b[0m \u001b[31m111.8 MB/s\u001b[0m eta \u001b[36m0:00:00\u001b[0m\n",
            "\u001b[2K     \u001b[90m━━━━━━━━━━━━━━━━━━━━━━━━━━━━━━━━━━━━━━━━\u001b[0m \u001b[32m1.3/1.3 MB\u001b[0m \u001b[31m80.3 MB/s\u001b[0m eta \u001b[36m0:00:00\u001b[0m\n",
            "\u001b[?25h"
          ]
        }
      ],
      "source": [
        "! pip install --quiet ftfy regex tqdm\n",
        "! pip install --quiet git+https://github.com/openai/CLIP.git\n",
        "! pip install --quiet transformers"
      ]
    },
    {
      "cell_type": "code",
      "execution_count": 4,
      "id": "f7588592-aa07-4e30-814b-adf3f7094b4b",
      "metadata": {
        "id": "f7588592-aa07-4e30-814b-adf3f7094b4b"
      },
      "outputs": [],
      "source": [
        "import os\n",
        "import json\n",
        "import pandas as pd\n",
        "import numpy as np\n",
        "import matplotlib.image as img\n",
        "\n",
        "import torch\n",
        "import torch.nn as nn\n",
        "from torch.utils.data import DataLoader\n",
        "\n",
        "import torchvision\n",
        "from torchvision import transforms as T\n",
        "import torchvision.transforms.functional as F\n",
        "\n",
        "import cv2\n",
        "import clip\n",
        "from tqdm import tqdm\n",
        "from PIL import Image\n",
        "from sklearn.metrics import roc_auc_score\n",
        "from transformers import RobertaTokenizer, RobertaModel"
      ]
    },
    {
      "cell_type": "code",
      "source": [
        "class ScaleMaxSideToSize(object):\n",
        "  def __init__(self, size):\n",
        "    self.size = size\n",
        "\n",
        "  def __call__(self, sample):\n",
        "    sample = cv2.resize(sample, (self.size, self.size), interpolation=cv2.INTER_AREA)\n",
        "\n",
        "    return sample\n",
        "\n",
        "\n",
        "class CropCenter(object):\n",
        "  def __init__(self, size):\n",
        "    self.size = size\n",
        "\n",
        "  def __call__(self, sample):\n",
        "    img = sample\n",
        "    h, w, _ = img.shape\n",
        "    margin_h = (h - self.size) // 2\n",
        "    margin_w = (w - self.size) // 2\n",
        "    sample = img[margin_h:margin_h + self.size, margin_w:margin_w + self.size]\n",
        "\n",
        "    return sample"
      ],
      "metadata": {
        "id": "CcaiFYZFpTj9"
      },
      "id": "CcaiFYZFpTj9",
      "execution_count": 5,
      "outputs": []
    },
    {
      "cell_type": "markdown",
      "id": "7a8c9bb2-0949-422c-9d30-7069ad357881",
      "metadata": {
        "id": "7a8c9bb2-0949-422c-9d30-7069ad357881"
      },
      "source": [
        "## 1. Load dataset"
      ]
    },
    {
      "cell_type": "code",
      "execution_count": 6,
      "id": "c106a57e-b40b-4769-8b23-3c55d76092c3",
      "metadata": {
        "id": "c106a57e-b40b-4769-8b23-3c55d76092c3"
      },
      "outputs": [],
      "source": [
        "class Load_Dataset(torch.utils.data.Dataset):\n",
        "  def __init__(self, data_path, transforms):\n",
        "    self.data = [json.loads(l) for l in open(data_path)]\n",
        "    self.data_dir = os.path.dirname(data_path)\n",
        "    self.transforms = transforms\n",
        "\n",
        "  def __getitem__(self, index: int):\n",
        "    path = os.path.join(self.data_dir, self.data[index][\"img\"])\n",
        "    image = cv2.imread(path)\n",
        "    image = cv2.cvtColor(image, cv2.COLOR_BGR2RGB)\n",
        "    id = self.data[index][\"id\"]\n",
        "    text = self.data[index][\"text\"]\n",
        "    label = self.data[index][\"label\"]\n",
        "\n",
        "    if self.transforms is not None:\n",
        "        image = self.transforms(image)\n",
        "\n",
        "    return id, image, text, label\n",
        "\n",
        "  def __len__(self):\n",
        "    return len(self.data)"
      ]
    },
    {
      "cell_type": "code",
      "execution_count": 7,
      "id": "dd0066bd-8704-4da6-a3b7-20b93ce65864",
      "metadata": {
        "id": "dd0066bd-8704-4da6-a3b7-20b93ce65864"
      },
      "outputs": [],
      "source": [
        "CROP_SIZE = 224\n",
        "MEAN = torch.tensor([0.485, 0.456, 0.406])\n",
        "STD = torch.tensor([0.229, 0.224, 0.225])\n",
        "\n",
        "transforms = T.Compose([\n",
        "    ScaleMaxSideToSize(CROP_SIZE),\n",
        "    CropCenter(CROP_SIZE),\n",
        "    T.ToTensor(),\n",
        "    T.Normalize(mean=MEAN, std=STD)])\n",
        "\n",
        "\n",
        "train_path = '/content/data/hateful_memes/train.jsonl'\n",
        "train_dataset = Load_Dataset(train_path, transforms)\n",
        "\n",
        "dev_path = '/content/data/hateful_memes/dev_seen.jsonl'\n",
        "dev_dataset = Load_Dataset(dev_path, transforms)\n",
        "\n",
        "test_path = '/content/data/hateful_memes/test_seen.jsonl'\n",
        "test_dataset = Load_Dataset(test_path, transforms)"
      ]
    },
    {
      "cell_type": "markdown",
      "id": "ce4b17f6-8ed7-4d2f-bcef-264d36e4acbf",
      "metadata": {
        "id": "ce4b17f6-8ed7-4d2f-bcef-264d36e4acbf"
      },
      "source": [
        "## 2. Use CLIP to encode each modality to get image and text features"
      ]
    },
    {
      "cell_type": "code",
      "execution_count": 8,
      "id": "1af2651d-6f91-4eaf-8e67-5c0b55818a49",
      "metadata": {
        "id": "1af2651d-6f91-4eaf-8e67-5c0b55818a49",
        "colab": {
          "base_uri": "https://localhost:8080/",
          "height": 220,
          "referenced_widgets": [
            "672136feeb9f46da8ac1fc35e18201d6",
            "86fa2b37bbb3438f95028d8e59639cf4",
            "3583005be3744a4b90ea0bbcfcde8469",
            "cefdca008164403384ac0f561fa9c2c2",
            "b94e6757387747c5ac15590877f927de",
            "47effc231cce4091ac44538d164ccac7",
            "18091e1268e8430b8f6f0832d8bfe5ec",
            "ed2dbf27b415473db696b52b22cc1d57",
            "75da5e9a3ff04d5c9ff091722b2efad4",
            "c2a807dc33874cbba161ef4fd0487fab",
            "214560f2bb504ff6a60e16a48d448637",
            "7e54cd9dada143ca8bc17b7c80a6b953",
            "6a11e4ac081345c2afafe8ca35325b65",
            "8eb00a4f10294f609f1ab430a7ad0ea7",
            "8042040fef9f4891882de6dec733d1e2",
            "ef18a0600e55406a8a9a195c76144d43",
            "91af36761ef446b5938ae72128fc20b6",
            "39a21097a8c8448cb5ea03f61c82716a",
            "08d31c8b09ff49aa9e7a92ba11c4112b",
            "379535b33e4c44d5a4f0b7ca76839ec6",
            "839beb750ed144d692400d6304f7ea30",
            "69303331f2f146368ee3be7ed4157ffd",
            "802082cbdc5746eea4bf0cf11a3f0b74",
            "5c58393df6994b0a9159d34043786d79",
            "420f46354a344baab2b861f34811085a",
            "0d21abc7a47c46bd9323d46ac533feb6",
            "65c45d9da1424a2697e825242c9d4feb",
            "a980657b524d4a8fbaec1d08e5faffac",
            "d9524eea49744203889890e29b611a3c",
            "cbad42c98e9e42b08705d16ab19d1b5b",
            "26ce037b513d4e4ebfda1d55dbdae9a8",
            "460e6a3447394f13b52b1930990a711b",
            "49746810bc5449aea2124aae04df1ffa",
            "abfd4443b8684c36b73b90c00603bef9",
            "5f2444fffa3f477d95db68d4a71cf0d7",
            "ba2678e29d474e8dada56b9dfec94fc6",
            "92488c8896044f1c8bf0207c4f72caf3",
            "192ee14f39c5492c8d01c7a47cc8fce0",
            "04483d2eaabe427b8563f789cd8525c2",
            "3d097db360b54bceaaee88eab1da2f78",
            "c3ed2c6bb79747e584d711602fb4ed52",
            "e03470f35cda47ee8e88f8a9f42bc78e",
            "c70e323590524dca8d89edb6db615dd3",
            "71c08c858269432fa8e6efbfaef6f848"
          ]
        },
        "outputId": "5abea136-02c5-44ba-df53-1f5a5b658e3d"
      },
      "outputs": [
        {
          "output_type": "stream",
          "name": "stderr",
          "text": [
            "100%|████████████████████████████████████████| 890M/890M [00:03<00:00, 300MiB/s]\n"
          ]
        },
        {
          "output_type": "display_data",
          "data": {
            "text/plain": [
              "Downloading (…)olve/main/vocab.json:   0%|          | 0.00/899k [00:00<?, ?B/s]"
            ],
            "application/vnd.jupyter.widget-view+json": {
              "version_major": 2,
              "version_minor": 0,
              "model_id": "672136feeb9f46da8ac1fc35e18201d6"
            }
          },
          "metadata": {}
        },
        {
          "output_type": "display_data",
          "data": {
            "text/plain": [
              "Downloading (…)olve/main/merges.txt:   0%|          | 0.00/456k [00:00<?, ?B/s]"
            ],
            "application/vnd.jupyter.widget-view+json": {
              "version_major": 2,
              "version_minor": 0,
              "model_id": "7e54cd9dada143ca8bc17b7c80a6b953"
            }
          },
          "metadata": {}
        },
        {
          "output_type": "display_data",
          "data": {
            "text/plain": [
              "Downloading (…)lve/main/config.json:   0%|          | 0.00/482 [00:00<?, ?B/s]"
            ],
            "application/vnd.jupyter.widget-view+json": {
              "version_major": 2,
              "version_minor": 0,
              "model_id": "802082cbdc5746eea4bf0cf11a3f0b74"
            }
          },
          "metadata": {}
        },
        {
          "output_type": "display_data",
          "data": {
            "text/plain": [
              "Downloading model.safetensors:   0%|          | 0.00/1.42G [00:00<?, ?B/s]"
            ],
            "application/vnd.jupyter.widget-view+json": {
              "version_major": 2,
              "version_minor": 0,
              "model_id": "abfd4443b8684c36b73b90c00603bef9"
            }
          },
          "metadata": {}
        },
        {
          "output_type": "stream",
          "name": "stderr",
          "text": [
            "Some weights of RobertaModel were not initialized from the model checkpoint at roberta-large and are newly initialized: ['roberta.pooler.dense.bias', 'roberta.pooler.dense.weight']\n",
            "You should probably TRAIN this model on a down-stream task to be able to use it for predictions and inference.\n"
          ]
        }
      ],
      "source": [
        "device = \"cuda\" if torch.cuda.is_available() else \"cpu\"\n",
        "CLIP_model, preprocess = clip.load('ViT-L/14', device=device)\n",
        "\n",
        "# Initialize RoBERTa tokenizer and model\n",
        "tokenizer = RobertaTokenizer.from_pretrained('roberta-large')\n",
        "roberta_model = RobertaModel.from_pretrained('roberta-large').to(device)"
      ]
    },
    {
      "cell_type": "code",
      "execution_count": 9,
      "id": "7cc1a8ce-457e-4d75-8524-75f4612d84ad",
      "metadata": {
        "id": "7cc1a8ce-457e-4d75-8524-75f4612d84ad",
        "colab": {
          "base_uri": "https://localhost:8080/"
        },
        "outputId": "c35c6b77-62ba-4a08-de15-da3c688834be"
      },
      "outputs": [
        {
          "output_type": "stream",
          "name": "stderr",
          "text": [
            "  0%|          | 0/85 [00:00<?, ?it/s]We strongly recommend passing in an `attention_mask` since your input_ids may be padded. See https://huggingface.co/docs/transformers/troubleshooting#incorrect-output-when-padding-tokens-arent-masked.\n",
            "100%|██████████| 85/85 [03:22<00:00,  2.38s/it]\n",
            "100%|██████████| 5/5 [00:11<00:00,  2.31s/it]\n",
            "100%|██████████| 10/10 [00:23<00:00,  2.31s/it]\n"
          ]
        }
      ],
      "source": [
        "def encode_features(clip_model, roberta_model, tokenizer, dataset):\n",
        "  all_ids = []\n",
        "  all_features = []\n",
        "  all_labels = []\n",
        "\n",
        "  with torch.no_grad():\n",
        "    for ids, images, texts, labels in tqdm(DataLoader(dataset, batch_size=100)):\n",
        "      # Encode images with CLIP\n",
        "      image_input = torch.tensor(np.stack(images)).to(device)\n",
        "      image_features = clip_model.encode_image(image_input).type(torch.float).to(device)\n",
        "      # Encode text with RoBERTa\n",
        "      text_tokens = tokenizer([desc for desc in texts], padding='max_length', return_tensors='pt').input_ids.to(device)\n",
        "      text_features = roberta_model(text_tokens)[0][:,0,:].type(torch.float).to(device)\n",
        "      # Concatenate the features from different modalities into one shared vector space\n",
        "      features = torch.cat([image_features, text_features], dim=1)\n",
        "      all_ids.extend(ids)\n",
        "      all_features.extend(features)\n",
        "      all_labels.extend(labels)\n",
        "\n",
        "  return all_ids, all_features, all_labels\n",
        "\n",
        "\n",
        "# Get image & text features from train/dev/test set\n",
        "ids_train, features_train, labels_train = encode_features(CLIP_model, roberta_model, tokenizer, train_dataset)\n",
        "ids_dev, features_dev, labels_dev = encode_features(CLIP_model, roberta_model, tokenizer, dev_dataset)\n",
        "ids_test, features_test, labels_test = encode_features(CLIP_model, roberta_model, tokenizer, test_dataset)"
      ]
    },
    {
      "cell_type": "code",
      "execution_count": 10,
      "id": "399d9c37-8491-4788-aadc-256b32910391",
      "metadata": {
        "id": "399d9c37-8491-4788-aadc-256b32910391"
      },
      "outputs": [],
      "source": [
        "class DefineDataset(torch.utils.data.Dataset):\n",
        "  def __init__(self, ids, features, labels):\n",
        "    self.ids = ids\n",
        "    self.features = features\n",
        "    self.labels = labels\n",
        "\n",
        "  def __getitem__(self, index: int):\n",
        "    return self.ids[index], self.features[index], self.labels[index]\n",
        "\n",
        "  def __len__(self):\n",
        "    return len(self.features)\n",
        "\n",
        "\n",
        "# Define train/dev/test set using image & text features and gold labels\n",
        "train_set = DefineDataset(ids_train, features_train, labels_train)\n",
        "dev_set = DefineDataset(ids_dev, features_dev, labels_dev)\n",
        "test_set = DefineDataset(ids_test, features_test, labels_test)"
      ]
    },
    {
      "cell_type": "markdown",
      "id": "5e07bb92-4639-433e-a984-84170c85b9b8",
      "metadata": {
        "id": "5e07bb92-4639-433e-a984-84170c85b9b8"
      },
      "source": [
        "## 3. Construct a neural network for classification"
      ]
    },
    {
      "cell_type": "code",
      "execution_count": 11,
      "id": "f4668dcc-54b2-4036-861b-2fe3849841fb",
      "metadata": {
        "id": "f4668dcc-54b2-4036-861b-2fe3849841fb"
      },
      "outputs": [],
      "source": [
        "torch.manual_seed(78)\n",
        "input_shape = features_train[0].shape[0]\n",
        "num_classes = 2\n",
        "shape = 256\n",
        "\n",
        "nn_model = nn.Sequential(\n",
        "    nn.Linear(input_shape, shape),\n",
        "    nn.Dropout(0.66),\n",
        "    nn.BatchNorm1d(shape),\n",
        "    nn.ReLU(inplace=True),\n",
        "\n",
        "    nn.Linear(shape, shape),\n",
        "    nn.Dropout(0.66),\n",
        "    nn.BatchNorm1d(shape),\n",
        "    nn.ReLU(inplace=True),\n",
        "\n",
        "    nn.Linear(shape, num_classes),)\n",
        "\n",
        "nn_model = nn_model.to(device)\n",
        "loss = nn.CrossEntropyLoss()\n",
        "optimizer = torch.optim.Adam(nn_model.parameters(), lr=1e-2)\n",
        "scheduler = torch.optim.lr_scheduler.StepLR(optimizer, step_size=10, gamma=0.8)"
      ]
    },
    {
      "cell_type": "markdown",
      "id": "325c07d5-2902-46ed-b60d-36ca93543c34",
      "metadata": {
        "id": "325c07d5-2902-46ed-b60d-36ca93543c34"
      },
      "source": [
        "## 4. Train and validate the classification model and save the best model after 100 epochs of training"
      ]
    },
    {
      "cell_type": "code",
      "execution_count": 12,
      "id": "b7700aaa-c37c-4b18-a30b-8e1df1653d51",
      "metadata": {
        "id": "b7700aaa-c37c-4b18-a30b-8e1df1653d51"
      },
      "outputs": [],
      "source": [
        "def get_lr(optimizer):\n",
        "  for param_group in optimizer.param_groups:\n",
        "    return param_group['lr']  # Retrieve the learning rate value from optimizer\n",
        "\n",
        "def compute_auroc(model, loader):\n",
        "  \"\"\"\n",
        "  Compute AUROC on the dataset wrapped in a loader\n",
        "  Return: AUROC score as a float value between 0 and 1\n",
        "  \"\"\"\n",
        "  model.eval()\n",
        "  real_labels = []\n",
        "  probabilities = []\n",
        "\n",
        "  for i_step, (i, x, y) in enumerate(loader):\n",
        "    x = x.to(device)\n",
        "    y = y.to(device)\n",
        "    prediction = model(x)\n",
        "    # select probabilities corresponding to the positive class\n",
        "    prediction = prediction[:, 1]  # positive class in the second column\n",
        "    probabilities.extend(prediction.detach().cpu().numpy())\n",
        "    real_labels.extend(y.detach().cpu().numpy())\n",
        "\n",
        "  auroc = roc_auc_score(real_labels, probabilities)*100\n",
        "  return auroc"
      ]
    },
    {
      "cell_type": "code",
      "execution_count": 13,
      "id": "9e602c43-d58b-490a-b7d4-0e8c1190d93b",
      "metadata": {
        "id": "9e602c43-d58b-490a-b7d4-0e8c1190d93b",
        "colab": {
          "base_uri": "https://localhost:8080/"
        },
        "outputId": "4d680659-58ba-465b-f769-3d1f50f83d77"
      },
      "outputs": [
        {
          "output_type": "stream",
          "name": "stdout",
          "text": [
            "Epoch: 0 lr: 0.010000; Average loss: 0.626560, Val AUROC: 71.272663\n",
            "saved Best_model_71.27.ckpt\n",
            "Epoch: 1 lr: 0.010000; Average loss: 0.511404, Val AUROC: 73.757821\n",
            "saved Best_model_73.76.ckpt\n",
            "Epoch: 2 lr: 0.010000; Average loss: 0.461132, Val AUROC: 74.477925\n",
            "saved Best_model_74.48.ckpt\n",
            "Epoch: 5 lr: 0.010000; Average loss: 0.419322, Val AUROC: 74.533933\n",
            "saved Best_model_74.53.ckpt\n",
            "Epoch: 6 lr: 0.010000; Average loss: 0.407532, Val AUROC: 74.783569\n",
            "saved Best_model_74.78.ckpt\n",
            "Epoch: 7 lr: 0.010000; Average loss: 0.399922, Val AUROC: 75.820518\n",
            "saved Best_model_75.82.ckpt\n",
            "Epoch: 9 lr: 0.008000; Average loss: 0.378010, Val AUROC: 75.860524\n",
            "saved Best_model_75.86.ckpt\n",
            "Epoch: 15 lr: 0.008000; Average loss: 0.306128, Val AUROC: 76.026948\n",
            "saved Best_model_76.03.ckpt\n",
            "Epoch: 17 lr: 0.008000; Average loss: 0.293554, Val AUROC: 76.350194\n",
            "saved Best_model_76.35.ckpt\n",
            "Epoch: 45 lr: 0.004096; Average loss: 0.091073, Val AUROC: 76.535821\n",
            "saved Best_model_76.54.ckpt\n",
            "Epoch: 54 lr: 0.003277; Average loss: 0.064399, Val AUROC: 76.785457\n",
            "saved Best_model_76.79.ckpt\n"
          ]
        }
      ],
      "source": [
        "train_loader = DataLoader(train_set, batch_size=500)\n",
        "val_loader = DataLoader(dev_set, batch_size=500)\n",
        "top_val_AUROC = 70\n",
        "\n",
        "for epoch in range(100):\n",
        "  nn_model.train()\n",
        "  loss_accum = 0\n",
        "  for i_step, (i, x, y) in enumerate(train_loader):\n",
        "    x = x.to(device)\n",
        "    y = y.to(device)\n",
        "    prediction = nn_model(x)\n",
        "    loss_value = loss(prediction, y.type(torch.long))\n",
        "    optimizer.zero_grad()\n",
        "    loss_value.backward()\n",
        "    optimizer.step()\n",
        "    loss_accum += loss_value\n",
        "\n",
        "  ave_loss = loss_accum / (i_step + 1)\n",
        "  val_AUROC = compute_auroc(nn_model, val_loader)\n",
        "\n",
        "  if scheduler != None:\n",
        "    scheduler.step()\n",
        "\n",
        "  if val_AUROC > top_val_AUROC:\n",
        "    top_val_AUROC = val_AUROC\n",
        "    best_model_name = f'Best_model_{round(val_AUROC, 2)}.ckpt'\n",
        "    torch.save(nn_model, open(best_model_name, 'wb'))\n",
        "    print(\"Epoch: %i lr: %f; Average loss: %f, Val AUROC: %f\" % (epoch, get_lr(optimizer), ave_loss, val_AUROC))\n",
        "    print(\"saved\", best_model_name)"
      ]
    },
    {
      "cell_type": "markdown",
      "id": "bdaa3cd1-3201-48fa-b00a-084d5807557a",
      "metadata": {
        "id": "bdaa3cd1-3201-48fa-b00a-084d5807557a"
      },
      "source": [
        "## 5. test the best model"
      ]
    },
    {
      "cell_type": "code",
      "source": [
        "best_model = torch.load(open(best_model_name, 'rb'))\n",
        "print(best_model)"
      ],
      "metadata": {
        "id": "GtDtcz4VyhOS",
        "colab": {
          "base_uri": "https://localhost:8080/"
        },
        "outputId": "9dd877ca-bd35-4ee6-80ae-fa8c07315e6c"
      },
      "id": "GtDtcz4VyhOS",
      "execution_count": 14,
      "outputs": [
        {
          "output_type": "stream",
          "name": "stdout",
          "text": [
            "Sequential(\n",
            "  (0): Linear(in_features=1792, out_features=256, bias=True)\n",
            "  (1): Dropout(p=0.66, inplace=False)\n",
            "  (2): BatchNorm1d(256, eps=1e-05, momentum=0.1, affine=True, track_running_stats=True)\n",
            "  (3): ReLU(inplace=True)\n",
            "  (4): Linear(in_features=256, out_features=256, bias=True)\n",
            "  (5): Dropout(p=0.66, inplace=False)\n",
            "  (6): BatchNorm1d(256, eps=1e-05, momentum=0.1, affine=True, track_running_stats=True)\n",
            "  (7): ReLU(inplace=True)\n",
            "  (8): Linear(in_features=256, out_features=2, bias=True)\n",
            ")\n"
          ]
        }
      ]
    },
    {
      "cell_type": "code",
      "execution_count": 15,
      "id": "802772c4-772d-4df6-8b15-c7c6e6e348c9",
      "metadata": {
        "id": "802772c4-772d-4df6-8b15-c7c6e6e348c9",
        "colab": {
          "base_uri": "https://localhost:8080/"
        },
        "outputId": "95eddf36-b423-47d4-91d7-7b16d99746ac"
      },
      "outputs": [
        {
          "output_type": "stream",
          "name": "stdout",
          "text": [
            "Test AUROC: 80.92\n"
          ]
        }
      ],
      "source": [
        "best_model = best_model.to(device)\n",
        "best_model.eval()\n",
        "\n",
        "test_loader = DataLoader(test_set, batch_size=500)\n",
        "real_labels = []\n",
        "predictions = []\n",
        "\n",
        "for i_step, (i, x, y) in enumerate(test_loader):\n",
        "  x = x.to(device)\n",
        "  y = y.to(device)\n",
        "  prediction = best_model(x)\n",
        "  # select probabilities corresponding to the positive class\n",
        "  prediction = prediction[:, 1]  # positive class in the second column\n",
        "  predictions.extend(prediction.detach().cpu().numpy())\n",
        "  real_labels.extend(y.detach().cpu().numpy())\n",
        "\n",
        "auroc_score = roc_auc_score(real_labels, predictions)*100\n",
        "print('Test AUROC:', round(auroc_score, 2))"
      ]
    }
  ],
  "metadata": {
    "accelerator": "GPU",
    "colab": {
      "gpuType": "A100",
      "machine_shape": "hm",
      "provenance": []
    },
    "kernelspec": {
      "display_name": "Python 3",
      "name": "python3"
    },
    "language_info": {
      "codemirror_mode": {
        "name": "ipython",
        "version": 3
      },
      "file_extension": ".py",
      "mimetype": "text/x-python",
      "name": "python",
      "nbconvert_exporter": "python",
      "pygments_lexer": "ipython3",
      "version": "3.9.13"
    },
    "widgets": {
      "application/vnd.jupyter.widget-state+json": {
        "672136feeb9f46da8ac1fc35e18201d6": {
          "model_module": "@jupyter-widgets/controls",
          "model_name": "HBoxModel",
          "model_module_version": "1.5.0",
          "state": {
            "_dom_classes": [],
            "_model_module": "@jupyter-widgets/controls",
            "_model_module_version": "1.5.0",
            "_model_name": "HBoxModel",
            "_view_count": null,
            "_view_module": "@jupyter-widgets/controls",
            "_view_module_version": "1.5.0",
            "_view_name": "HBoxView",
            "box_style": "",
            "children": [
              "IPY_MODEL_86fa2b37bbb3438f95028d8e59639cf4",
              "IPY_MODEL_3583005be3744a4b90ea0bbcfcde8469",
              "IPY_MODEL_cefdca008164403384ac0f561fa9c2c2"
            ],
            "layout": "IPY_MODEL_b94e6757387747c5ac15590877f927de"
          }
        },
        "86fa2b37bbb3438f95028d8e59639cf4": {
          "model_module": "@jupyter-widgets/controls",
          "model_name": "HTMLModel",
          "model_module_version": "1.5.0",
          "state": {
            "_dom_classes": [],
            "_model_module": "@jupyter-widgets/controls",
            "_model_module_version": "1.5.0",
            "_model_name": "HTMLModel",
            "_view_count": null,
            "_view_module": "@jupyter-widgets/controls",
            "_view_module_version": "1.5.0",
            "_view_name": "HTMLView",
            "description": "",
            "description_tooltip": null,
            "layout": "IPY_MODEL_47effc231cce4091ac44538d164ccac7",
            "placeholder": "​",
            "style": "IPY_MODEL_18091e1268e8430b8f6f0832d8bfe5ec",
            "value": "Downloading (…)olve/main/vocab.json: 100%"
          }
        },
        "3583005be3744a4b90ea0bbcfcde8469": {
          "model_module": "@jupyter-widgets/controls",
          "model_name": "FloatProgressModel",
          "model_module_version": "1.5.0",
          "state": {
            "_dom_classes": [],
            "_model_module": "@jupyter-widgets/controls",
            "_model_module_version": "1.5.0",
            "_model_name": "FloatProgressModel",
            "_view_count": null,
            "_view_module": "@jupyter-widgets/controls",
            "_view_module_version": "1.5.0",
            "_view_name": "ProgressView",
            "bar_style": "success",
            "description": "",
            "description_tooltip": null,
            "layout": "IPY_MODEL_ed2dbf27b415473db696b52b22cc1d57",
            "max": 898823,
            "min": 0,
            "orientation": "horizontal",
            "style": "IPY_MODEL_75da5e9a3ff04d5c9ff091722b2efad4",
            "value": 898823
          }
        },
        "cefdca008164403384ac0f561fa9c2c2": {
          "model_module": "@jupyter-widgets/controls",
          "model_name": "HTMLModel",
          "model_module_version": "1.5.0",
          "state": {
            "_dom_classes": [],
            "_model_module": "@jupyter-widgets/controls",
            "_model_module_version": "1.5.0",
            "_model_name": "HTMLModel",
            "_view_count": null,
            "_view_module": "@jupyter-widgets/controls",
            "_view_module_version": "1.5.0",
            "_view_name": "HTMLView",
            "description": "",
            "description_tooltip": null,
            "layout": "IPY_MODEL_c2a807dc33874cbba161ef4fd0487fab",
            "placeholder": "​",
            "style": "IPY_MODEL_214560f2bb504ff6a60e16a48d448637",
            "value": " 899k/899k [00:00&lt;00:00, 2.08MB/s]"
          }
        },
        "b94e6757387747c5ac15590877f927de": {
          "model_module": "@jupyter-widgets/base",
          "model_name": "LayoutModel",
          "model_module_version": "1.2.0",
          "state": {
            "_model_module": "@jupyter-widgets/base",
            "_model_module_version": "1.2.0",
            "_model_name": "LayoutModel",
            "_view_count": null,
            "_view_module": "@jupyter-widgets/base",
            "_view_module_version": "1.2.0",
            "_view_name": "LayoutView",
            "align_content": null,
            "align_items": null,
            "align_self": null,
            "border": null,
            "bottom": null,
            "display": null,
            "flex": null,
            "flex_flow": null,
            "grid_area": null,
            "grid_auto_columns": null,
            "grid_auto_flow": null,
            "grid_auto_rows": null,
            "grid_column": null,
            "grid_gap": null,
            "grid_row": null,
            "grid_template_areas": null,
            "grid_template_columns": null,
            "grid_template_rows": null,
            "height": null,
            "justify_content": null,
            "justify_items": null,
            "left": null,
            "margin": null,
            "max_height": null,
            "max_width": null,
            "min_height": null,
            "min_width": null,
            "object_fit": null,
            "object_position": null,
            "order": null,
            "overflow": null,
            "overflow_x": null,
            "overflow_y": null,
            "padding": null,
            "right": null,
            "top": null,
            "visibility": null,
            "width": null
          }
        },
        "47effc231cce4091ac44538d164ccac7": {
          "model_module": "@jupyter-widgets/base",
          "model_name": "LayoutModel",
          "model_module_version": "1.2.0",
          "state": {
            "_model_module": "@jupyter-widgets/base",
            "_model_module_version": "1.2.0",
            "_model_name": "LayoutModel",
            "_view_count": null,
            "_view_module": "@jupyter-widgets/base",
            "_view_module_version": "1.2.0",
            "_view_name": "LayoutView",
            "align_content": null,
            "align_items": null,
            "align_self": null,
            "border": null,
            "bottom": null,
            "display": null,
            "flex": null,
            "flex_flow": null,
            "grid_area": null,
            "grid_auto_columns": null,
            "grid_auto_flow": null,
            "grid_auto_rows": null,
            "grid_column": null,
            "grid_gap": null,
            "grid_row": null,
            "grid_template_areas": null,
            "grid_template_columns": null,
            "grid_template_rows": null,
            "height": null,
            "justify_content": null,
            "justify_items": null,
            "left": null,
            "margin": null,
            "max_height": null,
            "max_width": null,
            "min_height": null,
            "min_width": null,
            "object_fit": null,
            "object_position": null,
            "order": null,
            "overflow": null,
            "overflow_x": null,
            "overflow_y": null,
            "padding": null,
            "right": null,
            "top": null,
            "visibility": null,
            "width": null
          }
        },
        "18091e1268e8430b8f6f0832d8bfe5ec": {
          "model_module": "@jupyter-widgets/controls",
          "model_name": "DescriptionStyleModel",
          "model_module_version": "1.5.0",
          "state": {
            "_model_module": "@jupyter-widgets/controls",
            "_model_module_version": "1.5.0",
            "_model_name": "DescriptionStyleModel",
            "_view_count": null,
            "_view_module": "@jupyter-widgets/base",
            "_view_module_version": "1.2.0",
            "_view_name": "StyleView",
            "description_width": ""
          }
        },
        "ed2dbf27b415473db696b52b22cc1d57": {
          "model_module": "@jupyter-widgets/base",
          "model_name": "LayoutModel",
          "model_module_version": "1.2.0",
          "state": {
            "_model_module": "@jupyter-widgets/base",
            "_model_module_version": "1.2.0",
            "_model_name": "LayoutModel",
            "_view_count": null,
            "_view_module": "@jupyter-widgets/base",
            "_view_module_version": "1.2.0",
            "_view_name": "LayoutView",
            "align_content": null,
            "align_items": null,
            "align_self": null,
            "border": null,
            "bottom": null,
            "display": null,
            "flex": null,
            "flex_flow": null,
            "grid_area": null,
            "grid_auto_columns": null,
            "grid_auto_flow": null,
            "grid_auto_rows": null,
            "grid_column": null,
            "grid_gap": null,
            "grid_row": null,
            "grid_template_areas": null,
            "grid_template_columns": null,
            "grid_template_rows": null,
            "height": null,
            "justify_content": null,
            "justify_items": null,
            "left": null,
            "margin": null,
            "max_height": null,
            "max_width": null,
            "min_height": null,
            "min_width": null,
            "object_fit": null,
            "object_position": null,
            "order": null,
            "overflow": null,
            "overflow_x": null,
            "overflow_y": null,
            "padding": null,
            "right": null,
            "top": null,
            "visibility": null,
            "width": null
          }
        },
        "75da5e9a3ff04d5c9ff091722b2efad4": {
          "model_module": "@jupyter-widgets/controls",
          "model_name": "ProgressStyleModel",
          "model_module_version": "1.5.0",
          "state": {
            "_model_module": "@jupyter-widgets/controls",
            "_model_module_version": "1.5.0",
            "_model_name": "ProgressStyleModel",
            "_view_count": null,
            "_view_module": "@jupyter-widgets/base",
            "_view_module_version": "1.2.0",
            "_view_name": "StyleView",
            "bar_color": null,
            "description_width": ""
          }
        },
        "c2a807dc33874cbba161ef4fd0487fab": {
          "model_module": "@jupyter-widgets/base",
          "model_name": "LayoutModel",
          "model_module_version": "1.2.0",
          "state": {
            "_model_module": "@jupyter-widgets/base",
            "_model_module_version": "1.2.0",
            "_model_name": "LayoutModel",
            "_view_count": null,
            "_view_module": "@jupyter-widgets/base",
            "_view_module_version": "1.2.0",
            "_view_name": "LayoutView",
            "align_content": null,
            "align_items": null,
            "align_self": null,
            "border": null,
            "bottom": null,
            "display": null,
            "flex": null,
            "flex_flow": null,
            "grid_area": null,
            "grid_auto_columns": null,
            "grid_auto_flow": null,
            "grid_auto_rows": null,
            "grid_column": null,
            "grid_gap": null,
            "grid_row": null,
            "grid_template_areas": null,
            "grid_template_columns": null,
            "grid_template_rows": null,
            "height": null,
            "justify_content": null,
            "justify_items": null,
            "left": null,
            "margin": null,
            "max_height": null,
            "max_width": null,
            "min_height": null,
            "min_width": null,
            "object_fit": null,
            "object_position": null,
            "order": null,
            "overflow": null,
            "overflow_x": null,
            "overflow_y": null,
            "padding": null,
            "right": null,
            "top": null,
            "visibility": null,
            "width": null
          }
        },
        "214560f2bb504ff6a60e16a48d448637": {
          "model_module": "@jupyter-widgets/controls",
          "model_name": "DescriptionStyleModel",
          "model_module_version": "1.5.0",
          "state": {
            "_model_module": "@jupyter-widgets/controls",
            "_model_module_version": "1.5.0",
            "_model_name": "DescriptionStyleModel",
            "_view_count": null,
            "_view_module": "@jupyter-widgets/base",
            "_view_module_version": "1.2.0",
            "_view_name": "StyleView",
            "description_width": ""
          }
        },
        "7e54cd9dada143ca8bc17b7c80a6b953": {
          "model_module": "@jupyter-widgets/controls",
          "model_name": "HBoxModel",
          "model_module_version": "1.5.0",
          "state": {
            "_dom_classes": [],
            "_model_module": "@jupyter-widgets/controls",
            "_model_module_version": "1.5.0",
            "_model_name": "HBoxModel",
            "_view_count": null,
            "_view_module": "@jupyter-widgets/controls",
            "_view_module_version": "1.5.0",
            "_view_name": "HBoxView",
            "box_style": "",
            "children": [
              "IPY_MODEL_6a11e4ac081345c2afafe8ca35325b65",
              "IPY_MODEL_8eb00a4f10294f609f1ab430a7ad0ea7",
              "IPY_MODEL_8042040fef9f4891882de6dec733d1e2"
            ],
            "layout": "IPY_MODEL_ef18a0600e55406a8a9a195c76144d43"
          }
        },
        "6a11e4ac081345c2afafe8ca35325b65": {
          "model_module": "@jupyter-widgets/controls",
          "model_name": "HTMLModel",
          "model_module_version": "1.5.0",
          "state": {
            "_dom_classes": [],
            "_model_module": "@jupyter-widgets/controls",
            "_model_module_version": "1.5.0",
            "_model_name": "HTMLModel",
            "_view_count": null,
            "_view_module": "@jupyter-widgets/controls",
            "_view_module_version": "1.5.0",
            "_view_name": "HTMLView",
            "description": "",
            "description_tooltip": null,
            "layout": "IPY_MODEL_91af36761ef446b5938ae72128fc20b6",
            "placeholder": "​",
            "style": "IPY_MODEL_39a21097a8c8448cb5ea03f61c82716a",
            "value": "Downloading (…)olve/main/merges.txt: 100%"
          }
        },
        "8eb00a4f10294f609f1ab430a7ad0ea7": {
          "model_module": "@jupyter-widgets/controls",
          "model_name": "FloatProgressModel",
          "model_module_version": "1.5.0",
          "state": {
            "_dom_classes": [],
            "_model_module": "@jupyter-widgets/controls",
            "_model_module_version": "1.5.0",
            "_model_name": "FloatProgressModel",
            "_view_count": null,
            "_view_module": "@jupyter-widgets/controls",
            "_view_module_version": "1.5.0",
            "_view_name": "ProgressView",
            "bar_style": "success",
            "description": "",
            "description_tooltip": null,
            "layout": "IPY_MODEL_08d31c8b09ff49aa9e7a92ba11c4112b",
            "max": 456318,
            "min": 0,
            "orientation": "horizontal",
            "style": "IPY_MODEL_379535b33e4c44d5a4f0b7ca76839ec6",
            "value": 456318
          }
        },
        "8042040fef9f4891882de6dec733d1e2": {
          "model_module": "@jupyter-widgets/controls",
          "model_name": "HTMLModel",
          "model_module_version": "1.5.0",
          "state": {
            "_dom_classes": [],
            "_model_module": "@jupyter-widgets/controls",
            "_model_module_version": "1.5.0",
            "_model_name": "HTMLModel",
            "_view_count": null,
            "_view_module": "@jupyter-widgets/controls",
            "_view_module_version": "1.5.0",
            "_view_name": "HTMLView",
            "description": "",
            "description_tooltip": null,
            "layout": "IPY_MODEL_839beb750ed144d692400d6304f7ea30",
            "placeholder": "​",
            "style": "IPY_MODEL_69303331f2f146368ee3be7ed4157ffd",
            "value": " 456k/456k [00:00&lt;00:00, 34.5MB/s]"
          }
        },
        "ef18a0600e55406a8a9a195c76144d43": {
          "model_module": "@jupyter-widgets/base",
          "model_name": "LayoutModel",
          "model_module_version": "1.2.0",
          "state": {
            "_model_module": "@jupyter-widgets/base",
            "_model_module_version": "1.2.0",
            "_model_name": "LayoutModel",
            "_view_count": null,
            "_view_module": "@jupyter-widgets/base",
            "_view_module_version": "1.2.0",
            "_view_name": "LayoutView",
            "align_content": null,
            "align_items": null,
            "align_self": null,
            "border": null,
            "bottom": null,
            "display": null,
            "flex": null,
            "flex_flow": null,
            "grid_area": null,
            "grid_auto_columns": null,
            "grid_auto_flow": null,
            "grid_auto_rows": null,
            "grid_column": null,
            "grid_gap": null,
            "grid_row": null,
            "grid_template_areas": null,
            "grid_template_columns": null,
            "grid_template_rows": null,
            "height": null,
            "justify_content": null,
            "justify_items": null,
            "left": null,
            "margin": null,
            "max_height": null,
            "max_width": null,
            "min_height": null,
            "min_width": null,
            "object_fit": null,
            "object_position": null,
            "order": null,
            "overflow": null,
            "overflow_x": null,
            "overflow_y": null,
            "padding": null,
            "right": null,
            "top": null,
            "visibility": null,
            "width": null
          }
        },
        "91af36761ef446b5938ae72128fc20b6": {
          "model_module": "@jupyter-widgets/base",
          "model_name": "LayoutModel",
          "model_module_version": "1.2.0",
          "state": {
            "_model_module": "@jupyter-widgets/base",
            "_model_module_version": "1.2.0",
            "_model_name": "LayoutModel",
            "_view_count": null,
            "_view_module": "@jupyter-widgets/base",
            "_view_module_version": "1.2.0",
            "_view_name": "LayoutView",
            "align_content": null,
            "align_items": null,
            "align_self": null,
            "border": null,
            "bottom": null,
            "display": null,
            "flex": null,
            "flex_flow": null,
            "grid_area": null,
            "grid_auto_columns": null,
            "grid_auto_flow": null,
            "grid_auto_rows": null,
            "grid_column": null,
            "grid_gap": null,
            "grid_row": null,
            "grid_template_areas": null,
            "grid_template_columns": null,
            "grid_template_rows": null,
            "height": null,
            "justify_content": null,
            "justify_items": null,
            "left": null,
            "margin": null,
            "max_height": null,
            "max_width": null,
            "min_height": null,
            "min_width": null,
            "object_fit": null,
            "object_position": null,
            "order": null,
            "overflow": null,
            "overflow_x": null,
            "overflow_y": null,
            "padding": null,
            "right": null,
            "top": null,
            "visibility": null,
            "width": null
          }
        },
        "39a21097a8c8448cb5ea03f61c82716a": {
          "model_module": "@jupyter-widgets/controls",
          "model_name": "DescriptionStyleModel",
          "model_module_version": "1.5.0",
          "state": {
            "_model_module": "@jupyter-widgets/controls",
            "_model_module_version": "1.5.0",
            "_model_name": "DescriptionStyleModel",
            "_view_count": null,
            "_view_module": "@jupyter-widgets/base",
            "_view_module_version": "1.2.0",
            "_view_name": "StyleView",
            "description_width": ""
          }
        },
        "08d31c8b09ff49aa9e7a92ba11c4112b": {
          "model_module": "@jupyter-widgets/base",
          "model_name": "LayoutModel",
          "model_module_version": "1.2.0",
          "state": {
            "_model_module": "@jupyter-widgets/base",
            "_model_module_version": "1.2.0",
            "_model_name": "LayoutModel",
            "_view_count": null,
            "_view_module": "@jupyter-widgets/base",
            "_view_module_version": "1.2.0",
            "_view_name": "LayoutView",
            "align_content": null,
            "align_items": null,
            "align_self": null,
            "border": null,
            "bottom": null,
            "display": null,
            "flex": null,
            "flex_flow": null,
            "grid_area": null,
            "grid_auto_columns": null,
            "grid_auto_flow": null,
            "grid_auto_rows": null,
            "grid_column": null,
            "grid_gap": null,
            "grid_row": null,
            "grid_template_areas": null,
            "grid_template_columns": null,
            "grid_template_rows": null,
            "height": null,
            "justify_content": null,
            "justify_items": null,
            "left": null,
            "margin": null,
            "max_height": null,
            "max_width": null,
            "min_height": null,
            "min_width": null,
            "object_fit": null,
            "object_position": null,
            "order": null,
            "overflow": null,
            "overflow_x": null,
            "overflow_y": null,
            "padding": null,
            "right": null,
            "top": null,
            "visibility": null,
            "width": null
          }
        },
        "379535b33e4c44d5a4f0b7ca76839ec6": {
          "model_module": "@jupyter-widgets/controls",
          "model_name": "ProgressStyleModel",
          "model_module_version": "1.5.0",
          "state": {
            "_model_module": "@jupyter-widgets/controls",
            "_model_module_version": "1.5.0",
            "_model_name": "ProgressStyleModel",
            "_view_count": null,
            "_view_module": "@jupyter-widgets/base",
            "_view_module_version": "1.2.0",
            "_view_name": "StyleView",
            "bar_color": null,
            "description_width": ""
          }
        },
        "839beb750ed144d692400d6304f7ea30": {
          "model_module": "@jupyter-widgets/base",
          "model_name": "LayoutModel",
          "model_module_version": "1.2.0",
          "state": {
            "_model_module": "@jupyter-widgets/base",
            "_model_module_version": "1.2.0",
            "_model_name": "LayoutModel",
            "_view_count": null,
            "_view_module": "@jupyter-widgets/base",
            "_view_module_version": "1.2.0",
            "_view_name": "LayoutView",
            "align_content": null,
            "align_items": null,
            "align_self": null,
            "border": null,
            "bottom": null,
            "display": null,
            "flex": null,
            "flex_flow": null,
            "grid_area": null,
            "grid_auto_columns": null,
            "grid_auto_flow": null,
            "grid_auto_rows": null,
            "grid_column": null,
            "grid_gap": null,
            "grid_row": null,
            "grid_template_areas": null,
            "grid_template_columns": null,
            "grid_template_rows": null,
            "height": null,
            "justify_content": null,
            "justify_items": null,
            "left": null,
            "margin": null,
            "max_height": null,
            "max_width": null,
            "min_height": null,
            "min_width": null,
            "object_fit": null,
            "object_position": null,
            "order": null,
            "overflow": null,
            "overflow_x": null,
            "overflow_y": null,
            "padding": null,
            "right": null,
            "top": null,
            "visibility": null,
            "width": null
          }
        },
        "69303331f2f146368ee3be7ed4157ffd": {
          "model_module": "@jupyter-widgets/controls",
          "model_name": "DescriptionStyleModel",
          "model_module_version": "1.5.0",
          "state": {
            "_model_module": "@jupyter-widgets/controls",
            "_model_module_version": "1.5.0",
            "_model_name": "DescriptionStyleModel",
            "_view_count": null,
            "_view_module": "@jupyter-widgets/base",
            "_view_module_version": "1.2.0",
            "_view_name": "StyleView",
            "description_width": ""
          }
        },
        "802082cbdc5746eea4bf0cf11a3f0b74": {
          "model_module": "@jupyter-widgets/controls",
          "model_name": "HBoxModel",
          "model_module_version": "1.5.0",
          "state": {
            "_dom_classes": [],
            "_model_module": "@jupyter-widgets/controls",
            "_model_module_version": "1.5.0",
            "_model_name": "HBoxModel",
            "_view_count": null,
            "_view_module": "@jupyter-widgets/controls",
            "_view_module_version": "1.5.0",
            "_view_name": "HBoxView",
            "box_style": "",
            "children": [
              "IPY_MODEL_5c58393df6994b0a9159d34043786d79",
              "IPY_MODEL_420f46354a344baab2b861f34811085a",
              "IPY_MODEL_0d21abc7a47c46bd9323d46ac533feb6"
            ],
            "layout": "IPY_MODEL_65c45d9da1424a2697e825242c9d4feb"
          }
        },
        "5c58393df6994b0a9159d34043786d79": {
          "model_module": "@jupyter-widgets/controls",
          "model_name": "HTMLModel",
          "model_module_version": "1.5.0",
          "state": {
            "_dom_classes": [],
            "_model_module": "@jupyter-widgets/controls",
            "_model_module_version": "1.5.0",
            "_model_name": "HTMLModel",
            "_view_count": null,
            "_view_module": "@jupyter-widgets/controls",
            "_view_module_version": "1.5.0",
            "_view_name": "HTMLView",
            "description": "",
            "description_tooltip": null,
            "layout": "IPY_MODEL_a980657b524d4a8fbaec1d08e5faffac",
            "placeholder": "​",
            "style": "IPY_MODEL_d9524eea49744203889890e29b611a3c",
            "value": "Downloading (…)lve/main/config.json: 100%"
          }
        },
        "420f46354a344baab2b861f34811085a": {
          "model_module": "@jupyter-widgets/controls",
          "model_name": "FloatProgressModel",
          "model_module_version": "1.5.0",
          "state": {
            "_dom_classes": [],
            "_model_module": "@jupyter-widgets/controls",
            "_model_module_version": "1.5.0",
            "_model_name": "FloatProgressModel",
            "_view_count": null,
            "_view_module": "@jupyter-widgets/controls",
            "_view_module_version": "1.5.0",
            "_view_name": "ProgressView",
            "bar_style": "success",
            "description": "",
            "description_tooltip": null,
            "layout": "IPY_MODEL_cbad42c98e9e42b08705d16ab19d1b5b",
            "max": 482,
            "min": 0,
            "orientation": "horizontal",
            "style": "IPY_MODEL_26ce037b513d4e4ebfda1d55dbdae9a8",
            "value": 482
          }
        },
        "0d21abc7a47c46bd9323d46ac533feb6": {
          "model_module": "@jupyter-widgets/controls",
          "model_name": "HTMLModel",
          "model_module_version": "1.5.0",
          "state": {
            "_dom_classes": [],
            "_model_module": "@jupyter-widgets/controls",
            "_model_module_version": "1.5.0",
            "_model_name": "HTMLModel",
            "_view_count": null,
            "_view_module": "@jupyter-widgets/controls",
            "_view_module_version": "1.5.0",
            "_view_name": "HTMLView",
            "description": "",
            "description_tooltip": null,
            "layout": "IPY_MODEL_460e6a3447394f13b52b1930990a711b",
            "placeholder": "​",
            "style": "IPY_MODEL_49746810bc5449aea2124aae04df1ffa",
            "value": " 482/482 [00:00&lt;00:00, 43.7kB/s]"
          }
        },
        "65c45d9da1424a2697e825242c9d4feb": {
          "model_module": "@jupyter-widgets/base",
          "model_name": "LayoutModel",
          "model_module_version": "1.2.0",
          "state": {
            "_model_module": "@jupyter-widgets/base",
            "_model_module_version": "1.2.0",
            "_model_name": "LayoutModel",
            "_view_count": null,
            "_view_module": "@jupyter-widgets/base",
            "_view_module_version": "1.2.0",
            "_view_name": "LayoutView",
            "align_content": null,
            "align_items": null,
            "align_self": null,
            "border": null,
            "bottom": null,
            "display": null,
            "flex": null,
            "flex_flow": null,
            "grid_area": null,
            "grid_auto_columns": null,
            "grid_auto_flow": null,
            "grid_auto_rows": null,
            "grid_column": null,
            "grid_gap": null,
            "grid_row": null,
            "grid_template_areas": null,
            "grid_template_columns": null,
            "grid_template_rows": null,
            "height": null,
            "justify_content": null,
            "justify_items": null,
            "left": null,
            "margin": null,
            "max_height": null,
            "max_width": null,
            "min_height": null,
            "min_width": null,
            "object_fit": null,
            "object_position": null,
            "order": null,
            "overflow": null,
            "overflow_x": null,
            "overflow_y": null,
            "padding": null,
            "right": null,
            "top": null,
            "visibility": null,
            "width": null
          }
        },
        "a980657b524d4a8fbaec1d08e5faffac": {
          "model_module": "@jupyter-widgets/base",
          "model_name": "LayoutModel",
          "model_module_version": "1.2.0",
          "state": {
            "_model_module": "@jupyter-widgets/base",
            "_model_module_version": "1.2.0",
            "_model_name": "LayoutModel",
            "_view_count": null,
            "_view_module": "@jupyter-widgets/base",
            "_view_module_version": "1.2.0",
            "_view_name": "LayoutView",
            "align_content": null,
            "align_items": null,
            "align_self": null,
            "border": null,
            "bottom": null,
            "display": null,
            "flex": null,
            "flex_flow": null,
            "grid_area": null,
            "grid_auto_columns": null,
            "grid_auto_flow": null,
            "grid_auto_rows": null,
            "grid_column": null,
            "grid_gap": null,
            "grid_row": null,
            "grid_template_areas": null,
            "grid_template_columns": null,
            "grid_template_rows": null,
            "height": null,
            "justify_content": null,
            "justify_items": null,
            "left": null,
            "margin": null,
            "max_height": null,
            "max_width": null,
            "min_height": null,
            "min_width": null,
            "object_fit": null,
            "object_position": null,
            "order": null,
            "overflow": null,
            "overflow_x": null,
            "overflow_y": null,
            "padding": null,
            "right": null,
            "top": null,
            "visibility": null,
            "width": null
          }
        },
        "d9524eea49744203889890e29b611a3c": {
          "model_module": "@jupyter-widgets/controls",
          "model_name": "DescriptionStyleModel",
          "model_module_version": "1.5.0",
          "state": {
            "_model_module": "@jupyter-widgets/controls",
            "_model_module_version": "1.5.0",
            "_model_name": "DescriptionStyleModel",
            "_view_count": null,
            "_view_module": "@jupyter-widgets/base",
            "_view_module_version": "1.2.0",
            "_view_name": "StyleView",
            "description_width": ""
          }
        },
        "cbad42c98e9e42b08705d16ab19d1b5b": {
          "model_module": "@jupyter-widgets/base",
          "model_name": "LayoutModel",
          "model_module_version": "1.2.0",
          "state": {
            "_model_module": "@jupyter-widgets/base",
            "_model_module_version": "1.2.0",
            "_model_name": "LayoutModel",
            "_view_count": null,
            "_view_module": "@jupyter-widgets/base",
            "_view_module_version": "1.2.0",
            "_view_name": "LayoutView",
            "align_content": null,
            "align_items": null,
            "align_self": null,
            "border": null,
            "bottom": null,
            "display": null,
            "flex": null,
            "flex_flow": null,
            "grid_area": null,
            "grid_auto_columns": null,
            "grid_auto_flow": null,
            "grid_auto_rows": null,
            "grid_column": null,
            "grid_gap": null,
            "grid_row": null,
            "grid_template_areas": null,
            "grid_template_columns": null,
            "grid_template_rows": null,
            "height": null,
            "justify_content": null,
            "justify_items": null,
            "left": null,
            "margin": null,
            "max_height": null,
            "max_width": null,
            "min_height": null,
            "min_width": null,
            "object_fit": null,
            "object_position": null,
            "order": null,
            "overflow": null,
            "overflow_x": null,
            "overflow_y": null,
            "padding": null,
            "right": null,
            "top": null,
            "visibility": null,
            "width": null
          }
        },
        "26ce037b513d4e4ebfda1d55dbdae9a8": {
          "model_module": "@jupyter-widgets/controls",
          "model_name": "ProgressStyleModel",
          "model_module_version": "1.5.0",
          "state": {
            "_model_module": "@jupyter-widgets/controls",
            "_model_module_version": "1.5.0",
            "_model_name": "ProgressStyleModel",
            "_view_count": null,
            "_view_module": "@jupyter-widgets/base",
            "_view_module_version": "1.2.0",
            "_view_name": "StyleView",
            "bar_color": null,
            "description_width": ""
          }
        },
        "460e6a3447394f13b52b1930990a711b": {
          "model_module": "@jupyter-widgets/base",
          "model_name": "LayoutModel",
          "model_module_version": "1.2.0",
          "state": {
            "_model_module": "@jupyter-widgets/base",
            "_model_module_version": "1.2.0",
            "_model_name": "LayoutModel",
            "_view_count": null,
            "_view_module": "@jupyter-widgets/base",
            "_view_module_version": "1.2.0",
            "_view_name": "LayoutView",
            "align_content": null,
            "align_items": null,
            "align_self": null,
            "border": null,
            "bottom": null,
            "display": null,
            "flex": null,
            "flex_flow": null,
            "grid_area": null,
            "grid_auto_columns": null,
            "grid_auto_flow": null,
            "grid_auto_rows": null,
            "grid_column": null,
            "grid_gap": null,
            "grid_row": null,
            "grid_template_areas": null,
            "grid_template_columns": null,
            "grid_template_rows": null,
            "height": null,
            "justify_content": null,
            "justify_items": null,
            "left": null,
            "margin": null,
            "max_height": null,
            "max_width": null,
            "min_height": null,
            "min_width": null,
            "object_fit": null,
            "object_position": null,
            "order": null,
            "overflow": null,
            "overflow_x": null,
            "overflow_y": null,
            "padding": null,
            "right": null,
            "top": null,
            "visibility": null,
            "width": null
          }
        },
        "49746810bc5449aea2124aae04df1ffa": {
          "model_module": "@jupyter-widgets/controls",
          "model_name": "DescriptionStyleModel",
          "model_module_version": "1.5.0",
          "state": {
            "_model_module": "@jupyter-widgets/controls",
            "_model_module_version": "1.5.0",
            "_model_name": "DescriptionStyleModel",
            "_view_count": null,
            "_view_module": "@jupyter-widgets/base",
            "_view_module_version": "1.2.0",
            "_view_name": "StyleView",
            "description_width": ""
          }
        },
        "abfd4443b8684c36b73b90c00603bef9": {
          "model_module": "@jupyter-widgets/controls",
          "model_name": "HBoxModel",
          "model_module_version": "1.5.0",
          "state": {
            "_dom_classes": [],
            "_model_module": "@jupyter-widgets/controls",
            "_model_module_version": "1.5.0",
            "_model_name": "HBoxModel",
            "_view_count": null,
            "_view_module": "@jupyter-widgets/controls",
            "_view_module_version": "1.5.0",
            "_view_name": "HBoxView",
            "box_style": "",
            "children": [
              "IPY_MODEL_5f2444fffa3f477d95db68d4a71cf0d7",
              "IPY_MODEL_ba2678e29d474e8dada56b9dfec94fc6",
              "IPY_MODEL_92488c8896044f1c8bf0207c4f72caf3"
            ],
            "layout": "IPY_MODEL_192ee14f39c5492c8d01c7a47cc8fce0"
          }
        },
        "5f2444fffa3f477d95db68d4a71cf0d7": {
          "model_module": "@jupyter-widgets/controls",
          "model_name": "HTMLModel",
          "model_module_version": "1.5.0",
          "state": {
            "_dom_classes": [],
            "_model_module": "@jupyter-widgets/controls",
            "_model_module_version": "1.5.0",
            "_model_name": "HTMLModel",
            "_view_count": null,
            "_view_module": "@jupyter-widgets/controls",
            "_view_module_version": "1.5.0",
            "_view_name": "HTMLView",
            "description": "",
            "description_tooltip": null,
            "layout": "IPY_MODEL_04483d2eaabe427b8563f789cd8525c2",
            "placeholder": "​",
            "style": "IPY_MODEL_3d097db360b54bceaaee88eab1da2f78",
            "value": "Downloading model.safetensors: 100%"
          }
        },
        "ba2678e29d474e8dada56b9dfec94fc6": {
          "model_module": "@jupyter-widgets/controls",
          "model_name": "FloatProgressModel",
          "model_module_version": "1.5.0",
          "state": {
            "_dom_classes": [],
            "_model_module": "@jupyter-widgets/controls",
            "_model_module_version": "1.5.0",
            "_model_name": "FloatProgressModel",
            "_view_count": null,
            "_view_module": "@jupyter-widgets/controls",
            "_view_module_version": "1.5.0",
            "_view_name": "ProgressView",
            "bar_style": "success",
            "description": "",
            "description_tooltip": null,
            "layout": "IPY_MODEL_c3ed2c6bb79747e584d711602fb4ed52",
            "max": 1421700479,
            "min": 0,
            "orientation": "horizontal",
            "style": "IPY_MODEL_e03470f35cda47ee8e88f8a9f42bc78e",
            "value": 1421700479
          }
        },
        "92488c8896044f1c8bf0207c4f72caf3": {
          "model_module": "@jupyter-widgets/controls",
          "model_name": "HTMLModel",
          "model_module_version": "1.5.0",
          "state": {
            "_dom_classes": [],
            "_model_module": "@jupyter-widgets/controls",
            "_model_module_version": "1.5.0",
            "_model_name": "HTMLModel",
            "_view_count": null,
            "_view_module": "@jupyter-widgets/controls",
            "_view_module_version": "1.5.0",
            "_view_name": "HTMLView",
            "description": "",
            "description_tooltip": null,
            "layout": "IPY_MODEL_c70e323590524dca8d89edb6db615dd3",
            "placeholder": "​",
            "style": "IPY_MODEL_71c08c858269432fa8e6efbfaef6f848",
            "value": " 1.42G/1.42G [00:02&lt;00:00, 537MB/s]"
          }
        },
        "192ee14f39c5492c8d01c7a47cc8fce0": {
          "model_module": "@jupyter-widgets/base",
          "model_name": "LayoutModel",
          "model_module_version": "1.2.0",
          "state": {
            "_model_module": "@jupyter-widgets/base",
            "_model_module_version": "1.2.0",
            "_model_name": "LayoutModel",
            "_view_count": null,
            "_view_module": "@jupyter-widgets/base",
            "_view_module_version": "1.2.0",
            "_view_name": "LayoutView",
            "align_content": null,
            "align_items": null,
            "align_self": null,
            "border": null,
            "bottom": null,
            "display": null,
            "flex": null,
            "flex_flow": null,
            "grid_area": null,
            "grid_auto_columns": null,
            "grid_auto_flow": null,
            "grid_auto_rows": null,
            "grid_column": null,
            "grid_gap": null,
            "grid_row": null,
            "grid_template_areas": null,
            "grid_template_columns": null,
            "grid_template_rows": null,
            "height": null,
            "justify_content": null,
            "justify_items": null,
            "left": null,
            "margin": null,
            "max_height": null,
            "max_width": null,
            "min_height": null,
            "min_width": null,
            "object_fit": null,
            "object_position": null,
            "order": null,
            "overflow": null,
            "overflow_x": null,
            "overflow_y": null,
            "padding": null,
            "right": null,
            "top": null,
            "visibility": null,
            "width": null
          }
        },
        "04483d2eaabe427b8563f789cd8525c2": {
          "model_module": "@jupyter-widgets/base",
          "model_name": "LayoutModel",
          "model_module_version": "1.2.0",
          "state": {
            "_model_module": "@jupyter-widgets/base",
            "_model_module_version": "1.2.0",
            "_model_name": "LayoutModel",
            "_view_count": null,
            "_view_module": "@jupyter-widgets/base",
            "_view_module_version": "1.2.0",
            "_view_name": "LayoutView",
            "align_content": null,
            "align_items": null,
            "align_self": null,
            "border": null,
            "bottom": null,
            "display": null,
            "flex": null,
            "flex_flow": null,
            "grid_area": null,
            "grid_auto_columns": null,
            "grid_auto_flow": null,
            "grid_auto_rows": null,
            "grid_column": null,
            "grid_gap": null,
            "grid_row": null,
            "grid_template_areas": null,
            "grid_template_columns": null,
            "grid_template_rows": null,
            "height": null,
            "justify_content": null,
            "justify_items": null,
            "left": null,
            "margin": null,
            "max_height": null,
            "max_width": null,
            "min_height": null,
            "min_width": null,
            "object_fit": null,
            "object_position": null,
            "order": null,
            "overflow": null,
            "overflow_x": null,
            "overflow_y": null,
            "padding": null,
            "right": null,
            "top": null,
            "visibility": null,
            "width": null
          }
        },
        "3d097db360b54bceaaee88eab1da2f78": {
          "model_module": "@jupyter-widgets/controls",
          "model_name": "DescriptionStyleModel",
          "model_module_version": "1.5.0",
          "state": {
            "_model_module": "@jupyter-widgets/controls",
            "_model_module_version": "1.5.0",
            "_model_name": "DescriptionStyleModel",
            "_view_count": null,
            "_view_module": "@jupyter-widgets/base",
            "_view_module_version": "1.2.0",
            "_view_name": "StyleView",
            "description_width": ""
          }
        },
        "c3ed2c6bb79747e584d711602fb4ed52": {
          "model_module": "@jupyter-widgets/base",
          "model_name": "LayoutModel",
          "model_module_version": "1.2.0",
          "state": {
            "_model_module": "@jupyter-widgets/base",
            "_model_module_version": "1.2.0",
            "_model_name": "LayoutModel",
            "_view_count": null,
            "_view_module": "@jupyter-widgets/base",
            "_view_module_version": "1.2.0",
            "_view_name": "LayoutView",
            "align_content": null,
            "align_items": null,
            "align_self": null,
            "border": null,
            "bottom": null,
            "display": null,
            "flex": null,
            "flex_flow": null,
            "grid_area": null,
            "grid_auto_columns": null,
            "grid_auto_flow": null,
            "grid_auto_rows": null,
            "grid_column": null,
            "grid_gap": null,
            "grid_row": null,
            "grid_template_areas": null,
            "grid_template_columns": null,
            "grid_template_rows": null,
            "height": null,
            "justify_content": null,
            "justify_items": null,
            "left": null,
            "margin": null,
            "max_height": null,
            "max_width": null,
            "min_height": null,
            "min_width": null,
            "object_fit": null,
            "object_position": null,
            "order": null,
            "overflow": null,
            "overflow_x": null,
            "overflow_y": null,
            "padding": null,
            "right": null,
            "top": null,
            "visibility": null,
            "width": null
          }
        },
        "e03470f35cda47ee8e88f8a9f42bc78e": {
          "model_module": "@jupyter-widgets/controls",
          "model_name": "ProgressStyleModel",
          "model_module_version": "1.5.0",
          "state": {
            "_model_module": "@jupyter-widgets/controls",
            "_model_module_version": "1.5.0",
            "_model_name": "ProgressStyleModel",
            "_view_count": null,
            "_view_module": "@jupyter-widgets/base",
            "_view_module_version": "1.2.0",
            "_view_name": "StyleView",
            "bar_color": null,
            "description_width": ""
          }
        },
        "c70e323590524dca8d89edb6db615dd3": {
          "model_module": "@jupyter-widgets/base",
          "model_name": "LayoutModel",
          "model_module_version": "1.2.0",
          "state": {
            "_model_module": "@jupyter-widgets/base",
            "_model_module_version": "1.2.0",
            "_model_name": "LayoutModel",
            "_view_count": null,
            "_view_module": "@jupyter-widgets/base",
            "_view_module_version": "1.2.0",
            "_view_name": "LayoutView",
            "align_content": null,
            "align_items": null,
            "align_self": null,
            "border": null,
            "bottom": null,
            "display": null,
            "flex": null,
            "flex_flow": null,
            "grid_area": null,
            "grid_auto_columns": null,
            "grid_auto_flow": null,
            "grid_auto_rows": null,
            "grid_column": null,
            "grid_gap": null,
            "grid_row": null,
            "grid_template_areas": null,
            "grid_template_columns": null,
            "grid_template_rows": null,
            "height": null,
            "justify_content": null,
            "justify_items": null,
            "left": null,
            "margin": null,
            "max_height": null,
            "max_width": null,
            "min_height": null,
            "min_width": null,
            "object_fit": null,
            "object_position": null,
            "order": null,
            "overflow": null,
            "overflow_x": null,
            "overflow_y": null,
            "padding": null,
            "right": null,
            "top": null,
            "visibility": null,
            "width": null
          }
        },
        "71c08c858269432fa8e6efbfaef6f848": {
          "model_module": "@jupyter-widgets/controls",
          "model_name": "DescriptionStyleModel",
          "model_module_version": "1.5.0",
          "state": {
            "_model_module": "@jupyter-widgets/controls",
            "_model_module_version": "1.5.0",
            "_model_name": "DescriptionStyleModel",
            "_view_count": null,
            "_view_module": "@jupyter-widgets/base",
            "_view_module_version": "1.2.0",
            "_view_name": "StyleView",
            "description_width": ""
          }
        }
      }
    }
  },
  "nbformat": 4,
  "nbformat_minor": 5
}