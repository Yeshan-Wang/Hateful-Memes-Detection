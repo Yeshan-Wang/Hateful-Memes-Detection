{
 "cells": [
  {
   "cell_type": "code",
   "execution_count": 1,
   "id": "3a728816-8439-4744-b0ef-f71834902406",
   "metadata": {
    "colab": {
     "base_uri": "https://localhost:8080/"
    },
    "id": "3a728816-8439-4744-b0ef-f71834902406",
    "outputId": "4fdbb288-5d9d-420e-a854-e5084f76522e"
   },
   "outputs": [
    {
     "name": "stdout",
     "output_type": "stream",
     "text": [
      "Fri Jul  7 18:26:48 2023       \n",
      "+-----------------------------------------------------------------------------+\n",
      "| NVIDIA-SMI 525.85.12    Driver Version: 525.85.12    CUDA Version: 12.0     |\n",
      "|-------------------------------+----------------------+----------------------+\n",
      "| GPU  Name        Persistence-M| Bus-Id        Disp.A | Volatile Uncorr. ECC |\n",
      "| Fan  Temp  Perf  Pwr:Usage/Cap|         Memory-Usage | GPU-Util  Compute M. |\n",
      "|                               |                      |               MIG M. |\n",
      "|===============================+======================+======================|\n",
      "|   0  NVIDIA A100-SXM...  Off  | 00000000:00:04.0 Off |                    0 |\n",
      "| N/A   31C    P0    46W / 400W |      0MiB / 40960MiB |      0%      Default |\n",
      "|                               |                      |             Disabled |\n",
      "+-------------------------------+----------------------+----------------------+\n",
      "                                                                               \n",
      "+-----------------------------------------------------------------------------+\n",
      "| Processes:                                                                  |\n",
      "|  GPU   GI   CI        PID   Type   Process name                  GPU Memory |\n",
      "|        ID   ID                                                   Usage      |\n",
      "|=============================================================================|\n",
      "|  No running processes found                                                 |\n",
      "+-----------------------------------------------------------------------------+\n"
     ]
    }
   ],
   "source": [
    "!nvidia-smi"
   ]
  },
  {
   "cell_type": "code",
   "execution_count": 2,
   "id": "ff84dfc3-14b3-4e9c-a84e-45d220bc57d6",
   "metadata": {
    "colab": {
     "base_uri": "https://localhost:8080/"
    },
    "id": "ff84dfc3-14b3-4e9c-a84e-45d220bc57d6",
    "outputId": "7909460c-9571-4359-98e5-e1e539c73407"
   },
   "outputs": [
    {
     "name": "stdout",
     "output_type": "stream",
     "text": [
      "Mounted at /content/drive\n"
     ]
    }
   ],
   "source": [
    "from google.colab import drive\n",
    "drive.mount('/content/drive')\n",
    "\n",
    "! unzip -q '/content/drive/MyDrive/hateful_memes.zip' -d '/content/data'"
   ]
  },
  {
   "cell_type": "code",
   "execution_count": 3,
   "id": "fcd350b4-79f8-4b8b-8d27-e58893fca8f5",
   "metadata": {
    "colab": {
     "base_uri": "https://localhost:8080/"
    },
    "id": "fcd350b4-79f8-4b8b-8d27-e58893fca8f5",
    "outputId": "a02f6a65-bc01-4a89-a6df-8445ee0c2b84"
   },
   "outputs": [
    {
     "name": "stdout",
     "output_type": "stream",
     "text": [
      "\u001b[2K     \u001b[90m━━━━━━━━━━━━━━━━━━━━━━━━━━━━━━━━━━━━━━━━\u001b[0m \u001b[32m53.1/53.1 kB\u001b[0m \u001b[31m5.9 MB/s\u001b[0m eta \u001b[36m0:00:00\u001b[0m\n",
      "\u001b[?25h  Preparing metadata (setup.py) ... \u001b[?25l\u001b[?25hdone\n",
      "  Building wheel for clip (setup.py) ... \u001b[?25l\u001b[?25hdone\n"
     ]
    }
   ],
   "source": [
    "! pip install --quiet ftfy regex tqdm\n",
    "! pip install --quiet git+https://github.com/openai/CLIP.git"
   ]
  },
  {
   "cell_type": "code",
   "execution_count": 4,
   "id": "f7588592-aa07-4e30-814b-adf3f7094b4b",
   "metadata": {
    "id": "f7588592-aa07-4e30-814b-adf3f7094b4b"
   },
   "outputs": [],
   "source": [
    "import os\n",
    "import csv\n",
    "import json\n",
    "import pandas as pd\n",
    "import numpy as np\n",
    "import matplotlib.image as img\n",
    "\n",
    "import torch\n",
    "import torch.nn as nn\n",
    "from torch.utils.data import DataLoader\n",
    "\n",
    "import torchvision\n",
    "from torchvision import transforms as T\n",
    "import torchvision.transforms.functional as F\n",
    "\n",
    "import cv2\n",
    "import clip\n",
    "from tqdm import tqdm\n",
    "from PIL import Image\n",
    "from sklearn.metrics import roc_auc_score"
   ]
  },
  {
   "cell_type": "markdown",
   "id": "ASvOKpKoKlHi",
   "metadata": {
    "id": "ASvOKpKoKlHi"
   },
   "source": [
    "## 1. Integrate image captioning features as another column to the dataset"
   ]
  },
  {
   "cell_type": "code",
   "execution_count": 5,
   "id": "w4qCI6QOLb8k",
   "metadata": {
    "id": "w4qCI6QOLb8k"
   },
   "outputs": [],
   "source": [
    "# Read the caption information and store them in a dictionary using img path as key\n",
    "caption = {}\n",
    "with open('/content/drive/MyDrive/BLIP_caption.csv', 'r') as csvfile:\n",
    "  csvreader = csv.reader(csvfile)\n",
    "  for row in csvreader:\n",
    "    caption['img/'+row[0]] = row[1]\n",
    "\n",
    "file_path = ['/content/data/hateful_memes/train.jsonl',\n",
    "             '/content/data/hateful_memes/dev_seen.jsonl',\n",
    "             '/content/data/hateful_memes/test_seen.jsonl']\n",
    "\n",
    "for path in file_path:\n",
    "  # Add caption information as another column to the dataset\n",
    "  data = []\n",
    "  with open(path, 'r') as jsonfile:\n",
    "    for line in jsonfile:\n",
    "      data.append(json.loads(line))\n",
    "\n",
    "  combined_data = []\n",
    "  for item in data:\n",
    "    img = item['img']\n",
    "    combined_data.append({'id': item['id'], 'img': img, 'label': item['label'], 'text': item['text'], 'caption': caption[img]})\n",
    "\n",
    "  os.remove(path)\n",
    "  with open(path, 'w') as file:\n",
    "    for i in combined_data:\n",
    "      file.write(json.dumps(i) + '\\n')"
   ]
  },
  {
   "cell_type": "markdown",
   "id": "7a8c9bb2-0949-422c-9d30-7069ad357881",
   "metadata": {
    "id": "7a8c9bb2-0949-422c-9d30-7069ad357881"
   },
   "source": [
    "## 2. Load dataset"
   ]
  },
  {
   "cell_type": "code",
   "execution_count": 6,
   "id": "CcaiFYZFpTj9",
   "metadata": {
    "id": "CcaiFYZFpTj9"
   },
   "outputs": [],
   "source": [
    "class ScaleMaxSideToSize(object):\n",
    "  def __init__(self, size):\n",
    "    self.size = size\n",
    "\n",
    "  def __call__(self, sample):\n",
    "    sample = cv2.resize(sample, (self.size, self.size), interpolation=cv2.INTER_AREA)\n",
    "\n",
    "    return sample\n",
    "\n",
    "\n",
    "class CropCenter(object):\n",
    "  def __init__(self, size):\n",
    "    self.size = size\n",
    "\n",
    "  def __call__(self, sample):\n",
    "    img = sample\n",
    "    h, w, _ = img.shape\n",
    "    margin_h = (h - self.size) // 2\n",
    "    margin_w = (w - self.size) // 2\n",
    "    sample = img[margin_h:margin_h + self.size, margin_w:margin_w + self.size]\n",
    "\n",
    "    return sample"
   ]
  },
  {
   "cell_type": "code",
   "execution_count": 7,
   "id": "c106a57e-b40b-4769-8b23-3c55d76092c3",
   "metadata": {
    "id": "c106a57e-b40b-4769-8b23-3c55d76092c3"
   },
   "outputs": [],
   "source": [
    "class Load_Dataset(torch.utils.data.Dataset):\n",
    "  def __init__(self, data_path, transforms):\n",
    "    self.data = [json.loads(l) for l in open(data_path)]\n",
    "    self.data_dir = os.path.dirname(data_path)\n",
    "    self.transforms = transforms\n",
    "\n",
    "  def __getitem__(self, index: int):\n",
    "    path = os.path.join(self.data_dir, self.data[index][\"img\"])\n",
    "    image = cv2.imread(path)\n",
    "    image = cv2.cvtColor(image, cv2.COLOR_BGR2RGB)\n",
    "\n",
    "    text = self.data[index][\"text\"]\n",
    "    label = self.data[index][\"label\"]\n",
    "    caption = self.data[index][\"caption\"]\n",
    "\n",
    "    if self.transforms is not None:\n",
    "        image = self.transforms(image)\n",
    "\n",
    "    return image, text, label, path, caption\n",
    "\n",
    "  def __len__(self):\n",
    "    return len(self.data)"
   ]
  },
  {
   "cell_type": "code",
   "execution_count": 8,
   "id": "dd0066bd-8704-4da6-a3b7-20b93ce65864",
   "metadata": {
    "id": "dd0066bd-8704-4da6-a3b7-20b93ce65864"
   },
   "outputs": [],
   "source": [
    "CROP_SIZE = 336\n",
    "MEAN = torch.tensor([0.485, 0.456, 0.406])\n",
    "STD = torch.tensor([0.229, 0.224, 0.225])\n",
    "\n",
    "transforms = T.Compose([\n",
    "    ScaleMaxSideToSize(CROP_SIZE),\n",
    "    CropCenter(CROP_SIZE),\n",
    "    T.ToTensor(),\n",
    "    T.Normalize(mean=MEAN, std=STD)])\n",
    "\n",
    "\n",
    "train_path = '/content/data/hateful_memes/train.jsonl'\n",
    "train_dataset = Load_Dataset(train_path, transforms)\n",
    "\n",
    "dev_path = '/content/data/hateful_memes/dev_seen.jsonl'\n",
    "dev_dataset = Load_Dataset(dev_path, transforms)\n",
    "\n",
    "test_path = '/content/data/hateful_memes/test_seen.jsonl'\n",
    "test_dataset = Load_Dataset(test_path, transforms)"
   ]
  },
  {
   "cell_type": "markdown",
   "id": "ce4b17f6-8ed7-4d2f-bcef-264d36e4acbf",
   "metadata": {
    "id": "ce4b17f6-8ed7-4d2f-bcef-264d36e4acbf"
   },
   "source": [
    "## 3. Use CLIP to encode each modality to get image, text and caption features"
   ]
  },
  {
   "cell_type": "code",
   "execution_count": 9,
   "id": "1af2651d-6f91-4eaf-8e67-5c0b55818a49",
   "metadata": {
    "colab": {
     "base_uri": "https://localhost:8080/"
    },
    "id": "1af2651d-6f91-4eaf-8e67-5c0b55818a49",
    "outputId": "3ae4aa87-a7bc-405d-9d85-1f2a5416eb8f"
   },
   "outputs": [
    {
     "name": "stderr",
     "output_type": "stream",
     "text": [
      "100%|███████████████████████████████████████| 891M/891M [01:16<00:00, 12.3MiB/s]\n"
     ]
    }
   ],
   "source": [
    "device = \"cuda\" if torch.cuda.is_available() else \"cpu\"\n",
    "CLIP_model, preprocess = clip.load('ViT-L/14@336px', device=device)"
   ]
  },
  {
   "cell_type": "code",
   "execution_count": 10,
   "id": "7cc1a8ce-457e-4d75-8524-75f4612d84ad",
   "metadata": {
    "colab": {
     "base_uri": "https://localhost:8080/"
    },
    "id": "7cc1a8ce-457e-4d75-8524-75f4612d84ad",
    "outputId": "f8c60b23-8ba0-4daf-cb19-0f4d73f300e0"
   },
   "outputs": [
    {
     "name": "stderr",
     "output_type": "stream",
     "text": [
      "100%|██████████| 85/85 [02:46<00:00,  1.96s/it]\n",
      "100%|██████████| 5/5 [00:09<00:00,  1.93s/it]\n",
      "100%|██████████| 10/10 [00:19<00:00,  1.92s/it]\n"
     ]
    }
   ],
   "source": [
    "def encode_features(model, dataset):\n",
    "  all_features = []\n",
    "  all_labels = []\n",
    "\n",
    "  with torch.no_grad():\n",
    "    for images, texts, labels, path, caption in tqdm(DataLoader(dataset, batch_size=100)):\n",
    "      image_input = torch.tensor(np.stack(images)).to(device)\n",
    "      text_tokens = clip.tokenize([desc[:77] for desc in texts]).to(device)\n",
    "      caption_tokens = clip.tokenize(desc for desc in caption).to(device)\n",
    "\n",
    "      image_features = model.encode_image(image_input).type(torch.float).to(device)\n",
    "      text_features = model.encode_text(text_tokens).type(torch.float).to(device)\n",
    "      caption_features = model.encode_text(caption_tokens).type(torch.float).to(device)\n",
    "\n",
    "      features = torch.cat([image_features, text_features, caption_features], dim=1)\n",
    "      all_features.extend(features)\n",
    "      all_labels.extend(labels)\n",
    "\n",
    "  return all_features, all_labels\n",
    "\n",
    "\n",
    "# Use CLIP to encode each modality to get image, text and caption features\n",
    "features_train, labels_train = encode_features(CLIP_model, train_dataset)\n",
    "features_dev, labels_dev = encode_features(CLIP_model, dev_dataset)\n",
    "features_test, labels_test = encode_features(CLIP_model, test_dataset)"
   ]
  },
  {
   "cell_type": "code",
   "execution_count": 11,
   "id": "399d9c37-8491-4788-aadc-256b32910391",
   "metadata": {
    "id": "399d9c37-8491-4788-aadc-256b32910391"
   },
   "outputs": [],
   "source": [
    "class DefineDataset(torch.utils.data.Dataset):\n",
    "  def __init__(self, features, labels):\n",
    "    self.features = features\n",
    "    self.labels = labels\n",
    "\n",
    "  def __getitem__(self, index: int):\n",
    "    return self.features[index], self.labels[index]\n",
    "\n",
    "  def __len__(self):\n",
    "    return len(self.features)\n",
    "\n",
    "\n",
    "# Define train/dev/test set using image/text/caption features and gold labels\n",
    "train_set = DefineDataset(features_train, labels_train)\n",
    "dev_set = DefineDataset(features_dev, labels_dev)\n",
    "test_set = DefineDataset(features_test, labels_test)"
   ]
  },
  {
   "cell_type": "markdown",
   "id": "5e07bb92-4639-433e-a984-84170c85b9b8",
   "metadata": {
    "id": "5e07bb92-4639-433e-a984-84170c85b9b8"
   },
   "source": [
    "## 4. Construct a neural network for classification"
   ]
  },
  {
   "cell_type": "code",
   "execution_count": 12,
   "id": "f4668dcc-54b2-4036-861b-2fe3849841fb",
   "metadata": {
    "id": "f4668dcc-54b2-4036-861b-2fe3849841fb"
   },
   "outputs": [],
   "source": [
    "torch.manual_seed(515)\n",
    "input_shape = features_train[0].shape[0]\n",
    "num_classes = 2\n",
    "shape = 256\n",
    "\n",
    "nn_model = nn.Sequential(\n",
    "    nn.Linear(input_shape, shape),\n",
    "    nn.Dropout(0.66),\n",
    "    nn.BatchNorm1d(shape),\n",
    "    nn.ReLU(inplace=True),\n",
    "\n",
    "    nn.Linear(shape, shape),\n",
    "    nn.Dropout(0.66),\n",
    "    nn.BatchNorm1d(shape),\n",
    "    nn.ReLU(inplace=True),\n",
    "\n",
    "    nn.Linear(shape, num_classes),)\n",
    "\n",
    "nn_model = nn_model.to(device)\n",
    "loss = nn.CrossEntropyLoss()\n",
    "optimizer = torch.optim.Adam(nn_model.parameters(), lr=1e-2)\n",
    "scheduler = torch.optim.lr_scheduler.StepLR(optimizer, step_size=10, gamma=0.8)"
   ]
  },
  {
   "cell_type": "markdown",
   "id": "325c07d5-2902-46ed-b60d-36ca93543c34",
   "metadata": {
    "id": "325c07d5-2902-46ed-b60d-36ca93543c34"
   },
   "source": [
    "## 5. Train and validate the classification model and save the best model after 100 epochs of training"
   ]
  },
  {
   "cell_type": "code",
   "execution_count": 13,
   "id": "b7700aaa-c37c-4b18-a30b-8e1df1653d51",
   "metadata": {
    "id": "b7700aaa-c37c-4b18-a30b-8e1df1653d51"
   },
   "outputs": [],
   "source": [
    "def get_lr(optimizer):\n",
    "  for param_group in optimizer.param_groups:\n",
    "    return param_group['lr']  # Retrieve the learning rate value from optimizer\n",
    "\n",
    "def compute_auroc(model, loader):\n",
    "  \"\"\"\n",
    "  Compute AUROC on the dataset wrapped in a loader\n",
    "  Return: AUROC score as a float value between 0 and 1\n",
    "  \"\"\"\n",
    "  model.eval()\n",
    "  real_labels = []\n",
    "  probabilities = []\n",
    "\n",
    "  for i_step, (x, y) in enumerate(loader):\n",
    "    x = x.to(device)\n",
    "    y = y.to(device)\n",
    "    prediction = model(x)\n",
    "    # select probabilities corresponding to the positive class\n",
    "    prediction = prediction[:, 1]  # positive class in the second column\n",
    "    probabilities.extend(prediction.detach().cpu().numpy())\n",
    "    real_labels.extend(y.detach().cpu().numpy())\n",
    "\n",
    "  auroc = roc_auc_score(real_labels, probabilities)*100\n",
    "  return auroc"
   ]
  },
  {
   "cell_type": "code",
   "execution_count": 14,
   "id": "9e602c43-d58b-490a-b7d4-0e8c1190d93b",
   "metadata": {
    "colab": {
     "base_uri": "https://localhost:8080/"
    },
    "id": "9e602c43-d58b-490a-b7d4-0e8c1190d93b",
    "outputId": "a7825e61-68ff-4ccf-de9e-9c5b9076e16b"
   },
   "outputs": [
    {
     "name": "stdout",
     "output_type": "stream",
     "text": [
      "Epoch: 0 lr: 0.010000; Average loss: 0.611462, Val AUROC: 72.524043\n",
      "saved Best_model_72.52.ckpt\n",
      "Epoch: 1 lr: 0.010000; Average loss: 0.499649, Val AUROC: 74.943592\n",
      "saved Best_model_74.94.ckpt\n",
      "Epoch: 2 lr: 0.010000; Average loss: 0.432532, Val AUROC: 76.124562\n",
      "saved Best_model_76.12.ckpt\n",
      "Epoch: 3 lr: 0.010000; Average loss: 0.406803, Val AUROC: 76.975885\n",
      "saved Best_model_76.98.ckpt\n",
      "Epoch: 4 lr: 0.010000; Average loss: 0.382599, Val AUROC: 77.067098\n",
      "saved Best_model_77.07.ckpt\n",
      "Epoch: 5 lr: 0.010000; Average loss: 0.359972, Val AUROC: 78.457698\n",
      "saved Best_model_78.46.ckpt\n",
      "Epoch: 6 lr: 0.010000; Average loss: 0.343128, Val AUROC: 78.342481\n",
      "Epoch: 7 lr: 0.010000; Average loss: 0.321403, Val AUROC: 77.841609\n",
      "Epoch: 8 lr: 0.010000; Average loss: 0.299720, Val AUROC: 77.998432\n",
      "Epoch: 9 lr: 0.010000; Average loss: 0.285484, Val AUROC: 79.076987\n",
      "saved Best_model_79.08.ckpt\n",
      "Epoch: 10 lr: 0.008000; Average loss: 0.260461, Val AUROC: 79.174601\n",
      "saved Best_model_79.17.ckpt\n",
      "Epoch: 11 lr: 0.008000; Average loss: 0.237037, Val AUROC: 79.392232\n",
      "saved Best_model_79.39.ckpt\n",
      "Epoch: 12 lr: 0.008000; Average loss: 0.232601, Val AUROC: 80.021123\n",
      "saved Best_model_80.02.ckpt\n",
      "Epoch: 13 lr: 0.008000; Average loss: 0.211932, Val AUROC: 79.477045\n",
      "Epoch: 14 lr: 0.008000; Average loss: 0.200358, Val AUROC: 80.005121\n",
      "Epoch: 15 lr: 0.008000; Average loss: 0.182471, Val AUROC: 79.616265\n",
      "Epoch: 16 lr: 0.008000; Average loss: 0.172743, Val AUROC: 79.291418\n",
      "Epoch: 17 lr: 0.008000; Average loss: 0.163919, Val AUROC: 80.305964\n",
      "saved Best_model_80.31.ckpt\n",
      "Epoch: 18 lr: 0.008000; Average loss: 0.162036, Val AUROC: 79.408235\n",
      "Epoch: 19 lr: 0.008000; Average loss: 0.147944, Val AUROC: 79.901106\n",
      "Epoch: 20 lr: 0.006400; Average loss: 0.138256, Val AUROC: 79.729881\n",
      "Epoch: 21 lr: 0.006400; Average loss: 0.125247, Val AUROC: 79.619465\n",
      "Epoch: 22 lr: 0.006400; Average loss: 0.106152, Val AUROC: 80.235554\n",
      "Epoch: 23 lr: 0.006400; Average loss: 0.106283, Val AUROC: 80.658015\n",
      "saved Best_model_80.66.ckpt\n",
      "Epoch: 24 lr: 0.006400; Average loss: 0.110373, Val AUROC: 80.419580\n",
      "Epoch: 25 lr: 0.006400; Average loss: 0.106138, Val AUROC: 81.040470\n",
      "saved Best_model_81.04.ckpt\n",
      "Epoch: 26 lr: 0.006400; Average loss: 0.101911, Val AUROC: 80.392377\n",
      "Epoch: 27 lr: 0.006400; Average loss: 0.108003, Val AUROC: 81.650158\n",
      "saved Best_model_81.65.ckpt\n",
      "Epoch: 28 lr: 0.006400; Average loss: 0.098444, Val AUROC: 80.566802\n",
      "Epoch: 29 lr: 0.006400; Average loss: 0.090295, Val AUROC: 80.494791\n",
      "Epoch: 30 lr: 0.005120; Average loss: 0.076675, Val AUROC: 80.469188\n",
      "Epoch: 31 lr: 0.005120; Average loss: 0.071862, Val AUROC: 80.270759\n",
      "Epoch: 32 lr: 0.005120; Average loss: 0.073999, Val AUROC: 79.337825\n",
      "Epoch: 33 lr: 0.005120; Average loss: 0.066636, Val AUROC: 80.177946\n",
      "Epoch: 34 lr: 0.005120; Average loss: 0.064331, Val AUROC: 79.645069\n",
      "Epoch: 35 lr: 0.005120; Average loss: 0.063234, Val AUROC: 80.197148\n",
      "Epoch: 36 lr: 0.005120; Average loss: 0.059963, Val AUROC: 80.115537\n",
      "Epoch: 37 lr: 0.005120; Average loss: 0.060787, Val AUROC: 79.913908\n",
      "Epoch: 38 lr: 0.005120; Average loss: 0.061260, Val AUROC: 80.198749\n",
      "Epoch: 39 lr: 0.005120; Average loss: 0.049532, Val AUROC: 80.179546\n",
      "Epoch: 40 lr: 0.004096; Average loss: 0.049157, Val AUROC: 80.029124\n",
      "Epoch: 41 lr: 0.004096; Average loss: 0.050667, Val AUROC: 80.229153\n",
      "Epoch: 42 lr: 0.004096; Average loss: 0.048850, Val AUROC: 80.385976\n",
      "Epoch: 43 lr: 0.004096; Average loss: 0.052917, Val AUROC: 80.651614\n",
      "Epoch: 44 lr: 0.004096; Average loss: 0.046043, Val AUROC: 80.072330\n",
      "Epoch: 45 lr: 0.004096; Average loss: 0.043146, Val AUROC: 80.091533\n",
      "Epoch: 46 lr: 0.004096; Average loss: 0.042721, Val AUROC: 80.085132\n",
      "Epoch: 47 lr: 0.004096; Average loss: 0.044160, Val AUROC: 79.891504\n",
      "Epoch: 48 lr: 0.004096; Average loss: 0.040759, Val AUROC: 80.120337\n",
      "Epoch: 49 lr: 0.004096; Average loss: 0.037339, Val AUROC: 80.654814\n",
      "Epoch: 50 lr: 0.003277; Average loss: 0.036709, Val AUROC: 80.618009\n",
      "Epoch: 51 lr: 0.003277; Average loss: 0.035026, Val AUROC: 80.430782\n",
      "Epoch: 52 lr: 0.003277; Average loss: 0.030831, Val AUROC: 80.560401\n",
      "Epoch: 53 lr: 0.003277; Average loss: 0.029886, Val AUROC: 80.275560\n",
      "Epoch: 54 lr: 0.003277; Average loss: 0.028224, Val AUROC: 80.379575\n",
      "Epoch: 55 lr: 0.003277; Average loss: 0.024167, Val AUROC: 79.739482\n",
      "Epoch: 56 lr: 0.003277; Average loss: 0.026118, Val AUROC: 80.427582\n",
      "Epoch: 57 lr: 0.003277; Average loss: 0.028294, Val AUROC: 79.886704\n",
      "Epoch: 58 lr: 0.003277; Average loss: 0.027006, Val AUROC: 80.065929\n",
      "Epoch: 59 lr: 0.003277; Average loss: 0.025125, Val AUROC: 80.520395\n",
      "Epoch: 60 lr: 0.002621; Average loss: 0.023826, Val AUROC: 80.682018\n",
      "Epoch: 61 lr: 0.002621; Average loss: 0.034235, Val AUROC: 80.173145\n",
      "Epoch: 62 lr: 0.002621; Average loss: 0.025821, Val AUROC: 80.022723\n",
      "Epoch: 63 lr: 0.002621; Average loss: 0.024032, Val AUROC: 80.387576\n",
      "Epoch: 64 lr: 0.002621; Average loss: 0.020896, Val AUROC: 80.581204\n",
      "Epoch: 65 lr: 0.002621; Average loss: 0.020423, Val AUROC: 80.534797\n",
      "Epoch: 66 lr: 0.002621; Average loss: 0.021666, Val AUROC: 80.043526\n",
      "Epoch: 67 lr: 0.002621; Average loss: 0.023063, Val AUROC: 79.824295\n",
      "Epoch: 68 lr: 0.002621; Average loss: 0.022907, Val AUROC: 80.224352\n",
      "Epoch: 69 lr: 0.002621; Average loss: 0.024244, Val AUROC: 80.406779\n",
      "Epoch: 70 lr: 0.002097; Average loss: 0.021929, Val AUROC: 80.542798\n",
      "Epoch: 71 lr: 0.002097; Average loss: 0.021500, Val AUROC: 80.467587\n",
      "Epoch: 72 lr: 0.002097; Average loss: 0.015268, Val AUROC: 80.257957\n",
      "Epoch: 73 lr: 0.002097; Average loss: 0.017330, Val AUROC: 80.717223\n",
      "Epoch: 74 lr: 0.002097; Average loss: 0.018616, Val AUROC: 80.485190\n",
      "Epoch: 75 lr: 0.002097; Average loss: 0.015352, Val AUROC: 80.312365\n",
      "Epoch: 76 lr: 0.002097; Average loss: 0.016518, Val AUROC: 80.381175\n",
      "Epoch: 77 lr: 0.002097; Average loss: 0.015537, Val AUROC: 80.350771\n",
      "Epoch: 78 lr: 0.002097; Average loss: 0.017548, Val AUROC: 80.091533\n",
      "Epoch: 79 lr: 0.002097; Average loss: 0.013813, Val AUROC: 79.835496\n",
      "Epoch: 80 lr: 0.001678; Average loss: 0.016583, Val AUROC: 80.118737\n",
      "Epoch: 81 lr: 0.001678; Average loss: 0.012417, Val AUROC: 80.125138\n",
      "Epoch: 82 lr: 0.001678; Average loss: 0.014994, Val AUROC: 80.248356\n",
      "Epoch: 83 lr: 0.001678; Average loss: 0.014568, Val AUROC: 80.283561\n",
      "Epoch: 84 lr: 0.001678; Average loss: 0.013457, Val AUROC: 80.056328\n",
      "Epoch: 85 lr: 0.001678; Average loss: 0.016260, Val AUROC: 80.163544\n",
      "Epoch: 86 lr: 0.001678; Average loss: 0.013016, Val AUROC: 80.022723\n",
      "Epoch: 87 lr: 0.001678; Average loss: 0.014010, Val AUROC: 79.888304\n",
      "Epoch: 88 lr: 0.001678; Average loss: 0.011103, Val AUROC: 79.961915\n",
      "Epoch: 89 lr: 0.001678; Average loss: 0.011532, Val AUROC: 79.926709\n",
      "Epoch: 90 lr: 0.001342; Average loss: 0.010419, Val AUROC: 80.040326\n",
      "Epoch: 91 lr: 0.001342; Average loss: 0.014746, Val AUROC: 80.112336\n",
      "Epoch: 92 lr: 0.001342; Average loss: 0.012694, Val AUROC: 80.043526\n",
      "Epoch: 93 lr: 0.001342; Average loss: 0.012834, Val AUROC: 80.000320\n",
      "Epoch: 94 lr: 0.001342; Average loss: 0.013224, Val AUROC: 80.105935\n",
      "Epoch: 95 lr: 0.001342; Average loss: 0.010953, Val AUROC: 80.152342\n",
      "Epoch: 96 lr: 0.001342; Average loss: 0.010471, Val AUROC: 79.984318\n",
      "Epoch: 97 lr: 0.001342; Average loss: 0.010095, Val AUROC: 80.025924\n",
      "Epoch: 98 lr: 0.001342; Average loss: 0.010968, Val AUROC: 80.045126\n",
      "Epoch: 99 lr: 0.001342; Average loss: 0.010096, Val AUROC: 80.045126\n"
     ]
    }
   ],
   "source": [
    "train_loader = DataLoader(train_set, batch_size=500)\n",
    "val_loader = DataLoader(dev_set, batch_size=500)\n",
    "top_val_AUROC = 70\n",
    "\n",
    "for epoch in range(100):\n",
    "  nn_model.train()\n",
    "  loss_accum = 0\n",
    "  for i_step, (x, y) in enumerate(train_loader):\n",
    "    x = x.to(device)\n",
    "    y = y.to(device)\n",
    "    prediction = nn_model(x)\n",
    "    loss_value = loss(prediction, y.type(torch.long))\n",
    "    optimizer.zero_grad()\n",
    "    loss_value.backward()\n",
    "    optimizer.step()\n",
    "    loss_accum += loss_value\n",
    "\n",
    "  ave_loss = loss_accum / (i_step + 1)\n",
    "  val_AUROC = compute_auroc(nn_model, val_loader)\n",
    "  print(\"Epoch: %i lr: %f; Average loss: %f, Val AUROC: %f\" % (epoch, get_lr(optimizer), ave_loss, val_AUROC))\n",
    "\n",
    "  if scheduler != None:\n",
    "    scheduler.step()\n",
    "\n",
    "  if val_AUROC > top_val_AUROC:\n",
    "    top_val_AUROC = val_AUROC\n",
    "    best_model_name = f'Best_model_{round(val_AUROC, 2)}.ckpt'\n",
    "    torch.save(nn_model, open(best_model_name, 'wb'))\n",
    "    print(\"saved\", best_model_name)"
   ]
  },
  {
   "cell_type": "markdown",
   "id": "bdaa3cd1-3201-48fa-b00a-084d5807557a",
   "metadata": {
    "id": "bdaa3cd1-3201-48fa-b00a-084d5807557a"
   },
   "source": [
    "## 6. test the best model"
   ]
  },
  {
   "cell_type": "code",
   "execution_count": 15,
   "id": "GtDtcz4VyhOS",
   "metadata": {
    "colab": {
     "base_uri": "https://localhost:8080/"
    },
    "id": "GtDtcz4VyhOS",
    "outputId": "95ca6a49-2848-4916-d6df-d691158b97ee"
   },
   "outputs": [
    {
     "name": "stdout",
     "output_type": "stream",
     "text": [
      "Sequential(\n",
      "  (0): Linear(in_features=2304, out_features=256, bias=True)\n",
      "  (1): Dropout(p=0.66, inplace=False)\n",
      "  (2): BatchNorm1d(256, eps=1e-05, momentum=0.1, affine=True, track_running_stats=True)\n",
      "  (3): ReLU(inplace=True)\n",
      "  (4): Linear(in_features=256, out_features=256, bias=True)\n",
      "  (5): Dropout(p=0.66, inplace=False)\n",
      "  (6): BatchNorm1d(256, eps=1e-05, momentum=0.1, affine=True, track_running_stats=True)\n",
      "  (7): ReLU(inplace=True)\n",
      "  (8): Linear(in_features=256, out_features=2, bias=True)\n",
      ")\n"
     ]
    }
   ],
   "source": [
    "best_model = torch.load(open(best_model_name, 'rb'))\n",
    "print(best_model)"
   ]
  },
  {
   "cell_type": "code",
   "execution_count": 16,
   "id": "802772c4-772d-4df6-8b15-c7c6e6e348c9",
   "metadata": {
    "colab": {
     "base_uri": "https://localhost:8080/"
    },
    "id": "802772c4-772d-4df6-8b15-c7c6e6e348c9",
    "outputId": "87b2cb27-4c91-4465-e30d-6eacd30758c9"
   },
   "outputs": [
    {
     "name": "stdout",
     "output_type": "stream",
     "text": [
      "AUROC: 82.14\n"
     ]
    }
   ],
   "source": [
    "best_model = best_model.to(device)\n",
    "best_model.eval()\n",
    "\n",
    "test_loader = DataLoader(test_set, batch_size=500)\n",
    "real_labels = []\n",
    "predictions = []\n",
    "\n",
    "for i_step, (x, y) in enumerate(test_loader):\n",
    "  x = x.to(device)\n",
    "  y = y.to(device)\n",
    "  prediction = best_model(x)\n",
    "  # select probabilities corresponding to the positive class\n",
    "  prediction = prediction[:, 1]  # positive class in the second column\n",
    "  predictions.extend(prediction.detach().cpu().numpy())\n",
    "  real_labels.extend(y.detach().cpu().numpy())\n",
    "\n",
    "auroc_score = roc_auc_score(real_labels, predictions)*100\n",
    "print('AUROC:', round(auroc_score, 2))"
   ]
  }
 ],
 "metadata": {
  "accelerator": "GPU",
  "colab": {
   "gpuType": "A100",
   "machine_shape": "hm",
   "provenance": []
  },
  "kernelspec": {
   "display_name": "Python 3 (ipykernel)",
   "language": "python",
   "name": "python3"
  },
  "language_info": {
   "codemirror_mode": {
    "name": "ipython",
    "version": 3
   },
   "file_extension": ".py",
   "mimetype": "text/x-python",
   "name": "python",
   "nbconvert_exporter": "python",
   "pygments_lexer": "ipython3",
   "version": "3.9.12"
  }
 },
 "nbformat": 4,
 "nbformat_minor": 5
}
