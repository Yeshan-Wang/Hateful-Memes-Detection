{
  "cells": [
    {
      "cell_type": "code",
      "execution_count": 1,
      "id": "3a728816-8439-4744-b0ef-f71834902406",
      "metadata": {
        "colab": {
          "base_uri": "https://localhost:8080/"
        },
        "id": "3a728816-8439-4744-b0ef-f71834902406",
        "outputId": "e3038896-78ec-4026-8e58-b8724d3249a1"
      },
      "outputs": [
        {
          "output_type": "stream",
          "name": "stdout",
          "text": [
            "Mon Jul 10 14:33:43 2023       \n",
            "+-----------------------------------------------------------------------------+\n",
            "| NVIDIA-SMI 525.85.12    Driver Version: 525.85.12    CUDA Version: 12.0     |\n",
            "|-------------------------------+----------------------+----------------------+\n",
            "| GPU  Name        Persistence-M| Bus-Id        Disp.A | Volatile Uncorr. ECC |\n",
            "| Fan  Temp  Perf  Pwr:Usage/Cap|         Memory-Usage | GPU-Util  Compute M. |\n",
            "|                               |                      |               MIG M. |\n",
            "|===============================+======================+======================|\n",
            "|   0  NVIDIA A100-SXM...  Off  | 00000000:00:04.0 Off |                    0 |\n",
            "| N/A   45C    P0    50W / 400W |      0MiB / 40960MiB |      0%      Default |\n",
            "|                               |                      |             Disabled |\n",
            "+-------------------------------+----------------------+----------------------+\n",
            "                                                                               \n",
            "+-----------------------------------------------------------------------------+\n",
            "| Processes:                                                                  |\n",
            "|  GPU   GI   CI        PID   Type   Process name                  GPU Memory |\n",
            "|        ID   ID                                                   Usage      |\n",
            "|=============================================================================|\n",
            "|  No running processes found                                                 |\n",
            "+-----------------------------------------------------------------------------+\n"
          ]
        }
      ],
      "source": [
        "!nvidia-smi"
      ]
    },
    {
      "cell_type": "code",
      "execution_count": 2,
      "id": "ff84dfc3-14b3-4e9c-a84e-45d220bc57d6",
      "metadata": {
        "colab": {
          "base_uri": "https://localhost:8080/"
        },
        "id": "ff84dfc3-14b3-4e9c-a84e-45d220bc57d6",
        "outputId": "446d9b41-a2ad-4c23-8ad9-ddc5760a7a0e"
      },
      "outputs": [
        {
          "output_type": "stream",
          "name": "stdout",
          "text": [
            "Mounted at /content/drive\n"
          ]
        }
      ],
      "source": [
        "from google.colab import drive\n",
        "drive.mount('/content/drive')\n",
        "\n",
        "! unzip -q '/content/drive/MyDrive/hateful_memes.zip' -d '/content/data'"
      ]
    },
    {
      "cell_type": "code",
      "execution_count": 3,
      "id": "fcd350b4-79f8-4b8b-8d27-e58893fca8f5",
      "metadata": {
        "id": "fcd350b4-79f8-4b8b-8d27-e58893fca8f5",
        "colab": {
          "base_uri": "https://localhost:8080/"
        },
        "outputId": "2e244917-5ee1-4d06-d66a-e0944c9cd544"
      },
      "outputs": [
        {
          "output_type": "stream",
          "name": "stdout",
          "text": [
            "\u001b[?25l     \u001b[90m━━━━━━━━━━━━━━━━━━━━━━━━━━━━━━━━━━━━━━━━\u001b[0m \u001b[32m0.0/53.1 kB\u001b[0m \u001b[31m?\u001b[0m eta \u001b[36m-:--:--\u001b[0m\r\u001b[2K     \u001b[90m━━━━━━━━━━━━━━━━━━━━━━━━━━━━━━━━━━━━━━━━\u001b[0m \u001b[32m53.1/53.1 kB\u001b[0m \u001b[31m4.3 MB/s\u001b[0m eta \u001b[36m0:00:00\u001b[0m\n",
            "\u001b[?25h  Preparing metadata (setup.py) ... \u001b[?25l\u001b[?25hdone\n",
            "  Building wheel for clip (setup.py) ... \u001b[?25l\u001b[?25hdone\n"
          ]
        }
      ],
      "source": [
        "! pip install --quiet ftfy regex tqdm\n",
        "! pip install --quiet git+https://github.com/openai/CLIP.git"
      ]
    },
    {
      "cell_type": "code",
      "execution_count": 4,
      "id": "f7588592-aa07-4e30-814b-adf3f7094b4b",
      "metadata": {
        "id": "f7588592-aa07-4e30-814b-adf3f7094b4b"
      },
      "outputs": [],
      "source": [
        "import os\n",
        "import csv\n",
        "import json\n",
        "import pandas as pd\n",
        "import numpy as np\n",
        "import matplotlib.image as img\n",
        "\n",
        "import torch\n",
        "import torch.nn as nn\n",
        "from torch.utils.data import DataLoader\n",
        "\n",
        "import torchvision\n",
        "from torchvision import transforms as T\n",
        "import torchvision.transforms.functional as F\n",
        "\n",
        "import cv2\n",
        "import clip\n",
        "from tqdm import tqdm\n",
        "from PIL import Image\n",
        "from sklearn.metrics import roc_auc_score"
      ]
    },
    {
      "cell_type": "markdown",
      "source": [
        "## 1. Integrate image captioning features as another column to the dataset"
      ],
      "metadata": {
        "id": "ASvOKpKoKlHi"
      },
      "id": "ASvOKpKoKlHi"
    },
    {
      "cell_type": "code",
      "source": [
        "# Read the caption information and store them in a dictionary using img path as key\n",
        "caption = {}\n",
        "with open('/content/drive/MyDrive/BLIP_caption.csv', 'r') as csvfile:\n",
        "  csvreader = csv.reader(csvfile)\n",
        "  for row in csvreader:\n",
        "    caption['img/'+row[0]] = row[1]\n",
        "\n",
        "file_path = ['/content/data/hateful_memes/train.jsonl',\n",
        "             '/content/data/hateful_memes/dev_seen.jsonl',\n",
        "             '/content/data/hateful_memes/test_seen.jsonl']\n",
        "\n",
        "for path in file_path:\n",
        "  # Add caption information as another column to the dataset\n",
        "  data = []\n",
        "  with open(path, 'r') as jsonfile:\n",
        "    for line in jsonfile:\n",
        "      data.append(json.loads(line))\n",
        "\n",
        "  combined_data = []\n",
        "  for item in data:\n",
        "    img = item['img']\n",
        "    combined_data.append({'id': item['id'], 'img': img, 'label': item['label'], 'text': item['text'], 'caption': caption[img]})\n",
        "\n",
        "  os.remove(path)\n",
        "  with open(path, 'w') as file:\n",
        "    for i in combined_data:\n",
        "      file.write(json.dumps(i) + '\\n')"
      ],
      "metadata": {
        "id": "w4qCI6QOLb8k"
      },
      "id": "w4qCI6QOLb8k",
      "execution_count": 5,
      "outputs": []
    },
    {
      "cell_type": "markdown",
      "id": "7a8c9bb2-0949-422c-9d30-7069ad357881",
      "metadata": {
        "id": "7a8c9bb2-0949-422c-9d30-7069ad357881"
      },
      "source": [
        "## 2. Load dataset"
      ]
    },
    {
      "cell_type": "code",
      "source": [
        "class ScaleMaxSideToSize(object):\n",
        "  def __init__(self, size):\n",
        "    self.size = size\n",
        "\n",
        "  def __call__(self, sample):\n",
        "    sample = cv2.resize(sample, (self.size, self.size), interpolation=cv2.INTER_AREA)\n",
        "\n",
        "    return sample\n",
        "\n",
        "\n",
        "class CropCenter(object):\n",
        "  def __init__(self, size):\n",
        "    self.size = size\n",
        "\n",
        "  def __call__(self, sample):\n",
        "    img = sample\n",
        "    h, w, _ = img.shape\n",
        "    margin_h = (h - self.size) // 2\n",
        "    margin_w = (w - self.size) // 2\n",
        "    sample = img[margin_h:margin_h + self.size, margin_w:margin_w + self.size]\n",
        "\n",
        "    return sample"
      ],
      "metadata": {
        "id": "CcaiFYZFpTj9"
      },
      "id": "CcaiFYZFpTj9",
      "execution_count": 6,
      "outputs": []
    },
    {
      "cell_type": "code",
      "execution_count": 7,
      "id": "c106a57e-b40b-4769-8b23-3c55d76092c3",
      "metadata": {
        "id": "c106a57e-b40b-4769-8b23-3c55d76092c3"
      },
      "outputs": [],
      "source": [
        "class Load_Dataset(torch.utils.data.Dataset):\n",
        "  def __init__(self, data_path, transforms):\n",
        "    self.data = [json.loads(l) for l in open(data_path)]\n",
        "    self.data_dir = os.path.dirname(data_path)\n",
        "    self.transforms = transforms\n",
        "\n",
        "  def __getitem__(self, index: int):\n",
        "    path = os.path.join(self.data_dir, self.data[index][\"img\"])\n",
        "    image = cv2.imread(path)\n",
        "    image = cv2.cvtColor(image, cv2.COLOR_BGR2RGB)\n",
        "\n",
        "    text = self.data[index][\"text\"]\n",
        "    label = self.data[index][\"label\"]\n",
        "    caption = self.data[index][\"caption\"]\n",
        "\n",
        "    if self.transforms is not None:\n",
        "        image = self.transforms(image)\n",
        "\n",
        "    return image, text, label, caption\n",
        "\n",
        "  def __len__(self):\n",
        "    return len(self.data)"
      ]
    },
    {
      "cell_type": "code",
      "execution_count": 8,
      "id": "dd0066bd-8704-4da6-a3b7-20b93ce65864",
      "metadata": {
        "id": "dd0066bd-8704-4da6-a3b7-20b93ce65864"
      },
      "outputs": [],
      "source": [
        "CROP_SIZE = 224\n",
        "MEAN = torch.tensor([0.485, 0.456, 0.406])\n",
        "STD = torch.tensor([0.229, 0.224, 0.225])\n",
        "\n",
        "transforms = T.Compose([\n",
        "    ScaleMaxSideToSize(CROP_SIZE),\n",
        "    CropCenter(CROP_SIZE),\n",
        "    T.ToTensor(),\n",
        "    T.Normalize(mean=MEAN, std=STD)])\n",
        "\n",
        "\n",
        "train_path = '/content/data/hateful_memes/train.jsonl'\n",
        "train_dataset = Load_Dataset(train_path, transforms)\n",
        "\n",
        "dev_path = '/content/data/hateful_memes/dev_seen.jsonl'\n",
        "dev_dataset = Load_Dataset(dev_path, transforms)\n",
        "\n",
        "test_path = '/content/data/hateful_memes/test_seen.jsonl'\n",
        "test_dataset = Load_Dataset(test_path, transforms)"
      ]
    },
    {
      "cell_type": "markdown",
      "id": "ce4b17f6-8ed7-4d2f-bcef-264d36e4acbf",
      "metadata": {
        "id": "ce4b17f6-8ed7-4d2f-bcef-264d36e4acbf"
      },
      "source": [
        "## 3. Use CLIP to encode each modality to get image, text and caption features"
      ]
    },
    {
      "cell_type": "code",
      "execution_count": 9,
      "id": "1af2651d-6f91-4eaf-8e67-5c0b55818a49",
      "metadata": {
        "id": "1af2651d-6f91-4eaf-8e67-5c0b55818a49",
        "colab": {
          "base_uri": "https://localhost:8080/"
        },
        "outputId": "d757618f-3d7f-4087-b1d9-620f6ebadc7e"
      },
      "outputs": [
        {
          "output_type": "stream",
          "name": "stderr",
          "text": [
            "100%|███████████████████████████████████████| 890M/890M [00:15<00:00, 59.1MiB/s]\n"
          ]
        }
      ],
      "source": [
        "device = \"cuda\" if torch.cuda.is_available() else \"cpu\"\n",
        "CLIP_model, preprocess = clip.load('ViT-L/14', device=device)"
      ]
    },
    {
      "cell_type": "code",
      "execution_count": 10,
      "id": "7cc1a8ce-457e-4d75-8524-75f4612d84ad",
      "metadata": {
        "id": "7cc1a8ce-457e-4d75-8524-75f4612d84ad",
        "colab": {
          "base_uri": "https://localhost:8080/"
        },
        "outputId": "3355e174-cfe8-4cc4-ce58-0ac6a3f41077"
      },
      "outputs": [
        {
          "output_type": "stream",
          "name": "stderr",
          "text": [
            "100%|██████████| 85/85 [02:23<00:00,  1.69s/it]\n",
            "100%|██████████| 5/5 [00:08<00:00,  1.68s/it]\n",
            "100%|██████████| 10/10 [00:16<00:00,  1.63s/it]\n"
          ]
        }
      ],
      "source": [
        "def encode_features(model, dataset):\n",
        "  all_features = []\n",
        "  all_labels = []\n",
        "\n",
        "  with torch.no_grad():\n",
        "    for images, texts, labels, caption in tqdm(DataLoader(dataset, batch_size=100)):\n",
        "      image_input = torch.tensor(np.stack(images)).to(device)\n",
        "      text_tokens = clip.tokenize([desc[:77] for desc in texts]).to(device)\n",
        "      caption_tokens = clip.tokenize(desc for desc in caption).to(device)\n",
        "\n",
        "      image_features = model.encode_image(image_input).type(torch.float).to(device)\n",
        "      text_features = model.encode_text(text_tokens).type(torch.float).to(device)\n",
        "      caption_features = model.encode_text(caption_tokens).type(torch.float).to(device)\n",
        "\n",
        "      features = torch.cat([image_features, text_features, caption_features], dim=1)\n",
        "      all_features.extend(features)\n",
        "      all_labels.extend(labels)\n",
        "\n",
        "  return all_features, all_labels\n",
        "\n",
        "\n",
        "# Use CLIP to encode each modality to get image, text and caption features\n",
        "features_train, labels_train = encode_features(CLIP_model, train_dataset)\n",
        "features_dev, labels_dev = encode_features(CLIP_model, dev_dataset)\n",
        "features_test, labels_test = encode_features(CLIP_model, test_dataset)"
      ]
    },
    {
      "cell_type": "code",
      "execution_count": 11,
      "id": "399d9c37-8491-4788-aadc-256b32910391",
      "metadata": {
        "id": "399d9c37-8491-4788-aadc-256b32910391"
      },
      "outputs": [],
      "source": [
        "class DefineDataset(torch.utils.data.Dataset):\n",
        "  def __init__(self, features, labels):\n",
        "    self.features = features\n",
        "    self.labels = labels\n",
        "\n",
        "  def __getitem__(self, index: int):\n",
        "    return self.features[index], self.labels[index]\n",
        "\n",
        "  def __len__(self):\n",
        "    return len(self.features)\n",
        "\n",
        "\n",
        "# Define train/dev/test set using image/text/caption features and gold labels\n",
        "train_set = DefineDataset(features_train, labels_train)\n",
        "dev_set = DefineDataset(features_dev, labels_dev)\n",
        "test_set = DefineDataset(features_test, labels_test)"
      ]
    },
    {
      "cell_type": "markdown",
      "id": "5e07bb92-4639-433e-a984-84170c85b9b8",
      "metadata": {
        "id": "5e07bb92-4639-433e-a984-84170c85b9b8"
      },
      "source": [
        "## 4. Construct a neural network for classification"
      ]
    },
    {
      "cell_type": "code",
      "execution_count": 12,
      "id": "f4668dcc-54b2-4036-861b-2fe3849841fb",
      "metadata": {
        "id": "f4668dcc-54b2-4036-861b-2fe3849841fb"
      },
      "outputs": [],
      "source": [
        "torch.manual_seed(515)\n",
        "input_shape = features_train[0].shape[0]\n",
        "num_classes = 2\n",
        "shape = 256\n",
        "\n",
        "nn_model = nn.Sequential(\n",
        "    nn.Linear(input_shape, shape),\n",
        "    nn.Dropout(0.66),\n",
        "    nn.BatchNorm1d(shape),\n",
        "    nn.ReLU(inplace=True),\n",
        "\n",
        "    nn.Linear(shape, shape),\n",
        "    nn.Dropout(0.66),\n",
        "    nn.BatchNorm1d(shape),\n",
        "    nn.ReLU(inplace=True),\n",
        "\n",
        "    nn.Linear(shape, num_classes),)\n",
        "\n",
        "nn_model = nn_model.to(device)\n",
        "loss = nn.CrossEntropyLoss()\n",
        "optimizer = torch.optim.Adam(nn_model.parameters(), lr=1e-2)\n",
        "scheduler = torch.optim.lr_scheduler.StepLR(optimizer, step_size=10, gamma=0.8)"
      ]
    },
    {
      "cell_type": "markdown",
      "id": "325c07d5-2902-46ed-b60d-36ca93543c34",
      "metadata": {
        "id": "325c07d5-2902-46ed-b60d-36ca93543c34"
      },
      "source": [
        "## 5. Train and validate the classification model and save the best model after 100 epochs of training"
      ]
    },
    {
      "cell_type": "code",
      "execution_count": 13,
      "id": "b7700aaa-c37c-4b18-a30b-8e1df1653d51",
      "metadata": {
        "id": "b7700aaa-c37c-4b18-a30b-8e1df1653d51"
      },
      "outputs": [],
      "source": [
        "def get_lr(optimizer):\n",
        "  for param_group in optimizer.param_groups:\n",
        "    return param_group['lr']  # Retrieve the learning rate value from optimizer\n",
        "\n",
        "def compute_auroc(model, loader):\n",
        "  \"\"\"\n",
        "  Compute AUROC on the dataset wrapped in a loader\n",
        "  Return: AUROC score as a float value between 0 and 1\n",
        "  \"\"\"\n",
        "  model.eval()\n",
        "  real_labels = []\n",
        "  probabilities = []\n",
        "\n",
        "  for i_step, (x, y) in enumerate(loader):\n",
        "    x = x.to(device)\n",
        "    y = y.to(device)\n",
        "    prediction = model(x)\n",
        "    # select probabilities corresponding to the positive class\n",
        "    prediction = prediction[:, 1]  # positive class in the second column\n",
        "    probabilities.extend(prediction.detach().cpu().numpy())\n",
        "    real_labels.extend(y.detach().cpu().numpy())\n",
        "\n",
        "  auroc = roc_auc_score(real_labels, probabilities)*100\n",
        "  return auroc"
      ]
    },
    {
      "cell_type": "code",
      "execution_count": 14,
      "id": "9e602c43-d58b-490a-b7d4-0e8c1190d93b",
      "metadata": {
        "id": "9e602c43-d58b-490a-b7d4-0e8c1190d93b",
        "colab": {
          "base_uri": "https://localhost:8080/"
        },
        "outputId": "c2cf51d3-ec27-46eb-e3dd-5f762a983745"
      },
      "outputs": [
        {
          "output_type": "stream",
          "name": "stdout",
          "text": [
            "Epoch: 0 lr: 0.010000; Average loss: 0.609040, Val AUROC: 71.467891\n",
            "saved Best_model_71.47.ckpt\n",
            "Epoch: 1 lr: 0.010000; Average loss: 0.499459, Val AUROC: 74.055464\n",
            "saved Best_model_74.06.ckpt\n",
            "Epoch: 2 lr: 0.010000; Average loss: 0.434384, Val AUROC: 75.562881\n",
            "saved Best_model_75.56.ckpt\n",
            "Epoch: 3 lr: 0.010000; Average loss: 0.406684, Val AUROC: 76.439807\n",
            "saved Best_model_76.44.ckpt\n",
            "Epoch: 4 lr: 0.010000; Average loss: 0.379870, Val AUROC: 76.675041\n",
            "saved Best_model_76.68.ckpt\n",
            "Epoch: 5 lr: 0.010000; Average loss: 0.364467, Val AUROC: 76.929478\n",
            "saved Best_model_76.93.ckpt\n",
            "Epoch: 6 lr: 0.010000; Average loss: 0.341713, Val AUROC: 77.667184\n",
            "saved Best_model_77.67.ckpt\n",
            "Epoch: 7 lr: 0.010000; Average loss: 0.319319, Val AUROC: 78.078443\n",
            "saved Best_model_78.08.ckpt\n",
            "Epoch: 8 lr: 0.010000; Average loss: 0.293365, Val AUROC: 79.059385\n",
            "saved Best_model_79.06.ckpt\n",
            "Epoch: 9 lr: 0.010000; Average loss: 0.288667, Val AUROC: 79.132995\n",
            "saved Best_model_79.13.ckpt\n",
            "Epoch: 10 lr: 0.008000; Average loss: 0.253847, Val AUROC: 79.115393\n",
            "Epoch: 11 lr: 0.008000; Average loss: 0.244245, Val AUROC: 79.475444\n",
            "saved Best_model_79.48.ckpt\n",
            "Epoch: 12 lr: 0.008000; Average loss: 0.223687, Val AUROC: 79.131395\n",
            "Epoch: 13 lr: 0.008000; Average loss: 0.206323, Val AUROC: 79.225809\n",
            "Epoch: 14 lr: 0.008000; Average loss: 0.190647, Val AUROC: 79.784289\n",
            "saved Best_model_79.78.ckpt\n",
            "Epoch: 15 lr: 0.008000; Average loss: 0.175016, Val AUROC: 80.570002\n",
            "saved Best_model_80.57.ckpt\n",
            "Epoch: 16 lr: 0.008000; Average loss: 0.158784, Val AUROC: 80.176345\n",
            "Epoch: 17 lr: 0.008000; Average loss: 0.163436, Val AUROC: 80.781232\n",
            "saved Best_model_80.78.ckpt\n",
            "Epoch: 18 lr: 0.008000; Average loss: 0.144289, Val AUROC: 80.145941\n",
            "Epoch: 19 lr: 0.008000; Average loss: 0.140715, Val AUROC: 80.760430\n",
            "Epoch: 20 lr: 0.006400; Average loss: 0.121143, Val AUROC: 80.304364\n",
            "Epoch: 21 lr: 0.006400; Average loss: 0.112994, Val AUROC: 80.523595\n",
            "Epoch: 22 lr: 0.006400; Average loss: 0.104937, Val AUROC: 80.032325\n",
            "Epoch: 23 lr: 0.006400; Average loss: 0.104179, Val AUROC: 80.109136\n",
            "Epoch: 24 lr: 0.006400; Average loss: 0.099552, Val AUROC: 80.008321\n",
            "Epoch: 25 lr: 0.006400; Average loss: 0.097511, Val AUROC: 79.869101\n",
            "Epoch: 26 lr: 0.006400; Average loss: 0.086146, Val AUROC: 80.200349\n",
            "Epoch: 27 lr: 0.006400; Average loss: 0.089286, Val AUROC: 80.403578\n",
            "Epoch: 28 lr: 0.006400; Average loss: 0.086658, Val AUROC: 80.497992\n",
            "Epoch: 29 lr: 0.006400; Average loss: 0.079575, Val AUROC: 81.024468\n",
            "saved Best_model_81.02.ckpt\n",
            "Epoch: 30 lr: 0.005120; Average loss: 0.074866, Val AUROC: 80.906050\n",
            "Epoch: 31 lr: 0.005120; Average loss: 0.067558, Val AUROC: 80.762030\n",
            "Epoch: 32 lr: 0.005120; Average loss: 0.059115, Val AUROC: 80.986062\n",
            "Epoch: 33 lr: 0.005120; Average loss: 0.066788, Val AUROC: 80.554000\n",
            "Epoch: 34 lr: 0.005120; Average loss: 0.060595, Val AUROC: 80.845242\n",
            "Epoch: 35 lr: 0.005120; Average loss: 0.053591, Val AUROC: 80.710822\n",
            "Epoch: 36 lr: 0.005120; Average loss: 0.059933, Val AUROC: 80.939655\n",
            "Epoch: 37 lr: 0.005120; Average loss: 0.051373, Val AUROC: 81.034069\n",
            "saved Best_model_81.03.ckpt\n",
            "Epoch: 38 lr: 0.005120; Average loss: 0.054743, Val AUROC: 80.680418\n",
            "Epoch: 39 lr: 0.005120; Average loss: 0.053157, Val AUROC: 80.840441\n",
            "Epoch: 40 lr: 0.004096; Average loss: 0.046138, Val AUROC: 80.838841\n",
            "Epoch: 41 lr: 0.004096; Average loss: 0.042184, Val AUROC: 80.531597\n",
            "Epoch: 42 lr: 0.004096; Average loss: 0.042132, Val AUROC: 80.113936\n",
            "Epoch: 43 lr: 0.004096; Average loss: 0.036266, Val AUROC: 80.352371\n",
            "Epoch: 44 lr: 0.004096; Average loss: 0.038953, Val AUROC: 80.294762\n",
            "Epoch: 45 lr: 0.004096; Average loss: 0.039849, Val AUROC: 80.512394\n",
            "Epoch: 46 lr: 0.004096; Average loss: 0.038217, Val AUROC: 80.134739\n",
            "Epoch: 47 lr: 0.004096; Average loss: 0.037103, Val AUROC: 80.368373\n",
            "Epoch: 48 lr: 0.004096; Average loss: 0.033770, Val AUROC: 80.702821\n",
            "Epoch: 49 lr: 0.004096; Average loss: 0.039929, Val AUROC: 80.918852\n",
            "Epoch: 50 lr: 0.003277; Average loss: 0.035177, Val AUROC: 80.328367\n",
            "Epoch: 51 lr: 0.003277; Average loss: 0.028113, Val AUROC: 80.400378\n",
            "Epoch: 52 lr: 0.003277; Average loss: 0.023384, Val AUROC: 80.642012\n",
            "Epoch: 53 lr: 0.003277; Average loss: 0.033882, Val AUROC: 80.640412\n",
            "Epoch: 54 lr: 0.003277; Average loss: 0.027089, Val AUROC: 80.890048\n",
            "Epoch: 55 lr: 0.003277; Average loss: 0.030395, Val AUROC: 80.867645\n",
            "Epoch: 56 lr: 0.003277; Average loss: 0.023237, Val AUROC: 80.586004\n",
            "Epoch: 57 lr: 0.003277; Average loss: 0.035184, Val AUROC: 80.325167\n",
            "Epoch: 58 lr: 0.003277; Average loss: 0.025883, Val AUROC: 80.779632\n",
            "Epoch: 59 lr: 0.003277; Average loss: 0.022831, Val AUROC: 80.677218\n",
            "Epoch: 60 lr: 0.002621; Average loss: 0.023530, Val AUROC: 80.600406\n",
            "Epoch: 61 lr: 0.002621; Average loss: 0.021489, Val AUROC: 80.718824\n",
            "Epoch: 62 lr: 0.002621; Average loss: 0.022225, Val AUROC: 80.618009\n",
            "Epoch: 63 lr: 0.002621; Average loss: 0.018993, Val AUROC: 80.858044\n",
            "Epoch: 64 lr: 0.002621; Average loss: 0.021375, Val AUROC: 80.885247\n",
            "Epoch: 65 lr: 0.002621; Average loss: 0.020454, Val AUROC: 80.774832\n",
            "Epoch: 66 lr: 0.002621; Average loss: 0.020124, Val AUROC: 80.619609\n",
            "Epoch: 67 lr: 0.002621; Average loss: 0.021587, Val AUROC: 80.768431\n",
            "Epoch: 68 lr: 0.002621; Average loss: 0.021471, Val AUROC: 80.554000\n",
            "Epoch: 69 lr: 0.002621; Average loss: 0.014551, Val AUROC: 80.320366\n",
            "Epoch: 70 lr: 0.002097; Average loss: 0.017283, Val AUROC: 80.347570\n",
            "Epoch: 71 lr: 0.002097; Average loss: 0.015714, Val AUROC: 80.336368\n",
            "Epoch: 72 lr: 0.002097; Average loss: 0.017541, Val AUROC: 80.256357\n",
            "Epoch: 73 lr: 0.002097; Average loss: 0.016107, Val AUROC: 79.992319\n",
            "Epoch: 74 lr: 0.002097; Average loss: 0.016419, Val AUROC: 80.163544\n",
            "Epoch: 75 lr: 0.002097; Average loss: 0.019045, Val AUROC: 80.461186\n",
            "Epoch: 76 lr: 0.002097; Average loss: 0.013969, Val AUROC: 80.496391\n",
            "Epoch: 77 lr: 0.002097; Average loss: 0.016735, Val AUROC: 80.544398\n",
            "Epoch: 78 lr: 0.002097; Average loss: 0.012932, Val AUROC: 80.473988\n",
            "Epoch: 79 lr: 0.002097; Average loss: 0.012579, Val AUROC: 79.929910\n",
            "Epoch: 80 lr: 0.001678; Average loss: 0.014771, Val AUROC: 79.998720\n",
            "Epoch: 81 lr: 0.001678; Average loss: 0.012893, Val AUROC: 80.150742\n",
            "Epoch: 82 lr: 0.001678; Average loss: 0.014493, Val AUROC: 80.374774\n",
            "Epoch: 83 lr: 0.001678; Average loss: 0.011498, Val AUROC: 80.379575\n",
            "Epoch: 84 lr: 0.001678; Average loss: 0.011609, Val AUROC: 80.174745\n",
            "Epoch: 85 lr: 0.001678; Average loss: 0.011945, Val AUROC: 80.097934\n",
            "Epoch: 86 lr: 0.001678; Average loss: 0.009934, Val AUROC: 80.049927\n",
            "Epoch: 87 lr: 0.001678; Average loss: 0.011124, Val AUROC: 80.043526\n",
            "Epoch: 88 lr: 0.001678; Average loss: 0.013083, Val AUROC: 80.169944\n",
            "Epoch: 89 lr: 0.001678; Average loss: 0.008961, Val AUROC: 80.064329\n",
            "Epoch: 90 lr: 0.001342; Average loss: 0.011658, Val AUROC: 80.155542\n",
            "Epoch: 91 lr: 0.001342; Average loss: 0.010157, Val AUROC: 80.230753\n",
            "Epoch: 92 lr: 0.001342; Average loss: 0.007995, Val AUROC: 80.230753\n",
            "Epoch: 93 lr: 0.001342; Average loss: 0.010295, Val AUROC: 80.275560\n",
            "Epoch: 94 lr: 0.001342; Average loss: 0.009164, Val AUROC: 80.315565\n",
            "Epoch: 95 lr: 0.001342; Average loss: 0.011218, Val AUROC: 80.336368\n",
            "Epoch: 96 lr: 0.001342; Average loss: 0.009105, Val AUROC: 80.315565\n",
            "Epoch: 97 lr: 0.001342; Average loss: 0.010333, Val AUROC: 80.381175\n",
            "Epoch: 98 lr: 0.001342; Average loss: 0.008879, Val AUROC: 80.222752\n",
            "Epoch: 99 lr: 0.001342; Average loss: 0.007563, Val AUROC: 80.349170\n"
          ]
        }
      ],
      "source": [
        "train_loader = DataLoader(train_set, batch_size=500)\n",
        "val_loader = DataLoader(dev_set, batch_size=500)\n",
        "top_val_AUROC = 70\n",
        "\n",
        "for epoch in range(100):\n",
        "  nn_model.train()\n",
        "  loss_accum = 0\n",
        "  for i_step, (x, y) in enumerate(train_loader):\n",
        "    x = x.to(device)\n",
        "    y = y.to(device)\n",
        "    prediction = nn_model(x)\n",
        "    loss_value = loss(prediction, y.type(torch.long))\n",
        "    optimizer.zero_grad()\n",
        "    loss_value.backward()\n",
        "    optimizer.step()\n",
        "    loss_accum += loss_value\n",
        "\n",
        "  ave_loss = loss_accum / (i_step + 1)\n",
        "  val_AUROC = compute_auroc(nn_model, val_loader)\n",
        "  print(\"Epoch: %i lr: %f; Average loss: %f, Val AUROC: %f\" % (epoch, get_lr(optimizer), ave_loss, val_AUROC))\n",
        "\n",
        "  if scheduler != None:\n",
        "    scheduler.step()\n",
        "\n",
        "  if val_AUROC > top_val_AUROC:\n",
        "    top_val_AUROC = val_AUROC\n",
        "    best_model_name = f'Best_model_{round(val_AUROC, 2)}.ckpt'\n",
        "    torch.save(nn_model, open(best_model_name, 'wb'))\n",
        "    print(\"saved\", best_model_name)"
      ]
    },
    {
      "cell_type": "markdown",
      "id": "bdaa3cd1-3201-48fa-b00a-084d5807557a",
      "metadata": {
        "id": "bdaa3cd1-3201-48fa-b00a-084d5807557a"
      },
      "source": [
        "## 6. test the best model"
      ]
    },
    {
      "cell_type": "code",
      "source": [
        "best_model = torch.load(open(best_model_name, 'rb'))\n",
        "print(best_model)"
      ],
      "metadata": {
        "id": "GtDtcz4VyhOS",
        "colab": {
          "base_uri": "https://localhost:8080/"
        },
        "outputId": "b39f9941-0274-4dfe-895a-ab376c3fa97b"
      },
      "id": "GtDtcz4VyhOS",
      "execution_count": 15,
      "outputs": [
        {
          "output_type": "stream",
          "name": "stdout",
          "text": [
            "Sequential(\n",
            "  (0): Linear(in_features=2304, out_features=256, bias=True)\n",
            "  (1): Dropout(p=0.66, inplace=False)\n",
            "  (2): BatchNorm1d(256, eps=1e-05, momentum=0.1, affine=True, track_running_stats=True)\n",
            "  (3): ReLU(inplace=True)\n",
            "  (4): Linear(in_features=256, out_features=256, bias=True)\n",
            "  (5): Dropout(p=0.66, inplace=False)\n",
            "  (6): BatchNorm1d(256, eps=1e-05, momentum=0.1, affine=True, track_running_stats=True)\n",
            "  (7): ReLU(inplace=True)\n",
            "  (8): Linear(in_features=256, out_features=2, bias=True)\n",
            ")\n"
          ]
        }
      ]
    },
    {
      "cell_type": "code",
      "execution_count": 16,
      "id": "802772c4-772d-4df6-8b15-c7c6e6e348c9",
      "metadata": {
        "id": "802772c4-772d-4df6-8b15-c7c6e6e348c9",
        "colab": {
          "base_uri": "https://localhost:8080/"
        },
        "outputId": "e4af9e54-c683-4007-91b2-a93038543578"
      },
      "outputs": [
        {
          "output_type": "stream",
          "name": "stdout",
          "text": [
            "AUROC: 81.71\n"
          ]
        }
      ],
      "source": [
        "best_model = best_model.to(device)\n",
        "best_model.eval()\n",
        "\n",
        "test_loader = DataLoader(test_set, batch_size=500)\n",
        "real_labels = []\n",
        "predictions = []\n",
        "\n",
        "for i_step, (x, y) in enumerate(test_loader):\n",
        "  x = x.to(device)\n",
        "  y = y.to(device)\n",
        "  prediction = best_model(x)\n",
        "  # select probabilities corresponding to the positive class\n",
        "  prediction = prediction[:, 1]  # positive class in the second column\n",
        "  predictions.extend(prediction.detach().cpu().numpy())\n",
        "  real_labels.extend(y.detach().cpu().numpy())\n",
        "\n",
        "auroc_score = roc_auc_score(real_labels, predictions)*100\n",
        "print('AUROC:', round(auroc_score, 2))"
      ]
    }
  ],
  "metadata": {
    "accelerator": "GPU",
    "colab": {
      "gpuType": "A100",
      "machine_shape": "hm",
      "provenance": []
    },
    "kernelspec": {
      "display_name": "Python 3",
      "name": "python3"
    },
    "language_info": {
      "codemirror_mode": {
        "name": "ipython",
        "version": 3
      },
      "file_extension": ".py",
      "mimetype": "text/x-python",
      "name": "python",
      "nbconvert_exporter": "python",
      "pygments_lexer": "ipython3",
      "version": "3.9.13"
    }
  },
  "nbformat": 4,
  "nbformat_minor": 5
}