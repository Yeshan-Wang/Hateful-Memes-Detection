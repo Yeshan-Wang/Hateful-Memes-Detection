{
  "cells": [
    {
      "cell_type": "code",
      "execution_count": null,
      "id": "3a728816-8439-4744-b0ef-f71834902406",
      "metadata": {
        "colab": {
          "base_uri": "https://localhost:8080/"
        },
        "id": "3a728816-8439-4744-b0ef-f71834902406",
        "outputId": "9935a75d-9eac-403e-bb0e-1c5bd810deaa"
      },
      "outputs": [
        {
          "output_type": "stream",
          "name": "stdout",
          "text": [
            "Mon Jul 10 14:22:20 2023       \n",
            "+-----------------------------------------------------------------------------+\n",
            "| NVIDIA-SMI 525.85.12    Driver Version: 525.85.12    CUDA Version: 12.0     |\n",
            "|-------------------------------+----------------------+----------------------+\n",
            "| GPU  Name        Persistence-M| Bus-Id        Disp.A | Volatile Uncorr. ECC |\n",
            "| Fan  Temp  Perf  Pwr:Usage/Cap|         Memory-Usage | GPU-Util  Compute M. |\n",
            "|                               |                      |               MIG M. |\n",
            "|===============================+======================+======================|\n",
            "|   0  NVIDIA A100-SXM...  Off  | 00000000:00:04.0 Off |                    0 |\n",
            "| N/A   31C    P0    44W / 400W |      0MiB / 40960MiB |      0%      Default |\n",
            "|                               |                      |             Disabled |\n",
            "+-------------------------------+----------------------+----------------------+\n",
            "                                                                               \n",
            "+-----------------------------------------------------------------------------+\n",
            "| Processes:                                                                  |\n",
            "|  GPU   GI   CI        PID   Type   Process name                  GPU Memory |\n",
            "|        ID   ID                                                   Usage      |\n",
            "|=============================================================================|\n",
            "|  No running processes found                                                 |\n",
            "+-----------------------------------------------------------------------------+\n"
          ]
        }
      ],
      "source": [
        "!nvidia-smi"
      ]
    },
    {
      "cell_type": "code",
      "execution_count": null,
      "id": "ff84dfc3-14b3-4e9c-a84e-45d220bc57d6",
      "metadata": {
        "colab": {
          "base_uri": "https://localhost:8080/"
        },
        "id": "ff84dfc3-14b3-4e9c-a84e-45d220bc57d6",
        "outputId": "cc6e4d9c-5a7a-4ccf-b463-70be82659c74"
      },
      "outputs": [
        {
          "output_type": "stream",
          "name": "stdout",
          "text": [
            "Mounted at /content/drive\n"
          ]
        }
      ],
      "source": [
        "from google.colab import drive\n",
        "drive.mount('/content/drive')\n",
        "\n",
        "! unzip -q '/content/drive/MyDrive/hateful_memes.zip' -d '/content/data'"
      ]
    },
    {
      "cell_type": "code",
      "execution_count": null,
      "id": "fcd350b4-79f8-4b8b-8d27-e58893fca8f5",
      "metadata": {
        "id": "fcd350b4-79f8-4b8b-8d27-e58893fca8f5",
        "colab": {
          "base_uri": "https://localhost:8080/"
        },
        "outputId": "5b5cae8c-d99a-4934-d6c3-7c05156d5b97"
      },
      "outputs": [
        {
          "output_type": "stream",
          "name": "stdout",
          "text": [
            "\u001b[?25l     \u001b[90m━━━━━━━━━━━━━━━━━━━━━━━━━━━━━━━━━━━━━━━━\u001b[0m \u001b[32m0.0/53.1 kB\u001b[0m \u001b[31m?\u001b[0m eta \u001b[36m-:--:--\u001b[0m\r\u001b[2K     \u001b[90m━━━━━━━━━━━━━━━━━━━━━━━━━━━━━━━━━━━━━━━━\u001b[0m \u001b[32m53.1/53.1 kB\u001b[0m \u001b[31m6.0 MB/s\u001b[0m eta \u001b[36m0:00:00\u001b[0m\n",
            "\u001b[?25h  Preparing metadata (setup.py) ... \u001b[?25l\u001b[?25hdone\n",
            "  Building wheel for clip (setup.py) ... \u001b[?25l\u001b[?25hdone\n"
          ]
        }
      ],
      "source": [
        "! pip install --quiet ftfy regex tqdm\n",
        "! pip install --quiet git+https://github.com/openai/CLIP.git"
      ]
    },
    {
      "cell_type": "code",
      "execution_count": null,
      "id": "f7588592-aa07-4e30-814b-adf3f7094b4b",
      "metadata": {
        "id": "f7588592-aa07-4e30-814b-adf3f7094b4b"
      },
      "outputs": [],
      "source": [
        "import os\n",
        "import csv\n",
        "import json\n",
        "import pandas as pd\n",
        "import numpy as np\n",
        "import matplotlib.image as img\n",
        "\n",
        "import torch\n",
        "import torch.nn as nn\n",
        "from torch.utils.data import DataLoader\n",
        "\n",
        "import torchvision\n",
        "from torchvision import transforms as T\n",
        "import torchvision.transforms.functional as F\n",
        "\n",
        "import cv2\n",
        "import clip\n",
        "from tqdm import tqdm\n",
        "from PIL import Image\n",
        "from sklearn.metrics import roc_auc_score"
      ]
    },
    {
      "cell_type": "markdown",
      "source": [
        "## 1. Integrate image captioning features as another column to the dataset"
      ],
      "metadata": {
        "id": "ASvOKpKoKlHi"
      },
      "id": "ASvOKpKoKlHi"
    },
    {
      "cell_type": "code",
      "source": [
        "# Read the caption information and store them in a dictionary using img path as key\n",
        "caption = {}\n",
        "with open('/content/drive/MyDrive/clipcap_caption.csv', 'r') as csvfile:\n",
        "  csvreader = csv.reader(csvfile)\n",
        "  for row in csvreader:\n",
        "    caption['img/'+row[0]] = row[1]\n",
        "\n",
        "file_path = ['/content/data/hateful_memes/train.jsonl',\n",
        "             '/content/data/hateful_memes/dev_seen.jsonl',\n",
        "             '/content/data/hateful_memes/test_seen.jsonl']\n",
        "\n",
        "for path in file_path:\n",
        "  # Add caption information as another column to the dataset\n",
        "  data = []\n",
        "  with open(path, 'r') as jsonfile:\n",
        "    for line in jsonfile:\n",
        "      data.append(json.loads(line))\n",
        "\n",
        "  combined_data = []\n",
        "  for item in data:\n",
        "    img = item['img']\n",
        "    combined_data.append({'id': item['id'], 'img': img, 'label': item['label'], 'text': item['text'], 'caption': caption[img]})\n",
        "\n",
        "  os.remove(path)\n",
        "  with open(path, 'w') as file:\n",
        "    for i in combined_data:\n",
        "      file.write(json.dumps(i) + '\\n')"
      ],
      "metadata": {
        "id": "w4qCI6QOLb8k"
      },
      "id": "w4qCI6QOLb8k",
      "execution_count": null,
      "outputs": []
    },
    {
      "cell_type": "markdown",
      "id": "7a8c9bb2-0949-422c-9d30-7069ad357881",
      "metadata": {
        "id": "7a8c9bb2-0949-422c-9d30-7069ad357881"
      },
      "source": [
        "## 2. Load dataset"
      ]
    },
    {
      "cell_type": "code",
      "source": [
        "class ScaleMaxSideToSize(object):\n",
        "  def __init__(self, size):\n",
        "    self.size = size\n",
        "\n",
        "  def __call__(self, sample):\n",
        "    sample = cv2.resize(sample, (self.size, self.size), interpolation=cv2.INTER_AREA)\n",
        "\n",
        "    return sample\n",
        "\n",
        "\n",
        "class CropCenter(object):\n",
        "  def __init__(self, size):\n",
        "    self.size = size\n",
        "\n",
        "  def __call__(self, sample):\n",
        "    img = sample\n",
        "    h, w, _ = img.shape\n",
        "    margin_h = (h - self.size) // 2\n",
        "    margin_w = (w - self.size) // 2\n",
        "    sample = img[margin_h:margin_h + self.size, margin_w:margin_w + self.size]\n",
        "\n",
        "    return sample"
      ],
      "metadata": {
        "id": "CcaiFYZFpTj9"
      },
      "id": "CcaiFYZFpTj9",
      "execution_count": null,
      "outputs": []
    },
    {
      "cell_type": "code",
      "execution_count": null,
      "id": "c106a57e-b40b-4769-8b23-3c55d76092c3",
      "metadata": {
        "id": "c106a57e-b40b-4769-8b23-3c55d76092c3"
      },
      "outputs": [],
      "source": [
        "class Load_Dataset(torch.utils.data.Dataset):\n",
        "  def __init__(self, data_path, transforms):\n",
        "    self.data = [json.loads(l) for l in open(data_path)]\n",
        "    self.data_dir = os.path.dirname(data_path)\n",
        "    self.transforms = transforms\n",
        "\n",
        "  def __getitem__(self, index: int):\n",
        "    path = os.path.join(self.data_dir, self.data[index][\"img\"])\n",
        "    image = cv2.imread(path)\n",
        "    image = cv2.cvtColor(image, cv2.COLOR_BGR2RGB)\n",
        "\n",
        "    text = self.data[index][\"text\"]\n",
        "    label = self.data[index][\"label\"]\n",
        "    caption = self.data[index][\"caption\"]\n",
        "\n",
        "    if self.transforms is not None:\n",
        "        image = self.transforms(image)\n",
        "\n",
        "    return image, text, label, caption\n",
        "\n",
        "  def __len__(self):\n",
        "    return len(self.data)"
      ]
    },
    {
      "cell_type": "code",
      "execution_count": null,
      "id": "dd0066bd-8704-4da6-a3b7-20b93ce65864",
      "metadata": {
        "id": "dd0066bd-8704-4da6-a3b7-20b93ce65864"
      },
      "outputs": [],
      "source": [
        "CROP_SIZE = 224\n",
        "MEAN = torch.tensor([0.485, 0.456, 0.406])\n",
        "STD = torch.tensor([0.229, 0.224, 0.225])\n",
        "\n",
        "transforms = T.Compose([\n",
        "    ScaleMaxSideToSize(CROP_SIZE),\n",
        "    CropCenter(CROP_SIZE),\n",
        "    T.ToTensor(),\n",
        "    T.Normalize(mean=MEAN, std=STD)])\n",
        "\n",
        "\n",
        "train_path = '/content/data/hateful_memes/train.jsonl'\n",
        "train_dataset = Load_Dataset(train_path, transforms)\n",
        "\n",
        "dev_path = '/content/data/hateful_memes/dev_seen.jsonl'\n",
        "dev_dataset = Load_Dataset(dev_path, transforms)\n",
        "\n",
        "test_path = '/content/data/hateful_memes/test_seen.jsonl'\n",
        "test_dataset = Load_Dataset(test_path, transforms)"
      ]
    },
    {
      "cell_type": "markdown",
      "id": "ce4b17f6-8ed7-4d2f-bcef-264d36e4acbf",
      "metadata": {
        "id": "ce4b17f6-8ed7-4d2f-bcef-264d36e4acbf"
      },
      "source": [
        "## 3. Use CLIP to encode each modality to get image, text and caption features"
      ]
    },
    {
      "cell_type": "code",
      "execution_count": null,
      "id": "1af2651d-6f91-4eaf-8e67-5c0b55818a49",
      "metadata": {
        "id": "1af2651d-6f91-4eaf-8e67-5c0b55818a49",
        "colab": {
          "base_uri": "https://localhost:8080/"
        },
        "outputId": "a80bd231-8776-41f3-cccc-a6c1c770b064"
      },
      "outputs": [
        {
          "output_type": "stream",
          "name": "stderr",
          "text": [
            "100%|████████████████████████████████████████| 890M/890M [00:03<00:00, 267MiB/s]\n"
          ]
        }
      ],
      "source": [
        "device = \"cuda\" if torch.cuda.is_available() else \"cpu\"\n",
        "CLIP_model, preprocess = clip.load('ViT-L/14', device=device)"
      ]
    },
    {
      "cell_type": "code",
      "execution_count": null,
      "id": "7cc1a8ce-457e-4d75-8524-75f4612d84ad",
      "metadata": {
        "id": "7cc1a8ce-457e-4d75-8524-75f4612d84ad",
        "colab": {
          "base_uri": "https://localhost:8080/"
        },
        "outputId": "37a295b2-b77f-4f34-a4d9-1f05909556e5"
      },
      "outputs": [
        {
          "output_type": "stream",
          "name": "stderr",
          "text": [
            "100%|██████████| 85/85 [02:23<00:00,  1.69s/it]\n",
            "100%|██████████| 5/5 [00:08<00:00,  1.66s/it]\n",
            "100%|██████████| 10/10 [00:16<00:00,  1.63s/it]\n"
          ]
        }
      ],
      "source": [
        "def encode_features(model, dataset):\n",
        "  all_features = []\n",
        "  all_labels = []\n",
        "\n",
        "  with torch.no_grad():\n",
        "    for images, texts, labels, caption in tqdm(DataLoader(dataset, batch_size=100)):\n",
        "      image_input = torch.tensor(np.stack(images)).to(device)\n",
        "      text_tokens = clip.tokenize([desc[:77] for desc in texts]).to(device)\n",
        "      caption_tokens = clip.tokenize(desc for desc in caption).to(device)\n",
        "\n",
        "      image_features = model.encode_image(image_input).type(torch.float).to(device)\n",
        "      text_features = model.encode_text(text_tokens).type(torch.float).to(device)\n",
        "      caption_features = model.encode_text(caption_tokens).type(torch.float).to(device)\n",
        "\n",
        "      features = torch.cat([image_features, text_features, caption_features], dim=1)\n",
        "      all_features.extend(features)\n",
        "      all_labels.extend(labels)\n",
        "\n",
        "  return all_features, all_labels\n",
        "\n",
        "\n",
        "# Use CLIP to encode each modality to get image, text and caption features\n",
        "features_train, labels_train = encode_features(CLIP_model, train_dataset)\n",
        "features_dev, labels_dev = encode_features(CLIP_model, dev_dataset)\n",
        "features_test, labels_test = encode_features(CLIP_model, test_dataset)"
      ]
    },
    {
      "cell_type": "code",
      "execution_count": null,
      "id": "399d9c37-8491-4788-aadc-256b32910391",
      "metadata": {
        "id": "399d9c37-8491-4788-aadc-256b32910391"
      },
      "outputs": [],
      "source": [
        "class DefineDataset(torch.utils.data.Dataset):\n",
        "  def __init__(self, features, labels):\n",
        "    self.features = features\n",
        "    self.labels = labels\n",
        "\n",
        "  def __getitem__(self, index: int):\n",
        "    return self.features[index], self.labels[index]\n",
        "\n",
        "  def __len__(self):\n",
        "    return len(self.features)\n",
        "\n",
        "\n",
        "# Define train/dev/test set using image/text/caption features and gold labels\n",
        "train_set = DefineDataset(features_train, labels_train)\n",
        "dev_set = DefineDataset(features_dev, labels_dev)\n",
        "test_set = DefineDataset(features_test, labels_test)"
      ]
    },
    {
      "cell_type": "markdown",
      "id": "5e07bb92-4639-433e-a984-84170c85b9b8",
      "metadata": {
        "id": "5e07bb92-4639-433e-a984-84170c85b9b8"
      },
      "source": [
        "## 4. Construct a neural network for classification"
      ]
    },
    {
      "cell_type": "code",
      "execution_count": null,
      "id": "f4668dcc-54b2-4036-861b-2fe3849841fb",
      "metadata": {
        "id": "f4668dcc-54b2-4036-861b-2fe3849841fb"
      },
      "outputs": [],
      "source": [
        "torch.manual_seed(515)\n",
        "input_shape = features_train[0].shape[0]\n",
        "num_classes = 2\n",
        "shape = 256\n",
        "\n",
        "nn_model = nn.Sequential(\n",
        "    nn.Linear(input_shape, shape),\n",
        "    nn.Dropout(0.66),\n",
        "    nn.BatchNorm1d(shape),\n",
        "    nn.ReLU(inplace=True),\n",
        "\n",
        "    nn.Linear(shape, shape),\n",
        "    nn.Dropout(0.66),\n",
        "    nn.BatchNorm1d(shape),\n",
        "    nn.ReLU(inplace=True),\n",
        "\n",
        "    nn.Linear(shape, num_classes),)\n",
        "\n",
        "nn_model = nn_model.to(device)\n",
        "loss = nn.CrossEntropyLoss()\n",
        "optimizer = torch.optim.Adam(nn_model.parameters(), lr=1e-2)\n",
        "scheduler = torch.optim.lr_scheduler.StepLR(optimizer, step_size=10, gamma=0.8)"
      ]
    },
    {
      "cell_type": "markdown",
      "id": "325c07d5-2902-46ed-b60d-36ca93543c34",
      "metadata": {
        "id": "325c07d5-2902-46ed-b60d-36ca93543c34"
      },
      "source": [
        "## 5. Train and validate the classification model and save the best model after 100 epochs of training"
      ]
    },
    {
      "cell_type": "code",
      "execution_count": null,
      "id": "b7700aaa-c37c-4b18-a30b-8e1df1653d51",
      "metadata": {
        "id": "b7700aaa-c37c-4b18-a30b-8e1df1653d51"
      },
      "outputs": [],
      "source": [
        "def get_lr(optimizer):\n",
        "  for param_group in optimizer.param_groups:\n",
        "    return param_group['lr']  # Retrieve the learning rate value from optimizer\n",
        "\n",
        "def compute_auroc(model, loader):\n",
        "  \"\"\"\n",
        "  Compute AUROC on the dataset wrapped in a loader\n",
        "  Return: AUROC score as a float value between 0 and 1\n",
        "  \"\"\"\n",
        "  model.eval()\n",
        "  real_labels = []\n",
        "  probabilities = []\n",
        "\n",
        "  for i_step, (x, y) in enumerate(loader):\n",
        "    x = x.to(device)\n",
        "    y = y.to(device)\n",
        "    prediction = model(x)\n",
        "    # select probabilities corresponding to the positive class\n",
        "    prediction = prediction[:, 1]  # positive class in the second column\n",
        "    probabilities.extend(prediction.detach().cpu().numpy())\n",
        "    real_labels.extend(y.detach().cpu().numpy())\n",
        "\n",
        "  auroc = roc_auc_score(real_labels, probabilities)*100\n",
        "  return auroc"
      ]
    },
    {
      "cell_type": "code",
      "execution_count": null,
      "id": "9e602c43-d58b-490a-b7d4-0e8c1190d93b",
      "metadata": {
        "id": "9e602c43-d58b-490a-b7d4-0e8c1190d93b",
        "colab": {
          "base_uri": "https://localhost:8080/"
        },
        "outputId": "e5bc329e-b209-41e7-af07-b898be4b49cf"
      },
      "outputs": [
        {
          "output_type": "stream",
          "name": "stdout",
          "text": [
            "Epoch: 0 lr: 0.010000; Average loss: 0.610313, Val AUROC: 70.669376\n",
            "saved Best_model_70.67.ckpt\n",
            "Epoch: 1 lr: 0.010000; Average loss: 0.496760, Val AUROC: 72.994511\n",
            "saved Best_model_72.99.ckpt\n",
            "Epoch: 2 lr: 0.010000; Average loss: 0.431442, Val AUROC: 74.666752\n",
            "saved Best_model_74.67.ckpt\n",
            "Epoch: 3 lr: 0.010000; Average loss: 0.397019, Val AUROC: 76.900674\n",
            "saved Best_model_76.9.ckpt\n",
            "Epoch: 4 lr: 0.010000; Average loss: 0.372846, Val AUROC: 76.129363\n",
            "Epoch: 5 lr: 0.010000; Average loss: 0.355265, Val AUROC: 77.767999\n",
            "saved Best_model_77.77.ckpt\n",
            "Epoch: 6 lr: 0.010000; Average loss: 0.327987, Val AUROC: 77.172713\n",
            "Epoch: 7 lr: 0.010000; Average loss: 0.318471, Val AUROC: 78.014434\n",
            "saved Best_model_78.01.ckpt\n",
            "Epoch: 8 lr: 0.010000; Average loss: 0.289661, Val AUROC: 78.332880\n",
            "saved Best_model_78.33.ckpt\n",
            "Epoch: 9 lr: 0.010000; Average loss: 0.272549, Val AUROC: 77.619177\n",
            "Epoch: 10 lr: 0.008000; Average loss: 0.247418, Val AUROC: 78.148853\n",
            "Epoch: 11 lr: 0.008000; Average loss: 0.236530, Val AUROC: 78.584116\n",
            "saved Best_model_78.58.ckpt\n",
            "Epoch: 12 lr: 0.008000; Average loss: 0.206036, Val AUROC: 79.262614\n",
            "saved Best_model_79.26.ckpt\n",
            "Epoch: 13 lr: 0.008000; Average loss: 0.197291, Val AUROC: 79.413035\n",
            "saved Best_model_79.41.ckpt\n",
            "Epoch: 14 lr: 0.008000; Average loss: 0.175237, Val AUROC: 78.297675\n",
            "Epoch: 15 lr: 0.008000; Average loss: 0.168547, Val AUROC: 78.692932\n",
            "Epoch: 16 lr: 0.008000; Average loss: 0.165326, Val AUROC: 78.558512\n",
            "Epoch: 17 lr: 0.008000; Average loss: 0.154078, Val AUROC: 79.294618\n",
            "Epoch: 18 lr: 0.008000; Average loss: 0.140921, Val AUROC: 78.723336\n",
            "Epoch: 19 lr: 0.008000; Average loss: 0.134388, Val AUROC: 79.089789\n",
            "Epoch: 20 lr: 0.006400; Average loss: 0.135348, Val AUROC: 79.262614\n",
            "Epoch: 21 lr: 0.006400; Average loss: 0.113992, Val AUROC: 79.489847\n",
            "saved Best_model_79.49.ckpt\n",
            "Epoch: 22 lr: 0.006400; Average loss: 0.111737, Val AUROC: 78.979373\n",
            "Epoch: 23 lr: 0.006400; Average loss: 0.113333, Val AUROC: 78.700933\n",
            "Epoch: 24 lr: 0.006400; Average loss: 0.107139, Val AUROC: 79.985918\n",
            "saved Best_model_79.99.ckpt\n",
            "Epoch: 25 lr: 0.006400; Average loss: 0.089777, Val AUROC: 79.358628\n",
            "Epoch: 26 lr: 0.006400; Average loss: 0.092826, Val AUROC: 78.700933\n",
            "Epoch: 27 lr: 0.006400; Average loss: 0.089191, Val AUROC: 78.806548\n",
            "Epoch: 28 lr: 0.006400; Average loss: 0.077198, Val AUROC: 78.646525\n",
            "Epoch: 29 lr: 0.006400; Average loss: 0.083568, Val AUROC: 79.291418\n",
            "Epoch: 30 lr: 0.005120; Average loss: 0.068819, Val AUROC: 79.115393\n",
            "Epoch: 31 lr: 0.005120; Average loss: 0.065355, Val AUROC: 78.820950\n",
            "Epoch: 32 lr: 0.005120; Average loss: 0.064523, Val AUROC: 78.563313\n",
            "Epoch: 33 lr: 0.005120; Average loss: 0.063644, Val AUROC: 78.777744\n",
            "Epoch: 34 lr: 0.005120; Average loss: 0.061091, Val AUROC: 79.136196\n",
            "Epoch: 35 lr: 0.005120; Average loss: 0.050613, Val AUROC: 79.043382\n",
            "Epoch: 36 lr: 0.005120; Average loss: 0.055179, Val AUROC: 78.936167\n",
            "Epoch: 37 lr: 0.005120; Average loss: 0.048589, Val AUROC: 79.134595\n",
            "Epoch: 38 lr: 0.005120; Average loss: 0.049209, Val AUROC: 79.454641\n",
            "Epoch: 39 lr: 0.005120; Average loss: 0.048754, Val AUROC: 79.408235\n",
            "Epoch: 40 lr: 0.004096; Average loss: 0.045883, Val AUROC: 78.566514\n",
            "Epoch: 41 lr: 0.004096; Average loss: 0.042702, Val AUROC: 78.393689\n",
            "Epoch: 42 lr: 0.004096; Average loss: 0.045065, Val AUROC: 79.374630\n",
            "Epoch: 43 lr: 0.004096; Average loss: 0.038773, Val AUROC: 79.230609\n",
            "Epoch: 44 lr: 0.004096; Average loss: 0.037880, Val AUROC: 79.075387\n",
            "Epoch: 45 lr: 0.004096; Average loss: 0.037418, Val AUROC: 79.291418\n",
            "Epoch: 46 lr: 0.004096; Average loss: 0.035065, Val AUROC: 79.017779\n",
            "Epoch: 47 lr: 0.004096; Average loss: 0.039356, Val AUROC: 79.425837\n",
            "Epoch: 48 lr: 0.004096; Average loss: 0.032556, Val AUROC: 79.896305\n",
            "Epoch: 49 lr: 0.004096; Average loss: 0.036173, Val AUROC: 79.509049\n",
            "Epoch: 50 lr: 0.003277; Average loss: 0.028216, Val AUROC: 79.542654\n",
            "Epoch: 51 lr: 0.003277; Average loss: 0.030124, Val AUROC: 79.049783\n",
            "Epoch: 52 lr: 0.003277; Average loss: 0.029669, Val AUROC: 79.036981\n",
            "Epoch: 53 lr: 0.003277; Average loss: 0.032222, Val AUROC: 79.235410\n",
            "Epoch: 54 lr: 0.003277; Average loss: 0.027347, Val AUROC: 78.896161\n",
            "Epoch: 55 lr: 0.003277; Average loss: 0.026728, Val AUROC: 78.840153\n",
            "Epoch: 56 lr: 0.003277; Average loss: 0.027240, Val AUROC: 78.220864\n",
            "Epoch: 57 lr: 0.003277; Average loss: 0.020471, Val AUROC: 78.704133\n",
            "Epoch: 58 lr: 0.003277; Average loss: 0.026138, Val AUROC: 78.580916\n",
            "Epoch: 59 lr: 0.003277; Average loss: 0.026442, Val AUROC: 78.470500\n",
            "Epoch: 60 lr: 0.002621; Average loss: 0.026552, Val AUROC: 78.870557\n",
            "Epoch: 61 lr: 0.002621; Average loss: 0.019056, Val AUROC: 78.859356\n",
            "Epoch: 62 lr: 0.002621; Average loss: 0.018553, Val AUROC: 78.702533\n",
            "Epoch: 63 lr: 0.002621; Average loss: 0.018755, Val AUROC: 78.960170\n",
            "Epoch: 64 lr: 0.002621; Average loss: 0.016849, Val AUROC: 79.019379\n",
            "Epoch: 65 lr: 0.002621; Average loss: 0.021318, Val AUROC: 78.806548\n",
            "Epoch: 66 lr: 0.002621; Average loss: 0.020971, Val AUROC: 79.219408\n",
            "Epoch: 67 lr: 0.002621; Average loss: 0.017751, Val AUROC: 78.955370\n",
            "Epoch: 68 lr: 0.002621; Average loss: 0.017481, Val AUROC: 79.248212\n",
            "Epoch: 69 lr: 0.002621; Average loss: 0.016002, Val AUROC: 79.421037\n",
            "Epoch: 70 lr: 0.002097; Average loss: 0.018297, Val AUROC: 79.185803\n",
            "Epoch: 71 lr: 0.002097; Average loss: 0.016339, Val AUROC: 79.038582\n",
            "Epoch: 72 lr: 0.002097; Average loss: 0.016763, Val AUROC: 78.836953\n",
            "Epoch: 73 lr: 0.002097; Average loss: 0.016971, Val AUROC: 78.888160\n",
            "Epoch: 74 lr: 0.002097; Average loss: 0.016900, Val AUROC: 78.840153\n",
            "Epoch: 75 lr: 0.002097; Average loss: 0.015309, Val AUROC: 78.544110\n",
            "Epoch: 76 lr: 0.002097; Average loss: 0.015030, Val AUROC: 78.843353\n",
            "Epoch: 77 lr: 0.002097; Average loss: 0.015845, Val AUROC: 78.878559\n",
            "Epoch: 78 lr: 0.002097; Average loss: 0.014205, Val AUROC: 79.025780\n",
            "Epoch: 79 lr: 0.002097; Average loss: 0.013476, Val AUROC: 78.809749\n",
            "Epoch: 80 lr: 0.001678; Average loss: 0.014264, Val AUROC: 78.963371\n",
            "Epoch: 81 lr: 0.001678; Average loss: 0.012691, Val AUROC: 78.921765\n",
            "Epoch: 82 lr: 0.001678; Average loss: 0.010351, Val AUROC: 78.908963\n",
            "Epoch: 83 lr: 0.001678; Average loss: 0.012065, Val AUROC: 78.960170\n",
            "Epoch: 84 lr: 0.001678; Average loss: 0.009918, Val AUROC: 79.017779\n",
            "Epoch: 85 lr: 0.001678; Average loss: 0.012171, Val AUROC: 78.923365\n",
            "Epoch: 86 lr: 0.001678; Average loss: 0.010340, Val AUROC: 78.982573\n",
            "Epoch: 87 lr: 0.001678; Average loss: 0.012958, Val AUROC: 79.355427\n",
            "Epoch: 88 lr: 0.001678; Average loss: 0.010791, Val AUROC: 79.349026\n",
            "Epoch: 89 lr: 0.001678; Average loss: 0.012459, Val AUROC: 79.550655\n",
            "Epoch: 90 lr: 0.001342; Average loss: 0.012032, Val AUROC: 79.507449\n",
            "Epoch: 91 lr: 0.001342; Average loss: 0.012141, Val AUROC: 79.395433\n",
            "Epoch: 92 lr: 0.001342; Average loss: 0.010509, Val AUROC: 79.409835\n",
            "Epoch: 93 lr: 0.001342; Average loss: 0.010605, Val AUROC: 79.552256\n",
            "Epoch: 94 lr: 0.001342; Average loss: 0.008327, Val AUROC: 79.569858\n",
            "Epoch: 95 lr: 0.001342; Average loss: 0.010277, Val AUROC: 79.526652\n",
            "Epoch: 96 lr: 0.001342; Average loss: 0.008970, Val AUROC: 79.525052\n",
            "Epoch: 97 lr: 0.001342; Average loss: 0.009696, Val AUROC: 79.467443\n",
            "Epoch: 98 lr: 0.001342; Average loss: 0.010016, Val AUROC: 79.437039\n",
            "Epoch: 99 lr: 0.001342; Average loss: 0.008602, Val AUROC: 79.456242\n"
          ]
        }
      ],
      "source": [
        "train_loader = DataLoader(train_set, batch_size=500)\n",
        "val_loader = DataLoader(dev_set, batch_size=500)\n",
        "top_val_AUROC = 70\n",
        "\n",
        "for epoch in range(100):\n",
        "  nn_model.train()\n",
        "  loss_accum = 0\n",
        "  for i_step, (x, y) in enumerate(train_loader):\n",
        "    x = x.to(device)\n",
        "    y = y.to(device)\n",
        "    prediction = nn_model(x)\n",
        "    loss_value = loss(prediction, y.type(torch.long))\n",
        "    optimizer.zero_grad()\n",
        "    loss_value.backward()\n",
        "    optimizer.step()\n",
        "    loss_accum += loss_value\n",
        "\n",
        "  ave_loss = loss_accum / (i_step + 1)\n",
        "  val_AUROC = compute_auroc(nn_model, val_loader)\n",
        "  print(\"Epoch: %i lr: %f; Average loss: %f, Val AUROC: %f\" % (epoch, get_lr(optimizer), ave_loss, val_AUROC))\n",
        "\n",
        "  if scheduler != None:\n",
        "    scheduler.step()\n",
        "\n",
        "  if val_AUROC > top_val_AUROC:\n",
        "    top_val_AUROC = val_AUROC\n",
        "    best_model_name = f'Best_model_{round(val_AUROC, 2)}.ckpt'\n",
        "    torch.save(nn_model, open(best_model_name, 'wb'))\n",
        "    print(\"saved\", best_model_name)"
      ]
    },
    {
      "cell_type": "markdown",
      "id": "bdaa3cd1-3201-48fa-b00a-084d5807557a",
      "metadata": {
        "id": "bdaa3cd1-3201-48fa-b00a-084d5807557a"
      },
      "source": [
        "## 6. test the best model"
      ]
    },
    {
      "cell_type": "code",
      "source": [
        "best_model = torch.load(open(best_model_name, 'rb'))\n",
        "print(best_model)"
      ],
      "metadata": {
        "id": "GtDtcz4VyhOS",
        "colab": {
          "base_uri": "https://localhost:8080/"
        },
        "outputId": "01552fe8-b105-4df3-ce9f-e4cb06661fc5"
      },
      "id": "GtDtcz4VyhOS",
      "execution_count": null,
      "outputs": [
        {
          "output_type": "stream",
          "name": "stdout",
          "text": [
            "Sequential(\n",
            "  (0): Linear(in_features=2304, out_features=256, bias=True)\n",
            "  (1): Dropout(p=0.66, inplace=False)\n",
            "  (2): BatchNorm1d(256, eps=1e-05, momentum=0.1, affine=True, track_running_stats=True)\n",
            "  (3): ReLU(inplace=True)\n",
            "  (4): Linear(in_features=256, out_features=256, bias=True)\n",
            "  (5): Dropout(p=0.66, inplace=False)\n",
            "  (6): BatchNorm1d(256, eps=1e-05, momentum=0.1, affine=True, track_running_stats=True)\n",
            "  (7): ReLU(inplace=True)\n",
            "  (8): Linear(in_features=256, out_features=2, bias=True)\n",
            ")\n"
          ]
        }
      ]
    },
    {
      "cell_type": "code",
      "execution_count": null,
      "id": "802772c4-772d-4df6-8b15-c7c6e6e348c9",
      "metadata": {
        "id": "802772c4-772d-4df6-8b15-c7c6e6e348c9",
        "colab": {
          "base_uri": "https://localhost:8080/"
        },
        "outputId": "78603c05-6c0f-407a-94f7-fc2d124d2415"
      },
      "outputs": [
        {
          "output_type": "stream",
          "name": "stdout",
          "text": [
            "AUROC: 80.39\n"
          ]
        }
      ],
      "source": [
        "best_model = best_model.to(device)\n",
        "best_model.eval()\n",
        "\n",
        "test_loader = DataLoader(test_set, batch_size=500)\n",
        "real_labels = []\n",
        "predictions = []\n",
        "\n",
        "for i_step, (x, y) in enumerate(test_loader):\n",
        "  x = x.to(device)\n",
        "  y = y.to(device)\n",
        "  prediction = best_model(x)\n",
        "  # select probabilities corresponding to the positive class\n",
        "  prediction = prediction[:, 1]  # positive class in the second column\n",
        "  predictions.extend(prediction.detach().cpu().numpy())\n",
        "  real_labels.extend(y.detach().cpu().numpy())\n",
        "\n",
        "auroc_score = roc_auc_score(real_labels, predictions)*100\n",
        "print('AUROC:', round(auroc_score, 2))"
      ]
    }
  ],
  "metadata": {
    "accelerator": "GPU",
    "colab": {
      "gpuType": "A100",
      "machine_shape": "hm",
      "provenance": []
    },
    "kernelspec": {
      "display_name": "Python 3",
      "name": "python3"
    },
    "language_info": {
      "codemirror_mode": {
        "name": "ipython",
        "version": 3
      },
      "file_extension": ".py",
      "mimetype": "text/x-python",
      "name": "python",
      "nbconvert_exporter": "python",
      "pygments_lexer": "ipython3",
      "version": "3.9.13"
    }
  },
  "nbformat": 4,
  "nbformat_minor": 5
}